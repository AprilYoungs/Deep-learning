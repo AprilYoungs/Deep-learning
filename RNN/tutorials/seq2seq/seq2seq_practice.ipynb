{
 "cells": [
  {
   "cell_type": "code",
   "execution_count": 1,
   "metadata": {
    "collapsed": true
   },
   "outputs": [],
   "source": [
    "import numpy as np\n",
    "import time\n",
    "\n",
    "import helper"
   ]
  },
  {
   "cell_type": "code",
   "execution_count": 2,
   "metadata": {
    "collapsed": true
   },
   "outputs": [],
   "source": [
    "source_path = \"data/letters_source.txt\"\n",
    "target_path = \"data/letters_target.txt\"\n",
    "\n",
    "source_sentences = helper.load_data(source_path)\n",
    "target_sentences = helper.load_data(target_path)"
   ]
  },
  {
   "cell_type": "code",
   "execution_count": 3,
   "metadata": {},
   "outputs": [
    {
     "data": {
      "text/plain": [
       "['bsaqq',\n",
       " 'npy',\n",
       " 'lbwuj',\n",
       " 'bqv',\n",
       " 'kial',\n",
       " 'tddam',\n",
       " 'edxpjpg',\n",
       " 'nspv',\n",
       " 'huloz',\n",
       " 'kmclq']"
      ]
     },
     "execution_count": 3,
     "metadata": {},
     "output_type": "execute_result"
    }
   ],
   "source": [
    "source_sentences.split('\\n')[:10]"
   ]
  },
  {
   "cell_type": "code",
   "execution_count": 4,
   "metadata": {},
   "outputs": [
    {
     "data": {
      "text/plain": [
       "['abqqs',\n",
       " 'npy',\n",
       " 'bjluw',\n",
       " 'bqv',\n",
       " 'aikl',\n",
       " 'addmt',\n",
       " 'degjppx',\n",
       " 'npsv',\n",
       " 'hlouz',\n",
       " 'cklmq']"
      ]
     },
     "execution_count": 4,
     "metadata": {},
     "output_type": "execute_result"
    }
   ],
   "source": [
    "target_sentences.split('\\n')[:10]"
   ]
  },
  {
   "cell_type": "code",
   "execution_count": 5,
   "metadata": {
    "collapsed": true
   },
   "outputs": [],
   "source": [
    "def extract_character_vocab(data):\n",
    "    special_words = [\"<PAD>\", \"<UNK>\", \"<GO>\", \"<EOS>\"]\n",
    "    \n",
    "    set_words = set([character for line in data.split(\"\\n\") for character in line])\n",
    "    int_to_vocab = dict(enumerate(special_words+list(set_words)))\n",
    "    vocab_to_int = {word:key for key,word in int_to_vocab.items()}\n",
    "    \n",
    "    return int_to_vocab, vocab_to_int\n",
    "\n",
    "source_int_to_letter, source_letter_to_int = extract_character_vocab(source_sentences)\n",
    "target_int_to_letter, target_letter_to_int = extract_character_vocab(target_sentences)\n",
    "\n",
    "source_letter_ids = [[source_letter_to_int.get(character, source_letter_to_int[\"<UNK>\"])\\\n",
    "                      for character in line]\\\n",
    "                     for line in source_sentences.split(\"\\n\")]\n",
    "target_letter_ids = [[target_letter_to_int.get(character, target_letter_to_int[\"<UNK>\"])\\\n",
    "                      for character in line]+[target_letter_to_int[\"<EOS>\"]]\\\n",
    "                     for line in target_sentences.split(\"\\n\")]"
   ]
  },
  {
   "cell_type": "code",
   "execution_count": 6,
   "metadata": {},
   "outputs": [
    {
     "name": "stdout",
     "output_type": "stream",
     "text": [
      "source:\n",
      "[[18, 4, 29, 27, 27], [15, 9, 28], [20, 18, 10, 16, 11]]\n",
      "targets\n",
      "[[29, 18, 27, 27, 4, 3], [15, 9, 28, 3], [18, 11, 20, 16, 10, 3]]\n"
     ]
    }
   ],
   "source": [
    "print(\"source:\")\n",
    "print(source_letter_ids[:3])\n",
    "print(\"targets\")\n",
    "print(target_letter_ids[:3])"
   ]
  },
  {
   "cell_type": "markdown",
   "metadata": {},
   "source": [
    "## Model"
   ]
  },
  {
   "cell_type": "markdown",
   "metadata": {},
   "source": [
    " **check tensorflow version**"
   ]
  },
  {
   "cell_type": "code",
   "execution_count": 7,
   "metadata": {},
   "outputs": [
    {
     "name": "stdout",
     "output_type": "stream",
     "text": [
      "Tensorflow version: 1.3.0\n"
     ]
    }
   ],
   "source": [
    "from distutils.version import LooseVersion\n",
    "import tensorflow as tf\n",
    "from tensorflow.python.layers.core import Dense\n",
    "\n",
    "assert LooseVersion(tf.__version__)>=LooseVersion(\"1.1\"), 'Please use Tensorflow version 1.1 or newer'\n",
    "print(\"Tensorflow version: {}\".format(tf.__version__))"
   ]
  },
  {
   "cell_type": "markdown",
   "metadata": {},
   "source": [
    "## Hyperparameters"
   ]
  },
  {
   "cell_type": "code",
   "execution_count": 8,
   "metadata": {
    "collapsed": true
   },
   "outputs": [],
   "source": [
    "epochs = 60\n",
    "batch_size = 128\n",
    "rnn_size = 50\n",
    "num_layers= 2\n",
    "encoding_embedding_size = 15\n",
    "decoding_embedding_size = 15\n",
    "learning_rate = 0.001"
   ]
  },
  {
   "cell_type": "markdown",
   "metadata": {},
   "source": [
    "## Inputs"
   ]
  },
  {
   "cell_type": "code",
   "execution_count": 9,
   "metadata": {
    "collapsed": true
   },
   "outputs": [],
   "source": [
    "def get_model_inputs():\n",
    "    input_data = tf.placeholder(tf.int32, [None, None], name=\"input\")\n",
    "    targets = tf.placeholder(tf.int32, [None, None], name=\"targets\")\n",
    "    lr = tf.placeholder(tf.float32, name=\"learning_rate\")\n",
    "    \n",
    "    ## What's this is all about?\n",
    "    target_sequence_length = tf.placeholder(tf.int32, (None,), name=\"target_sequence_length\")\n",
    "    max_target_sequence_length = tf.reduce_max(target_sequence_length, name=\"max_target_len\")\n",
    "    source_sequence_length = tf.placeholder(tf.int32, (None,), name=\"source_sequence_length\")\n",
    "    \n",
    "    return input_data, targets, lr, target_sequence_length,\\\n",
    "            max_target_sequence_length, source_sequence_length"
   ]
  },
  {
   "cell_type": "markdown",
   "metadata": {},
   "source": [
    "## Sequence to Sequence model"
   ]
  },
  {
   "cell_type": "markdown",
   "metadata": {},
   "source": [
    "### Encoder\n",
    "\n",
    "The first bit of the model we'll build is the encoder. Here, we'll embed the input data, construct our encoder, then pass the embedded data to the encoder.\n",
    "\n",
    "- Embed the input data using [`tf.contrib.layers.embed_sequence`](https://www.tensorflow.org/api_docs/python/tf/contrib/layers/embed_sequence)\n",
    "<img src=\"images/embed_sequence.png\" />\n",
    "\n",
    "- Pass the embedded input into a stack of RNNs.  Save the RNN state and ignore the output.\n",
    "<img src=\"images/encoder.png\" />"
   ]
  },
  {
   "cell_type": "code",
   "execution_count": 10,
   "metadata": {},
   "outputs": [
    {
     "name": "stderr",
     "output_type": "stream",
     "text": [
      "/Users/April/anaconda3/lib/python3.6/site-packages/h5py/__init__.py:34: FutureWarning: Conversion of the second argument of issubdtype from `float` to `np.floating` is deprecated. In future, it will be treated as `np.float64 == np.dtype(float).type`.\n",
      "  from ._conv import register_converters as _register_converters\n"
     ]
    },
    {
     "data": {
      "text/plain": [
       "'Maps a sequence of symbols to a sequence of embeddings.\\n\\n  Typical use case would be reusing embeddings between an encoder and decoder.\\n\\n  Args:\\n    ids: `[batch_size, doc_length]` `Tensor` of type `int32` or `int64`\\n      with symbol ids.\\n    vocab_size: Integer number of symbols in vocabulary.\\n    embed_dim: Integer number of dimensions for embedding matrix.\\n    unique: If `True`, will first compute the unique set of indices, and then\\n         lookup each embedding once, repeating them in the output as needed.\\n    initializer: An initializer for the embeddings, if `None` default for\\n        current scope is used.\\n    regularizer: Optional regularizer for the embeddings.\\n    trainable: If `True` also add variables to the graph collection\\n      `GraphKeys.TRAINABLE_VARIABLES` (see `tf.Variable`).\\n    scope: Optional string specifying the variable scope for the op, required\\n        if `reuse=True`.\\n    reuse: If `True`, variables inside the op will be reused.\\n\\n  Returns:\\n    `Tensor` of `[batch_size, doc_length, embed_dim]` with embedded sequences.\\n\\n  Raises:\\n    ValueError: if `embed_dim` or `vocab_size` are not specified when\\n      `reuse` is `None` or `False`.\\n  '"
      ]
     },
     "execution_count": 10,
     "metadata": {},
     "output_type": "execute_result"
    }
   ],
   "source": [
    "tf.contrib.layers.embed_sequence.__doc__"
   ]
  },
  {
   "cell_type": "code",
   "execution_count": 11,
   "metadata": {
    "collapsed": true
   },
   "outputs": [],
   "source": [
    "import matplotlib.pyplot as plt\n",
    "%matplotlib inline\n",
    "%config InlineBackend.figure_format = 'retina'"
   ]
  },
  {
   "cell_type": "code",
   "execution_count": 12,
   "metadata": {
    "collapsed": true
   },
   "outputs": [],
   "source": [
    "x = np.linspace(-1,1)\n",
    "y = np.tanh(x)"
   ]
  },
  {
   "cell_type": "code",
   "execution_count": 13,
   "metadata": {
    "scrolled": true
   },
   "outputs": [
    {
     "data": {
      "image/png": "[encoded data removed]",
      "text/plain": [
       "<matplotlib.figure.Figure at 0x1a1afd4048>"
      ]
     },
     "metadata": {
      "image/png": {
       "height": 263,
       "width": 388
      }
     },
     "output_type": "display_data"
    }
   ],
   "source": [
    "plt.plot(x, x)\n",
    "plt.plot(x, y)\n",
    "plt.legend([\"y=x\",\"y=tanh(x)\"])\n",
    "plt.title(\"The tanh curve\")\n",
    "plt.grid()"
   ]
  },
  {
   "cell_type": "code",
   "execution_count": 14,
   "metadata": {},
   "outputs": [
    {
     "data": {
      "text/plain": [
       "<function tensorflow.contrib.layers.python.layers.encoders.embed_sequence>"
      ]
     },
     "execution_count": 14,
     "metadata": {},
     "output_type": "execute_result"
    }
   ],
   "source": [
    "tf.contrib.layers.embed_sequence"
   ]
  },
  {
   "cell_type": "code",
   "execution_count": 22,
   "metadata": {
    "collapsed": true
   },
   "outputs": [],
   "source": [
    "def encoding_layer(input_data, rnn_size, num_layers,\n",
    "                  source_sequence_length, source_vocab_size,\n",
    "                  encoding_embedding_size):\n",
    "    \n",
    "    #     embeddings shape -> [vocab_size, embed_dim]\n",
    "    enc_embed_input = tf.contrib.layers.embed_sequence(ids=input_data,\n",
    "                                                       vocab_size=source_vocab_size,\n",
    "                                                       embed_dim=encoding_embedding_size)\n",
    "    \n",
    "    def make_cell(rnn_size):\n",
    "        enc_cell = tf.contrib.rnn.LSTMCell(num_units=rnn_size,\n",
    "                                           initializer=tf.random_uniform_initializer(-0.1,0.1, seed=2))\n",
    "        return enc_cell\n",
    "    \n",
    "    enc_cell = tf.contrib.rnn.MultiRNNCell([make_cell(rnn_size) for _ in range(num_layers)])\n",
    "    \n",
    "    enc_output, enc_state = tf.nn.dynamic_rnn(cell=enc_cell,\n",
    "                                              inputs=enc_embed_input, \n",
    "                                              sequence_length=source_sequence_length,\n",
    "                                              dtype=tf.float32)\n",
    "    return enc_output, enc_state"
   ]
  },
  {
   "cell_type": "markdown",
   "metadata": {},
   "source": [
    "### Decoder"
   ]
  },
  {
   "cell_type": "code",
   "execution_count": 16,
   "metadata": {
    "collapsed": true
   },
   "outputs": [],
   "source": [
    "def process_decoder_input(target_data, vocab_to_int, batch_size):\n",
    "    ending = tf.strided_slice(target_data, [0, 0], [batch_size, -1], [1, 1])\n",
    "    decoder_input = tf.concat([tf.fill([batch_size, 1], vocab_to_int[\"<GO>\"]), ending], 1)\n",
    "    \n",
    "    return decoder_input"
   ]
  },
  {
   "cell_type": "markdown",
   "metadata": {},
   "source": [
    "### Set up the decoder components"
   ]
  },
  {
   "cell_type": "markdown",
   "metadata": {},
   "source": [
    "#### 4- Training decoder\n",
    "Essentially, we'll be creating two decoders which share their parameters. One for training and one for inference. The two are similar in that both created using tf.contrib.seq2seq.**BasicDecoder** and tf.contrib.seq2seq.**dynamic_decode**. They differ, however, in that we feed the the target sequences as inputs to the training decoder at each time step to make it more robust.\n",
    "\n",
    "We can think of the training decoder as looking like this (except that it works with sequences in batches):\n",
    "<img src=\"images/sequence-to-sequence-training-decoder.png\"/>\n",
    "和给图片加描述,类似的结构.翻译也是可以用这样的结构.处理完输入的(encoder),然后再处理输出(decoder),\n",
    "训练的时候,提供更多的信息,让模型更健壮\n",
    "\n",
    "The training decoder **does not** feed the output of each time step to the next. Rather, the inputs to the decoder time steps are the target sequence from the training dataset (the orange letters).\n",
    "\n",
    "#### 5- Inference decoder\n",
    "The inference decoder is the one we'll use when we deploy our model to the wild.\n",
    "\n",
    "<img src=\"images/sequence-to-sequence-inference-decoder.png\"/>\n",
    "预测的时候,decoder的上一个输出会作为下一个输入,如此循环\n",
    "\n",
    "We'll hand our encoder hidden state to both the training and inference decoders and have it process its output. TensorFlow handles most of the logic for us. We just have to use the appropriate methods from tf.contrib.seq2seq and supply them with the appropriate inputs."
   ]
  },
  {
   "cell_type": "code",
   "execution_count": 17,
   "metadata": {
    "collapsed": true
   },
   "outputs": [],
   "source": [
    "def decoding_layer(target_letter_to_int, decoding_embedding_size, num_layers, rnn_size,\n",
    "                  target_sequence_length, max_target_sequence_length, enc_state, dec_input):\n",
    "    # 1. Decoding embed\n",
    "    target_vocab_size = len(target_letter_to_int)\n",
    "    dec_embeddings = tf.Variable(tf.random_uniform([target_vocab_size, decoding_embedding_size]))\n",
    "    dec_embed_input = tf.nn.embedding_lookup(dec_embeddings, dec_input)\n",
    "    \n",
    "    # 2. decoder cell\n",
    "    def make_cell(rnn_size):\n",
    "        dec_cell = tf.contrib.rnn.LSTMCell(rnn_size,\n",
    "                                           initializer=tf.random_uniform_initializer(-0.1, 0.1, seed=2))\n",
    "        return dec_cell\n",
    "    \n",
    "    dec_cell = tf.contrib.rnn.MultiRNNCell([make_cell(rnn_size) for _ in range(num_layers)])\n",
    "    \n",
    "    # 3. Dense layer,output the choice from the target vocabulary\n",
    "    output_layer = Dense(target_vocab_size, \n",
    "                         kernel_initializer=tf.truncated_normal_initializer(mean=0.0, stddev=0.1))\n",
    "    \n",
    "    # 4. 訓練用的decoder 和 預測用的 decoder\n",
    "    # 訓練用的decoder\n",
    "    with tf.variable_scope(\"decoder\"):\n",
    "        \n",
    "        # 用於訓練時,讀取輸入\n",
    "        training_helper = tf.contrib.seq2seq.TrainingHelper(inputs=dec_embed_input,\n",
    "                                                            sequence_length=target_sequence_length, \n",
    "                                                            time_major=False)\n",
    "        training_decoder = tf.contrib.seq2seq.BasicDecoder(dec_cell, \n",
    "                                                           helper = training_helper, \n",
    "                                                           initial_state = enc_state,\n",
    "                                                           output_layer = output_layer)\n",
    "    \n",
    "        training_decoder_output = tf.contrib.seq2seq.dynamic_decode(training_decoder,\n",
    "                                                                    impute_finished=True, \n",
    "                                                                    maximum_iterations=max_target_sequence_length)[0]\n",
    "    # 預測用的decoder, 重用訓練的decoder,及其權重    \n",
    "    with tf.variable_scope(\"decoder\", reuse=True):\n",
    "        # tile 複製變量\n",
    "        start_tokens = tf.tile(tf.constant([target_letter_to_int[\"<GO>\"]], dtype=tf.int32), \n",
    "                               [batch_size],\n",
    "                               name=\"start_tokens\")\n",
    "        \n",
    "        inference_helper = tf.contrib.seq2seq.GreedyEmbeddingHelper(dec_embeddings, \n",
    "                                                                    start_tokens=start_tokens,\n",
    "                                                                    end_token=target_letter_to_int[\"<EOS>\"])\n",
    "        \n",
    "        inference_decoder = tf.contrib.seq2seq.BasicDecoder(dec_cell, \n",
    "                                                            helper=inference_helper,\n",
    "                                                            initial_state=enc_state,\n",
    "                                                            output_layer=output_layer)\n",
    "        \n",
    "        inference_decoder_output = tf.contrib.seq2seq.dynamic_decode(inference_decoder, \n",
    "                                                                     impute_finished=True,\n",
    "                                                                     maximum_iterations=max_target_sequence_length)[0]\n",
    "    # 預測的輸入 和 訓練的輸入 不同\n",
    "    \n",
    "    return training_decoder_output, inference_decoder_output"
   ]
  },
  {
   "cell_type": "markdown",
   "metadata": {},
   "source": [
    "### 2.3 Seq2seq model"
   ]
  },
  {
   "cell_type": "code",
   "execution_count": 24,
   "metadata": {},
   "outputs": [],
   "source": [
    "def seq2seq_model(input_data, targets, lr, batch_size, \n",
    "                  target_letter_to_int, target_sequence_length,\n",
    "                  max_target_sequence_length, target_vocab_size, \n",
    "                  source_sequence_length, source_vocab_size, \n",
    "                  enc_embedding_size, dec_embedding_size, \n",
    "                  rnn_size, num_layers):\n",
    "    \n",
    "    _, enc_state = encoding_layer(input_data,\n",
    "                                  rnn_size=rnn_size, \n",
    "                                  num_layers=num_layers,\n",
    "                                  source_sequence_length=source_sequence_length,\n",
    "                                  source_vocab_size=source_vocab_size,\n",
    "                                  encoding_embedding_size=encoding_embedding_size)\n",
    "    \n",
    "    dec_input = process_decoder_input(target_data=targets, \n",
    "                                      vocab_to_int=target_letter_to_int,\n",
    "                                      batch_size=batch_size)\n",
    "    \n",
    "    training_decoder_output, inference_decoder_output = decoding_layer(target_letter_to_int, \n",
    "                                                                       dec_embedding_size,\n",
    "                                                                       num_layers,\n",
    "                                                                       rnn_size,\n",
    "                                                                       target_sequence_length, \n",
    "                                                                       max_target_sequence_length, \n",
    "                                                                       enc_state, \n",
    "                                                                       dec_input)\n",
    "    return training_decoder_output, inference_decoder_output"
   ]
  },
  {
   "cell_type": "markdown",
   "metadata": {},
   "source": [
    "*training_decoder_output_ , inference_decoder_output* 的輸出是這樣的\n",
    "<img src=\"images/logits.png\"/>"
   ]
  },
  {
   "cell_type": "markdown",
   "metadata": {},
   "source": [
    "### Build train graph"
   ]
  },
  {
   "cell_type": "code",
   "execution_count": 28,
   "metadata": {},
   "outputs": [],
   "source": [
    "train_graph = tf.Graph()\n",
    "\n",
    "with train_graph.as_default():\n",
    "    \n",
    "    input_data, targets, lr, target_sequence_length,\\\n",
    "            max_target_sequence_length, source_sequence_length = get_model_inputs()\n",
    "        \n",
    "    training_decoder_output, inference_decoder_output = seq2seq_model(input_data, \n",
    "                                                                      targets,\n",
    "                                                                      lr,\n",
    "                                                                      batch_size,\n",
    "                                                                      target_letter_to_int,\n",
    "                                                                      target_sequence_length,\n",
    "                                                                      max_target_sequence_length,\n",
    "                                                                      len(target_letter_to_int),\n",
    "                                                                      source_sequence_length,\n",
    "                                                                      len(source_letter_to_int),\n",
    "                                                                      encoding_embedding_size,\n",
    "                                                                      decoding_embedding_size,\n",
    "                                                                      rnn_size,\n",
    "                                                                      num_layers)\n",
    "    \n",
    "    training_logits = tf.identity(training_decoder_output.rnn_output, name=\"logits\")\n",
    "    inference_logits = tf.identity(inference_decoder_output.rnn_output, name=\"predictions\")\n",
    "    \n",
    "    masks = tf.sequence_mask(target_sequence_length, \n",
    "                             max_target_sequence_length,\n",
    "                             dtype=tf.float32,\n",
    "                             name=\"masks\")\n",
    "    \n",
    "    with tf.name_scope(\"optimization\"):\n",
    "        \n",
    "        cost = tf.contrib.seq2seq.sequence_loss(logits=training_logits, \n",
    "                                                targets=targets,\n",
    "                                                weights=masks)\n",
    "        \n",
    "        optimizer = tf.train.AdamOptimizer(lr)\n",
    "        \n",
    "        gradients = optimizer.compute_gradients(cost)\n",
    "        capped_gradients = [(tf.clip_by_value(grad, -5., 5.), var) \\\n",
    "                           for grad, var in gradients if grad is not None]\n",
    "        train_op = optimizer.apply_gradients(capped_gradients)\n",
    "        "
   ]
  },
  {
   "cell_type": "code",
   "execution_count": 29,
   "metadata": {
    "collapsed": true
   },
   "outputs": [],
   "source": [
    "def pad_sentence_batch(sentence_batch, pad_int):\n",
    "    max_len = max([len(sentence) for sentence in sentence_batch])\n",
    "    return [sentence+[pad_int]*(max_len-len(sentence)) for sentence in sentence_batch]"
   ]
  },
  {
   "cell_type": "code",
   "execution_count": 30,
   "metadata": {
    "collapsed": true
   },
   "outputs": [],
   "source": [
    "def get_batches(targets, sources, batch_size, source_pad_int, target_pad_int):\n",
    "    \n",
    "    for batch_i in range(len(sources)//batch_size):\n",
    "        \n",
    "        start_i = batch_i*batch_size\n",
    "        target_sentence_batch = targets[start_i: start_i+batch_size]\n",
    "        source_sentence_batch = sources[start_i: start_i+batch_size]\n",
    "        \n",
    "        target_sentence_pad = pad_sentence_batch(target_sentence_batch, target_pad_int)\n",
    "        source_sentence_pad = pad_sentence_batch(source_sentence_batch, source_pad_int)\n",
    "        \n",
    "        target_sentence_lens = [len(target_sentence_pad[0])]*len(target_sentence_pad)\n",
    "        source_sentence_lens = [len(source_sentence_pad[0])]*len(source_sentence_pad)\n",
    "        \n",
    "        yield target_sentence_pad, source_sentence_pad, target_sentence_lens, source_sentence_lens"
   ]
  },
  {
   "cell_type": "markdown",
   "metadata": {},
   "source": [
    "### Now is time for training"
   ]
  },
  {
   "cell_type": "code",
   "execution_count": 33,
   "metadata": {
    "scrolled": false
   },
   "outputs": [
    {
     "name": "stdout",
     "output_type": "stream",
     "text": [
      "epoch   1/60 Batch   20/77 - Loss: 2.360 - Validation loss:  2.399\n",
      "epoch   1/60 Batch   40/77 - Loss: 2.273 - Validation loss:  2.233\n",
      "epoch   1/60 Batch   60/77 - Loss: 1.980 - Validation loss:  2.021\n",
      "epoch   2/60 Batch   20/77 - Loss: 1.697 - Validation loss:  1.774\n",
      "epoch   2/60 Batch   40/77 - Loss: 1.709 - Validation loss:  1.669\n",
      "epoch   2/60 Batch   60/77 - Loss: 1.525 - Validation loss:  1.565\n",
      "epoch   3/60 Batch   20/77 - Loss: 1.379 - Validation loss:  1.455\n",
      "epoch   3/60 Batch   40/77 - Loss: 1.462 - Validation loss:  1.423\n",
      "epoch   3/60 Batch   60/77 - Loss: 1.363 - Validation loss:  1.396\n",
      "epoch   4/60 Batch   20/77 - Loss: 1.245 - Validation loss:  1.315\n",
      "epoch   4/60 Batch   40/77 - Loss: 1.298 - Validation loss:  1.266\n",
      "epoch   4/60 Batch   60/77 - Loss: 1.168 - Validation loss:  1.224\n",
      "epoch   5/60 Batch   20/77 - Loss: 1.112 - Validation loss:  1.166\n",
      "epoch   5/60 Batch   40/77 - Loss: 1.176 - Validation loss:  1.145\n",
      "epoch   5/60 Batch   60/77 - Loss: 1.062 - Validation loss:  1.113\n",
      "epoch   6/60 Batch   20/77 - Loss: 0.974 - Validation loss:  1.036\n",
      "epoch   6/60 Batch   40/77 - Loss: 1.010 - Validation loss:  1.000\n",
      "epoch   6/60 Batch   60/77 - Loss: 0.905 - Validation loss:  0.961\n",
      "epoch   7/60 Batch   20/77 - Loss: 0.853 - Validation loss:  0.913\n",
      "epoch   7/60 Batch   40/77 - Loss: 0.891 - Validation loss:  0.892\n",
      "epoch   7/60 Batch   60/77 - Loss: 0.805 - Validation loss:  0.869\n",
      "epoch   8/60 Batch   20/77 - Loss: 0.783 - Validation loss:  0.837\n",
      "epoch   8/60 Batch   40/77 - Loss: 0.818 - Validation loss:  0.825\n",
      "epoch   8/60 Batch   60/77 - Loss: 0.736 - Validation loss:  0.798\n",
      "epoch   9/60 Batch   20/77 - Loss: 0.712 - Validation loss:  0.752\n",
      "epoch   9/60 Batch   40/77 - Loss: 0.729 - Validation loss:  0.723\n",
      "epoch   9/60 Batch   60/77 - Loss: 0.640 - Validation loss:  0.697\n",
      "epoch  10/60 Batch   20/77 - Loss: 0.647 - Validation loss:  0.675\n",
      "epoch  10/60 Batch   40/77 - Loss: 0.670 - Validation loss:  0.671\n",
      "epoch  10/60 Batch   60/77 - Loss: 0.580 - Validation loss:  0.641\n",
      "epoch  11/60 Batch   20/77 - Loss: 0.561 - Validation loss:  0.604\n",
      "epoch  11/60 Batch   40/77 - Loss: 0.602 - Validation loss:  0.592\n",
      "epoch  11/60 Batch   60/77 - Loss: 0.524 - Validation loss:  0.576\n",
      "epoch  12/60 Batch   20/77 - Loss: 0.514 - Validation loss:  0.554\n",
      "epoch  12/60 Batch   40/77 - Loss: 0.554 - Validation loss:  0.541\n",
      "epoch  12/60 Batch   60/77 - Loss: 0.476 - Validation loss:  0.525\n",
      "epoch  13/60 Batch   20/77 - Loss: 0.464 - Validation loss:  0.502\n",
      "epoch  13/60 Batch   40/77 - Loss: 0.502 - Validation loss:  0.490\n",
      "epoch  13/60 Batch   60/77 - Loss: 0.427 - Validation loss:  0.475\n",
      "epoch  14/60 Batch   20/77 - Loss: 0.412 - Validation loss:  0.452\n",
      "epoch  14/60 Batch   40/77 - Loss: 0.453 - Validation loss:  0.442\n",
      "epoch  14/60 Batch   60/77 - Loss: 0.381 - Validation loss:  0.428\n",
      "epoch  15/60 Batch   20/77 - Loss: 0.369 - Validation loss:  0.408\n",
      "epoch  15/60 Batch   40/77 - Loss: 0.411 - Validation loss:  0.398\n",
      "epoch  15/60 Batch   60/77 - Loss: 0.340 - Validation loss:  0.384\n",
      "epoch  16/60 Batch   20/77 - Loss: 0.328 - Validation loss:  0.367\n",
      "epoch  16/60 Batch   40/77 - Loss: 0.370 - Validation loss:  0.357\n",
      "epoch  16/60 Batch   60/77 - Loss: 0.301 - Validation loss:  0.345\n",
      "epoch  17/60 Batch   20/77 - Loss: 0.286 - Validation loss:  0.328\n",
      "epoch  17/60 Batch   40/77 - Loss: 0.331 - Validation loss:  0.318\n",
      "epoch  17/60 Batch   60/77 - Loss: 0.266 - Validation loss:  0.309\n",
      "epoch  18/60 Batch   20/77 - Loss: 0.251 - Validation loss:  0.293\n",
      "epoch  18/60 Batch   40/77 - Loss: 0.298 - Validation loss:  0.284\n",
      "epoch  18/60 Batch   60/77 - Loss: 0.236 - Validation loss:  0.277\n",
      "epoch  19/60 Batch   20/77 - Loss: 0.221 - Validation loss:  0.263\n",
      "epoch  19/60 Batch   40/77 - Loss: 0.267 - Validation loss:  0.254\n",
      "epoch  19/60 Batch   60/77 - Loss: 0.210 - Validation loss:  0.247\n",
      "epoch  20/60 Batch   20/77 - Loss: 0.192 - Validation loss:  0.236\n",
      "epoch  20/60 Batch   40/77 - Loss: 0.240 - Validation loss:  0.226\n",
      "epoch  20/60 Batch   60/77 - Loss: 0.189 - Validation loss:  0.219\n",
      "epoch  21/60 Batch   20/77 - Loss: 0.169 - Validation loss:  0.211\n",
      "epoch  21/60 Batch   40/77 - Loss: 0.214 - Validation loss:  0.203\n",
      "epoch  21/60 Batch   60/77 - Loss: 0.167 - Validation loss:  0.195\n",
      "epoch  22/60 Batch   20/77 - Loss: 0.146 - Validation loss:  0.194\n",
      "epoch  22/60 Batch   40/77 - Loss: 0.190 - Validation loss:  0.178\n",
      "epoch  22/60 Batch   60/77 - Loss: 0.149 - Validation loss:  0.171\n",
      "epoch  23/60 Batch   20/77 - Loss: 0.136 - Validation loss:  0.169\n",
      "epoch  23/60 Batch   40/77 - Loss: 0.168 - Validation loss:  0.156\n",
      "epoch  23/60 Batch   60/77 - Loss: 0.133 - Validation loss:  0.150\n",
      "epoch  24/60 Batch   20/77 - Loss: 0.115 - Validation loss:  0.147\n",
      "epoch  24/60 Batch   40/77 - Loss: 0.152 - Validation loss:  0.142\n",
      "epoch  24/60 Batch   60/77 - Loss: 0.120 - Validation loss:  0.133\n",
      "epoch  25/60 Batch   20/77 - Loss: 0.100 - Validation loss:  0.132\n",
      "epoch  25/60 Batch   40/77 - Loss: 0.132 - Validation loss:  0.128\n",
      "epoch  25/60 Batch   60/77 - Loss: 0.108 - Validation loss:  0.118\n",
      "epoch  26/60 Batch   20/77 - Loss: 0.089 - Validation loss:  0.113\n",
      "epoch  26/60 Batch   40/77 - Loss: 0.116 - Validation loss:  0.110\n",
      "epoch  26/60 Batch   60/77 - Loss: 0.097 - Validation loss:  0.199\n",
      "epoch  27/60 Batch   20/77 - Loss: 0.090 - Validation loss:  0.114\n",
      "epoch  27/60 Batch   40/77 - Loss: 0.110 - Validation loss:  0.103\n",
      "epoch  27/60 Batch   60/77 - Loss: 0.090 - Validation loss:  0.097\n",
      "epoch  28/60 Batch   20/77 - Loss: 0.070 - Validation loss:  0.091\n",
      "epoch  28/60 Batch   40/77 - Loss: 0.095 - Validation loss:  0.088\n",
      "epoch  28/60 Batch   60/77 - Loss: 0.081 - Validation loss:  0.085\n",
      "epoch  29/60 Batch   20/77 - Loss: 0.062 - Validation loss:  0.082\n",
      "epoch  29/60 Batch   40/77 - Loss: 0.085 - Validation loss:  0.079\n",
      "epoch  29/60 Batch   60/77 - Loss: 0.074 - Validation loss:  0.078\n",
      "epoch  30/60 Batch   20/77 - Loss: 0.055 - Validation loss:  0.075\n",
      "epoch  30/60 Batch   40/77 - Loss: 0.077 - Validation loss:  0.072\n",
      "epoch  30/60 Batch   60/77 - Loss: 0.068 - Validation loss:  0.072\n",
      "epoch  31/60 Batch   20/77 - Loss: 0.050 - Validation loss:  0.069\n",
      "epoch  31/60 Batch   40/77 - Loss: 0.070 - Validation loss:  0.066\n",
      "epoch  31/60 Batch   60/77 - Loss: 0.062 - Validation loss:  0.066\n",
      "epoch  32/60 Batch   20/77 - Loss: 0.046 - Validation loss:  0.063\n",
      "epoch  32/60 Batch   40/77 - Loss: 0.063 - Validation loss:  0.061\n",
      "epoch  32/60 Batch   60/77 - Loss: 0.057 - Validation loss:  0.062\n",
      "epoch  33/60 Batch   20/77 - Loss: 0.042 - Validation loss:  0.058\n",
      "epoch  33/60 Batch   40/77 - Loss: 0.058 - Validation loss:  0.056\n",
      "epoch  33/60 Batch   60/77 - Loss: 0.053 - Validation loss:  0.058\n",
      "epoch  34/60 Batch   20/77 - Loss: 0.038 - Validation loss:  0.054\n",
      "epoch  34/60 Batch   40/77 - Loss: 0.053 - Validation loss:  0.052\n",
      "epoch  34/60 Batch   60/77 - Loss: 0.048 - Validation loss:  0.054\n",
      "epoch  35/60 Batch   20/77 - Loss: 0.035 - Validation loss:  0.050\n",
      "epoch  35/60 Batch   40/77 - Loss: 0.048 - Validation loss:  0.049\n",
      "epoch  35/60 Batch   60/77 - Loss: 0.044 - Validation loss:  0.051\n",
      "epoch  36/60 Batch   20/77 - Loss: 0.032 - Validation loss:  0.046\n",
      "epoch  36/60 Batch   40/77 - Loss: 0.044 - Validation loss:  0.046\n",
      "epoch  36/60 Batch   60/77 - Loss: 0.041 - Validation loss:  0.048\n",
      "epoch  37/60 Batch   20/77 - Loss: 0.030 - Validation loss:  0.043\n",
      "epoch  37/60 Batch   40/77 - Loss: 0.041 - Validation loss:  0.043\n",
      "epoch  37/60 Batch   60/77 - Loss: 0.037 - Validation loss:  0.046\n",
      "epoch  38/60 Batch   20/77 - Loss: 0.027 - Validation loss:  0.040\n",
      "epoch  38/60 Batch   40/77 - Loss: 0.037 - Validation loss:  0.041\n",
      "epoch  38/60 Batch   60/77 - Loss: 0.034 - Validation loss:  0.043\n",
      "epoch  39/60 Batch   20/77 - Loss: 0.025 - Validation loss:  0.037\n",
      "epoch  39/60 Batch   40/77 - Loss: 0.034 - Validation loss:  0.040\n",
      "epoch  39/60 Batch   60/77 - Loss: 0.031 - Validation loss:  0.041\n",
      "epoch  40/60 Batch   20/77 - Loss: 0.023 - Validation loss:  0.035\n",
      "epoch  40/60 Batch   40/77 - Loss: 0.031 - Validation loss:  0.038\n",
      "epoch  40/60 Batch   60/77 - Loss: 0.028 - Validation loss:  0.039\n",
      "epoch  41/60 Batch   20/77 - Loss: 0.022 - Validation loss:  0.032\n",
      "epoch  41/60 Batch   40/77 - Loss: 0.029 - Validation loss:  0.036\n",
      "epoch  41/60 Batch   60/77 - Loss: 0.026 - Validation loss:  0.038\n"
     ]
    },
    {
     "name": "stdout",
     "output_type": "stream",
     "text": [
      "epoch  42/60 Batch   20/77 - Loss: 0.020 - Validation loss:  0.031\n",
      "epoch  42/60 Batch   40/77 - Loss: 0.026 - Validation loss:  0.035\n",
      "epoch  42/60 Batch   60/77 - Loss: 0.024 - Validation loss:  0.036\n",
      "epoch  43/60 Batch   20/77 - Loss: 0.018 - Validation loss:  0.029\n",
      "epoch  43/60 Batch   40/77 - Loss: 0.024 - Validation loss:  0.034\n",
      "epoch  43/60 Batch   60/77 - Loss: 0.022 - Validation loss:  0.034\n",
      "epoch  44/60 Batch   20/77 - Loss: 0.017 - Validation loss:  0.028\n",
      "epoch  44/60 Batch   40/77 - Loss: 0.022 - Validation loss:  0.033\n",
      "epoch  44/60 Batch   60/77 - Loss: 0.020 - Validation loss:  0.032\n",
      "epoch  45/60 Batch   20/77 - Loss: 0.016 - Validation loss:  0.027\n",
      "epoch  45/60 Batch   40/77 - Loss: 0.021 - Validation loss:  0.032\n",
      "epoch  45/60 Batch   60/77 - Loss: 0.019 - Validation loss:  0.030\n",
      "epoch  46/60 Batch   20/77 - Loss: 0.015 - Validation loss:  0.026\n",
      "epoch  46/60 Batch   40/77 - Loss: 0.019 - Validation loss:  0.030\n",
      "epoch  46/60 Batch   60/77 - Loss: 0.018 - Validation loss:  0.028\n",
      "epoch  47/60 Batch   20/77 - Loss: 0.014 - Validation loss:  0.026\n",
      "epoch  47/60 Batch   40/77 - Loss: 0.018 - Validation loss:  0.029\n",
      "epoch  47/60 Batch   60/77 - Loss: 0.016 - Validation loss:  0.026\n",
      "epoch  48/60 Batch   20/77 - Loss: 0.013 - Validation loss:  0.025\n",
      "epoch  48/60 Batch   40/77 - Loss: 0.017 - Validation loss:  0.028\n",
      "epoch  48/60 Batch   60/77 - Loss: 0.015 - Validation loss:  0.025\n",
      "epoch  49/60 Batch   20/77 - Loss: 0.012 - Validation loss:  0.024\n",
      "epoch  49/60 Batch   40/77 - Loss: 0.016 - Validation loss:  0.027\n",
      "epoch  49/60 Batch   60/77 - Loss: 0.014 - Validation loss:  0.024\n",
      "epoch  50/60 Batch   20/77 - Loss: 0.011 - Validation loss:  0.023\n",
      "epoch  50/60 Batch   40/77 - Loss: 0.015 - Validation loss:  0.026\n",
      "epoch  50/60 Batch   60/77 - Loss: 0.013 - Validation loss:  0.023\n",
      "epoch  51/60 Batch   20/77 - Loss: 0.011 - Validation loss:  0.022\n",
      "epoch  51/60 Batch   40/77 - Loss: 0.014 - Validation loss:  0.024\n",
      "epoch  51/60 Batch   60/77 - Loss: 0.013 - Validation loss:  0.023\n",
      "epoch  52/60 Batch   20/77 - Loss: 0.010 - Validation loss:  0.021\n",
      "epoch  52/60 Batch   40/77 - Loss: 0.013 - Validation loss:  0.021\n",
      "epoch  52/60 Batch   60/77 - Loss: 0.012 - Validation loss:  0.024\n",
      "epoch  53/60 Batch   20/77 - Loss: 0.010 - Validation loss:  0.019\n",
      "epoch  53/60 Batch   40/77 - Loss: 0.223 - Validation loss:  0.231\n",
      "epoch  53/60 Batch   60/77 - Loss: 0.045 - Validation loss:  0.058\n",
      "epoch  54/60 Batch   20/77 - Loss: 0.013 - Validation loss:  0.022\n",
      "epoch  54/60 Batch   40/77 - Loss: 0.015 - Validation loss:  0.020\n",
      "epoch  54/60 Batch   60/77 - Loss: 0.013 - Validation loss:  0.021\n",
      "epoch  55/60 Batch   20/77 - Loss: 0.008 - Validation loss:  0.019\n",
      "epoch  55/60 Batch   40/77 - Loss: 0.012 - Validation loss:  0.020\n",
      "epoch  55/60 Batch   60/77 - Loss: 0.011 - Validation loss:  0.018\n",
      "epoch  56/60 Batch   20/77 - Loss: 0.008 - Validation loss:  0.018\n",
      "epoch  56/60 Batch   40/77 - Loss: 0.010 - Validation loss:  0.019\n",
      "epoch  56/60 Batch   60/77 - Loss: 0.010 - Validation loss:  0.017\n",
      "epoch  57/60 Batch   20/77 - Loss: 0.007 - Validation loss:  0.018\n",
      "epoch  57/60 Batch   40/77 - Loss: 0.010 - Validation loss:  0.018\n",
      "epoch  57/60 Batch   60/77 - Loss: 0.009 - Validation loss:  0.016\n",
      "epoch  58/60 Batch   20/77 - Loss: 0.007 - Validation loss:  0.017\n",
      "epoch  58/60 Batch   40/77 - Loss: 0.009 - Validation loss:  0.017\n",
      "epoch  58/60 Batch   60/77 - Loss: 0.008 - Validation loss:  0.016\n",
      "epoch  59/60 Batch   20/77 - Loss: 0.006 - Validation loss:  0.016\n",
      "epoch  59/60 Batch   40/77 - Loss: 0.008 - Validation loss:  0.017\n",
      "epoch  59/60 Batch   60/77 - Loss: 0.008 - Validation loss:  0.015\n",
      "epoch  60/60 Batch   20/77 - Loss: 0.006 - Validation loss:  0.016\n",
      "epoch  60/60 Batch   40/77 - Loss: 0.008 - Validation loss:  0.016\n",
      "epoch  60/60 Batch   60/77 - Loss: 0.007 - Validation loss:  0.014\n",
      "Model trained and saved\n"
     ]
    }
   ],
   "source": [
    "# 把數據分成訓練集和驗證集\n",
    "train_source = source_letter_ids[batch_size:]\n",
    "train_target = target_letter_ids[batch_size:]\n",
    "valid_source = source_letter_ids[:batch_size]\n",
    "valid_target = target_letter_ids[:batch_size]\n",
    "\n",
    "(valid_targets_batch, valid_sources_batch,\\\n",
    " valid_targets_lengths, valid_source_lengths)= next(get_batches(valid_target, \\\n",
    "                                                                valid_source, batch_size, \\\n",
    "                                                                source_letter_to_int[\"<PAD>\"],\\\n",
    "                                                                target_letter_to_int[\"<PAD>\"]))\n",
    "display = 20\n",
    "\n",
    "checkpoint = \"./checkpoint/practice_model\"\n",
    "with tf.Session(graph=train_graph) as sess:\n",
    "    sess.run(tf.global_variables_initializer())\n",
    "    \n",
    "    for epoch_i in range(1, epochs+1):\n",
    "        for batch_i, (targets_batch, sources_batch,\\\n",
    "             targets_lengths, source_lengths) in \\\n",
    "        enumerate(get_batches(train_target, \\\n",
    "                              train_source, batch_size, \\\n",
    "                              source_letter_to_int[\"<PAD>\"],\\\n",
    "                              target_letter_to_int[\"<PAD>\"])):\n",
    "            \n",
    "            _, loss = sess.run([train_op, cost],\n",
    "                              {input_data: sources_batch,\n",
    "                               targets: targets_batch,\n",
    "                               lr: learning_rate,\n",
    "                               target_sequence_length: targets_lengths,\n",
    "                               source_sequence_length: source_lengths})\n",
    "            \n",
    "            if batch_i % display == 0 and batch_i > 0:\n",
    "                \n",
    "                validation_loss = sess.run(cost,\n",
    "                                          {input_data: valid_sources_batch,\n",
    "                                           targets: valid_targets_batch,\n",
    "                                           lr: learning_rate,\n",
    "                                           target_sequence_length: valid_targets_lengths,\n",
    "                                           source_sequence_length: valid_source_lengths\n",
    "                                           })\n",
    "                print(\"epoch {:>3}/{} Batch {:>4}/{} - Loss:{:>6.3f} - Validation loss: {:>6.3f}\"\n",
    "                     .format(epoch_i,\n",
    "                             epochs,\n",
    "                             batch_i,\n",
    "                             len(train_source)//batch_size,\n",
    "                             loss,\n",
    "                             validation_loss))\n",
    "            \n",
    "        \n",
    "    \n",
    "    saver = tf.train.Saver()\n",
    "    saver.save(sess, checkpoint)\n",
    "    print(\"Model trained and saved\")"
   ]
  },
  {
   "cell_type": "code",
   "execution_count": null,
   "metadata": {
    "collapsed": true
   },
   "outputs": [],
   "source": []
  }
 ],
 "metadata": {
  "kernelspec": {
   "display_name": "Python 3",
   "language": "python",
   "name": "python3"
  },
  "language_info": {
   "codemirror_mode": {
    "name": "ipython",
    "version": 3
   },
   "file_extension": ".py",
   "mimetype": "text/x-python",
   "name": "python",
   "nbconvert_exporter": "python",
   "pygments_lexer": "ipython3",
   "version": "3.6.3"
  }
 },
 "nbformat": 4,
 "nbformat_minor": 2
}
