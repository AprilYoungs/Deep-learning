{
 "cells": [
  {
   "cell_type": "markdown",
   "metadata": {},
   "source": [
    "# Skip-gram word2vec\n",
    "\n",
    "In this notebook, I'll lead you through using TensorFlow to implement the word2vec algorithm using the skip-gram architecture. By implementing this, you'll learn about embedding words for use in natural language processing. This will come in handy when dealing with things like machine translation.\n",
    "\n",
    "## Readings\n",
    "\n",
    "Here are the resources I used to build this notebook. I suggest reading these either beforehand or while you're working on this material.\n",
    "\n",
    "* A really good [conceptual overview](http://mccormickml.com/2016/04/19/word2vec-tutorial-the-skip-gram-model/) of word2vec from Chris McCormick \n",
    "* [First word2vec paper](https://arxiv.org/pdf/1301.3781.pdf) from Mikolov et al.\n",
    "* [NIPS paper](http://papers.nips.cc/paper/5021-distributed-representations-of-words-and-phrases-and-their-compositionality.pdf) with improvements for word2vec also from Mikolov et al.\n",
    "* An [implementation of word2vec](http://www.thushv.com/natural_language_processing/word2vec-part-1-nlp-with-deep-learning-with-tensorflow-skip-gram/) from Thushan Ganegedara\n",
    "* TensorFlow [word2vec tutorial](https://www.tensorflow.org/tutorials/word2vec)\n",
    "\n",
    "## Word embeddings\n",
    "\n",
    "When you're dealing with words in text, you end up with tens of thousands of classes to predict, one for each word. Trying to one-hot encode these words is massively inefficient, you'll have one element set to 1 and the other 50,000 set to 0. The matrix multiplication going into the first hidden layer will have almost all of the resulting values be zero. This a huge waste of computation. \n",
    "\n",
    "![one-hot encodings](assets/one_hot_encoding.png)\n",
    "\n",
    "To solve this problem and greatly increase the efficiency of our networks, we use what are called embeddings. Embeddings are just a fully connected layer like you've seen before. We call this layer the embedding layer and the weights are embedding weights. We skip the multiplication into the embedding layer by instead directly grabbing the hidden layer values from the weight matrix. We can do this because the multiplication of a one-hot encoded vector with a matrix returns the row of the matrix corresponding the index of the \"on\" input unit.\n",
    "\n",
    "![lookup](assets/lookup_matrix.png)\n",
    "\n",
    "Instead of doing the matrix multiplication, we use the weight matrix as a lookup table. We encode the words as integers, for example \"heart\" is encoded as 958, \"mind\" as 18094. Then to get hidden layer values for \"heart\", you just take the 958th row of the embedding matrix. This process is called an **embedding lookup** and the number of hidden units is the **embedding dimension**.\n",
    "\n",
    "<img src='assets/tokenize_lookup.png' width=500>\n",
    " \n",
    "There is nothing magical going on here. The embedding lookup table is just a weight matrix. The embedding layer is just a hidden layer. The lookup is just a shortcut for the matrix multiplication. The lookup table is trained just like any weight matrix as well.\n",
    "\n",
    "Embeddings aren't only used for words of course. You can use them for any model where you have a massive number of classes. A particular type of model called **Word2Vec** uses the embedding layer to find vector representations of words that contain semantic meaning.\n",
    "\n"
   ]
  },
  {
   "cell_type": "markdown",
   "metadata": {},
   "source": [
    "## Word2Vec\n",
    "\n",
    "The word2vec algorithm finds much more efficient representations by finding vectors that represent the words. These vectors also contain semantic information about the words. Words that show up in similar contexts, such as \"black\", \"white\", and \"red\" will have vectors near each other. There are two architectures for implementing word2vec, CBOW (Continuous Bag-Of-Words) and Skip-gram.\n",
    "\n",
    "<img src=\"assets/word2vec_architectures.png\" width=\"500\">\n",
    "\n",
    "In this implementation, we'll be using the skip-gram architecture because it performs better than CBOW. Here, we pass in a word and try to predict the words surrounding it in the text. In this way, we can train the network to learn representations for words that show up in similar contexts.\n",
    "\n",
    "First up, importing packages."
   ]
  },
  {
   "cell_type": "code",
   "execution_count": 1,
   "metadata": {
    "scrolled": true
   },
   "outputs": [],
   "source": [
    "import time\n",
    "\n",
    "import numpy as np\n",
    "import tensorflow as tf\n",
    "\n",
    "import utils"
   ]
  },
  {
   "cell_type": "markdown",
   "metadata": {},
   "source": [
    "Load the [text8 dataset](http://mattmahoney.net/dc/textdata.html), a file of cleaned up Wikipedia articles from Matt Mahoney. The next cell will download the data set to the `data` folder. Then you can extract it and delete the archive file to save storage space."
   ]
  },
  {
   "cell_type": "code",
   "execution_count": 2,
   "metadata": {
    "scrolled": true
   },
   "outputs": [
    {
     "name": "stderr",
     "output_type": "stream",
     "text": [
      "Text8 Dataset: 31.4MB [03:01, 173kB/s]                             \n"
     ]
    }
   ],
   "source": [
    "from urllib.request import urlretrieve\n",
    "from os.path import isfile, isdir\n",
    "from tqdm import tqdm\n",
    "import zipfile\n",
    "\n",
    "dataset_folder_path = 'data'\n",
    "dataset_filename = 'text8.zip'\n",
    "dataset_name = 'Text8 Dataset'\n",
    "\n",
    "class DLProgress(tqdm):\n",
    "    last_block = 0\n",
    "\n",
    "    def hook(self, block_num=1, block_size=1, total_size=None):\n",
    "        self.total = total_size\n",
    "        self.update((block_num - self.last_block) * block_size)\n",
    "        self.last_block = block_num\n",
    "\n",
    "if not isfile(dataset_filename):\n",
    "    with DLProgress(unit='B', unit_scale=True, miniters=1, desc=dataset_name) as pbar:\n",
    "        urlretrieve(\n",
    "            'http://mattmahoney.net/dc/text8.zip',\n",
    "            dataset_filename,\n",
    "            pbar.hook)\n",
    "\n",
    "if not isdir(dataset_folder_path):\n",
    "    with zipfile.ZipFile(dataset_filename) as zip_ref:\n",
    "        zip_ref.extractall(dataset_folder_path)\n",
    "        \n",
    "with open('data/text8') as f:\n",
    "    text = f.read()"
   ]
  },
  {
   "cell_type": "markdown",
   "metadata": {},
   "source": [
    "## Preprocessing\n",
    "\n",
    "Here I'm fixing up the text to make training easier. This comes from the `utils` module I wrote. The `preprocess` function coverts any punctuation into tokens, so a period is changed to ` <PERIOD> `. In this data set, there aren't any periods, but it will help in other NLP problems. I'm also removing all words that show up five or fewer times in the dataset. This will greatly reduce issues due to noise in the data and improve the quality of the vector representations. If you want to write your own functions for this stuff, go for it."
   ]
  },
  {
   "cell_type": "code",
   "execution_count": 3,
   "metadata": {},
   "outputs": [
    {
     "name": "stdout",
     "output_type": "stream",
     "text": [
      "['anarchism', 'originated', 'as', 'a', 'term', 'of', 'abuse', 'first', 'used', 'against', 'early', 'working', 'class', 'radicals', 'including', 'the', 'diggers', 'of', 'the', 'english', 'revolution', 'and', 'the', 'sans', 'culottes', 'of', 'the', 'french', 'revolution', 'whilst']\n"
     ]
    }
   ],
   "source": [
    "words = utils.preprocess(text)\n",
    "print(words[:30])"
   ]
  },
  {
   "cell_type": "code",
   "execution_count": 15,
   "metadata": {
    "scrolled": true
   },
   "outputs": [
    {
     "name": "stdout",
     "output_type": "stream",
     "text": [
      "Total words: 16680599\n",
      "Unique words: 63641\n"
     ]
    }
   ],
   "source": [
    "print(\"Total words: {}\".format(len(words)))\n",
    "print(\"Unique words: {}\".format(len(set(words))))"
   ]
  },
  {
   "cell_type": "markdown",
   "metadata": {},
   "source": [
    "And here I'm creating dictionaries to convert words to integers and backwards, integers to words. The integers are assigned in descending frequency order, so the most frequent word (\"the\") is given the integer 0 and the next most frequent is 1 and so on. The words are converted to integers and stored in the list `int_words`."
   ]
  },
  {
   "cell_type": "code",
   "execution_count": 5,
   "metadata": {},
   "outputs": [],
   "source": [
    "vocab_to_int, int_to_vocab = utils.create_lookup_tables(words)\n",
    "int_words = [vocab_to_int[word] for word in words]"
   ]
  },
  {
   "cell_type": "markdown",
   "metadata": {},
   "source": [
    "## Subsampling\n",
    "\n",
    "Words that show up often such as \"the\", \"of\", and \"for\" don't provide much context to the nearby words. If we discard some of them, we can remove some of the noise from our data and in return get faster training and better representations. This process is called subsampling by Mikolov. For each word $w_i$ in the training set, we'll discard it with probability given by \n",
    "\n",
    "$$ P(w_i) = 1 - \\sqrt{\\frac{t}{f(w_i)}} $$\n",
    "\n",
    "where $t$ is a threshold parameter and $f(w_i)$ is the frequency of word $w_i$ in the total dataset.\n",
    "\n",
    "I'm going to leave this up to you as an exercise. This is more of a programming challenge, than about deep learning specifically. But, being able to prepare your data for your network is an important skill to have. Check out my solution to see how I did it.\n",
    "\n",
    "> **Exercise:** Implement subsampling for the words in `int_words`. That is, go through `int_words` and discard each word given the probablility $P(w_i)$ shown above. Note that $P(w_i)$ is the probability that a word is discarded. Assign the subsampled data to `train_words`."
   ]
  },
  {
   "cell_type": "code",
   "execution_count": 97,
   "metadata": {},
   "outputs": [],
   "source": [
    "from collections import Counter\n",
    "import random"
   ]
  },
  {
   "cell_type": "code",
   "execution_count": 60,
   "metadata": {},
   "outputs": [],
   "source": [
    "t = 1e-5  #threshold probility"
   ]
  },
  {
   "cell_type": "code",
   "execution_count": 61,
   "metadata": {},
   "outputs": [],
   "source": [
    "count_word = Counter(int_words)\n",
    "length = len(int_words)"
   ]
  },
  {
   "cell_type": "code",
   "execution_count": 62,
   "metadata": {},
   "outputs": [],
   "source": [
    "# frequency of words\n",
    "f_w = [count_word[word]/length for word in int_words]\n",
    "\n",
    "f_w = np.array(f_w)"
   ]
  },
  {
   "cell_type": "code",
   "execution_count": 63,
   "metadata": {
    "scrolled": true
   },
   "outputs": [],
   "source": [
    "# probility to keep words\n",
    "p_k = (t/f_w)**(0.5)"
   ]
  },
  {
   "cell_type": "code",
   "execution_count": 64,
   "metadata": {},
   "outputs": [],
   "source": [
    "# The final subsampled word list\n",
    "train_words = []\n",
    "chances = np.random.rand(len(int_words))\n",
    "\n",
    "for i in range(len(int_words)):\n",
    "    if p_k[i] > chances[i]:\n",
    "        train_words.append(int_words[i])"
   ]
  },
  {
   "cell_type": "code",
   "execution_count": 65,
   "metadata": {},
   "outputs": [
    {
     "data": {
      "text/plain": [
       "(4629381, 16680599)"
      ]
     },
     "execution_count": 65,
     "metadata": {},
     "output_type": "execute_result"
    }
   ],
   "source": [
    "len(train_words), len(int_words)"
   ]
  },
  {
   "cell_type": "markdown",
   "metadata": {},
   "source": [
    "## Making batches"
   ]
  },
  {
   "cell_type": "markdown",
   "metadata": {},
   "source": [
    "Now that our data is in good shape, we need to get it into the proper form to pass it into our network. With the skip-gram architecture, for each word in the text, we want to grab all the words in a window around that word, with size $C$. \n",
    "\n",
    "From [Mikolov et al.](https://arxiv.org/pdf/1301.3781.pdf): \n",
    "\n",
    "\"Since the more distant words are usually less related to the current word than those close to it, we give less weight to the distant words by sampling less from those words in our training examples... If we choose $C = 5$, for each training word we will select randomly a number $R$ in range $< 1; C >$, and then use $R$ words from history and $R$ words from the future of the current word as correct labels.\"\n",
    "\n",
    "> **Exercise:** Implement a function `get_target` that receives a list of words, an index, and a window size, then returns a list of words in the window around the index. Make sure to use the algorithm described above, where you choose a random number of words from the window."
   ]
  },
  {
   "cell_type": "code",
   "execution_count": 82,
   "metadata": {},
   "outputs": [],
   "source": [
    "def get_target(words, idx, window_size=5):\n",
    "    ''' Get a list of words in a window around an index. '''\n",
    "    \n",
    "    # Your code here\n",
    "    R = np.random.randint(1,high=window_size+1)\n",
    "    left = max(0,idx-R)\n",
    "    right = idx+R\n",
    "    target_words = set(words[left:idx] + words[idx+1:right+1])\n",
    "\n",
    "    return list(target_words)"
   ]
  },
  {
   "cell_type": "markdown",
   "metadata": {},
   "source": [
    "Here's a function that returns batches for our network. The idea is that it grabs `batch_size` words from a words list. Then for each of those words, it gets the target words in the window. I haven't found a way to pass in a random number of target words and get it to work with the architecture, so I make one row per input-target pair. This is a generator function by the way, helps save memory."
   ]
  },
  {
   "cell_type": "code",
   "execution_count": 83,
   "metadata": {},
   "outputs": [],
   "source": [
    "def get_batches(words, batch_size, window_size=5):\n",
    "    ''' Create a generator of word batches as a tuple (inputs, targets) '''\n",
    "    \n",
    "    n_batches = len(words)//batch_size\n",
    "    \n",
    "    # only full batches\n",
    "    words = words[:n_batches*batch_size]\n",
    "    \n",
    "    for idx in range(0, len(words), batch_size):\n",
    "        x, y = [], []\n",
    "        batch = words[idx:idx+batch_size]\n",
    "        for ii in range(len(batch)):\n",
    "            batch_x = batch[ii]\n",
    "            batch_y = get_target(batch, ii, window_size)\n",
    "            y.extend(batch_y)\n",
    "            x.extend([batch_x]*len(batch_y))\n",
    "        yield x, y"
   ]
  },
  {
   "cell_type": "markdown",
   "metadata": {},
   "source": [
    "## Building the graph\n",
    "\n",
    "From [Chris McCormick's blog](http://mccormickml.com/2016/04/19/word2vec-tutorial-the-skip-gram-model/), we can see the general structure of our network.\n",
    "![embedding_network](./assets/skip_gram_net_arch.png)\n",
    "\n",
    "The input words are passed in as integers. This will go into a hidden layer of linear units, then into a softmax layer. We'll use the softmax layer to make a prediction like normal.\n",
    "\n",
    "The idea here is to train the hidden layer weight matrix to find efficient representations for our words. We can discard the softmax layer becuase we don't really care about making predictions with this network. We just want the embedding matrix so we can use it in other networks we build from the dataset.\n",
    "\n",
    "I'm going to have you build the graph in stages now. First off, creating the `inputs` and `labels` placeholders like normal.\n",
    "\n",
    "> **Exercise:** Assign `inputs` and `labels` using `tf.placeholder`. We're going to be passing in integers, so set the data types to `tf.int32`. The batches we're passing in will have varying sizes, so set the batch sizes to [`None`]. To make things work later, you'll need to set the second dimension of `labels` to `None` or `1`."
   ]
  },
  {
   "cell_type": "code",
   "execution_count": 93,
   "metadata": {},
   "outputs": [],
   "source": [
    "train_graph = tf.Graph()\n",
    "with train_graph.as_default():\n",
    "    inputs = tf.placeholder(dtype=tf.int32, shape=[None], name='inputs')\n",
    "    labels = tf.placeholder(dtype=tf.int32, shape=[None, 1], name='labels')"
   ]
  },
  {
   "cell_type": "markdown",
   "metadata": {},
   "source": [
    "## Embedding\n",
    "\n"
   ]
  },
  {
   "cell_type": "markdown",
   "metadata": {
    "collapsed": true
   },
   "source": [
    "The embedding matrix has a size of the number of words by the number of units in the hidden layer. So, if you have 10,000 words and 300 hidden units, the matrix will have size $10,000 \\times 300$. Remember that we're using tokenized data for our inputs, usually as integers, where the number of tokens is the number of words in our vocabulary.\n",
    "\n",
    "\n",
    "> **Exercise:** Tensorflow provides a convenient function [`tf.nn.embedding_lookup`](https://www.tensorflow.org/api_docs/python/tf/nn/embedding_lookup) that does this lookup for us. You pass in the embedding matrix and a tensor of integers, then it returns rows in the matrix corresponding to those integers. Below, set the number of embedding features you'll use (200 is a good start), create the embedding matrix variable, and use `tf.nn.embedding_lookup` to get the embedding tensors. For the embedding matrix, I suggest you initialize it with a uniform random numbers between -1 and 1 using [tf.random_uniform](https://www.tensorflow.org/api_docs/python/tf/random_uniform)."
   ]
  },
  {
   "cell_type": "code",
   "execution_count": 94,
   "metadata": {},
   "outputs": [],
   "source": [
    "n_vocab = len(int_to_vocab)\n",
    "n_embedding =  200 # Number of embedding features \n",
    "with train_graph.as_default():\n",
    "    # create embedding weight matrix here\n",
    "    embedding = tf.Variable(tf.random_uniform([n_vocab,n_embedding], minval=-1, maxval=1))\n",
    "    # use tf.nn.embedding_lookup to get the hidden layer output\n",
    "    embed = tf.nn.embedding_lookup(embedding, inputs)"
   ]
  },
  {
   "cell_type": "markdown",
   "metadata": {},
   "source": [
    "## Negative sampling\n",
    "\n"
   ]
  },
  {
   "cell_type": "markdown",
   "metadata": {},
   "source": [
    "For every example we give the network, we train it using the output from the softmax layer. That means for each input, we're making very small changes to millions of weights even though we only have one true example. This makes training the network very inefficient. We can approximate the loss from the softmax layer by only updating a small subset of all the weights at once. We'll update the weights for the correct label, but only a small number of incorrect labels. This is called [\"negative sampling\"](http://papers.nips.cc/paper/5021-distributed-representations-of-words-and-phrases-and-their-compositionality.pdf). Tensorflow has a convenient function to do this, [`tf.nn.sampled_softmax_loss`](https://www.tensorflow.org/api_docs/python/tf/nn/sampled_softmax_loss).\n",
    "\n",
    "> **Exercise:** Below, create weights and biases for the softmax layer. Then, use [`tf.nn.sampled_softmax_loss`](https://www.tensorflow.org/api_docs/python/tf/nn/sampled_softmax_loss) to calculate the loss. Be sure to read the documentation to figure out how it works."
   ]
  },
  {
   "cell_type": "code",
   "execution_count": 95,
   "metadata": {},
   "outputs": [],
   "source": [
    "# Number of negative labels to sample\n",
    "n_sampled = 100\n",
    "with train_graph.as_default():\n",
    "    # create softmax weight matrix here\n",
    "    softmax_w = tf.Variable(tf.truncated_normal([n_vocab,n_embedding], stddev=0.1))\n",
    "    # create softmax biases here\n",
    "    softmax_b = tf.zeros([n_vocab])\n",
    "    \n",
    "    # Calculate the loss using negative sampling\n",
    "    loss = tf.nn.sampled_softmax_loss(softmax_w, softmax_b, labels, embed, n_sampled, n_vocab) \n",
    "    \n",
    "    cost = tf.reduce_mean(loss)\n",
    "    optimizer = tf.train.AdamOptimizer().minimize(cost)"
   ]
  },
  {
   "cell_type": "markdown",
   "metadata": {},
   "source": [
    "## Validation\n",
    "\n",
    "This code is from Thushan Ganegedara's implementation. Here we're going to choose a few common words and few uncommon words. Then, we'll print out the closest words to them. It's a nice way to check that our embedding table is grouping together words with similar semantic meanings."
   ]
  },
  {
   "cell_type": "code",
   "execution_count": 98,
   "metadata": {},
   "outputs": [],
   "source": [
    "with train_graph.as_default():\n",
    "    ## From Thushan Ganegedara's implementation\n",
    "    valid_size = 16 # Random set of words to evaluate similarity on.\n",
    "    valid_window = 100\n",
    "    # pick 8 samples from (0,100) and (1000,1100) each ranges. lower id implies more frequent \n",
    "    valid_examples = np.array(random.sample(range(valid_window), valid_size//2))\n",
    "    valid_examples = np.append(valid_examples, \n",
    "                               random.sample(range(1000,1000+valid_window), valid_size//2))\n",
    "\n",
    "    valid_dataset = tf.constant(valid_examples, dtype=tf.int32)\n",
    "    \n",
    "    # We use the cosine distance:\n",
    "    norm = tf.sqrt(tf.reduce_sum(tf.square(embedding), 1, keep_dims=True))\n",
    "    normalized_embedding = embedding / norm\n",
    "    valid_embedding = tf.nn.embedding_lookup(normalized_embedding, valid_dataset)\n",
    "    similarity = tf.matmul(valid_embedding, tf.transpose(normalized_embedding))"
   ]
  },
  {
   "cell_type": "markdown",
   "metadata": {},
   "source": [
    "## use unix command this way"
   ]
  },
  {
   "cell_type": "code",
   "execution_count": 99,
   "metadata": {},
   "outputs": [],
   "source": [
    "# If the checkpoints directory doesn't exist:\n",
    "!mkdir checkpoints"
   ]
  },
  {
   "cell_type": "code",
   "execution_count": 109,
   "metadata": {},
   "outputs": [
    {
     "name": "stdout",
     "output_type": "stream",
     "text": [
      "total 62888\r\n",
      "-rw-r--r--  1 April  staff  31344016 May 17 16:42 text8.zip\r\n",
      "-rw-r--r--  1 April  staff    813006 May 18 14:43 Skip-Grams-Solution.ipynb\r\n",
      "-rw-r--r--  1 April  staff     28271 May 18 16:32 Skip-Gram_word2vec.ipynb\r\n",
      "-rw-r--r--  1 April  staff      2194 May 17 15:17 utils.py\r\n",
      "-rw-r--r--  1 April  staff       863 May 17 15:17 requirements.txt\r\n",
      "drwxr-xr-x  9 April  staff       288 May 17 15:17 \u001b[34massets\u001b[m\u001b[m\r\n",
      "drwxr-xr-x  3 April  staff        96 May 17 16:39 \u001b[34m__pycache__\u001b[m\u001b[m\r\n",
      "drwxr-xr-x  3 April  staff        96 May 17 16:42 \u001b[34mdata\u001b[m\u001b[m\r\n",
      "drwxr-xr-x  2 April  staff        64 May 18 16:30 \u001b[34mcheckpoints\u001b[m\u001b[m\r\n"
     ]
    }
   ],
   "source": [
    "!ls -lS "
   ]
  },
  {
   "cell_type": "markdown",
   "metadata": {},
   "source": [
    "## Training\n",
    "\n",
    "Below is the code to train the network. Every 100 batches it reports the training loss. Every 1000 batches, it'll print out the validation words."
   ]
  },
  {
   "cell_type": "code",
   "execution_count": null,
   "metadata": {},
   "outputs": [
    {
     "name": "stdout",
     "output_type": "stream",
     "text": [
      "Epoch 1/10 Iteration: 100 Avg. Training loss: 5.6713 0.3121 sec/batch\n",
      "Epoch 1/10 Iteration: 200 Avg. Training loss: 5.6600 0.3065 sec/batch\n",
      "Epoch 1/10 Iteration: 300 Avg. Training loss: 5.5334 0.3059 sec/batch\n",
      "Epoch 1/10 Iteration: 400 Avg. Training loss: 5.6779 0.3147 sec/batch\n",
      "Epoch 1/10 Iteration: 500 Avg. Training loss: 5.5810 0.3145 sec/batch\n",
      "Epoch 1/10 Iteration: 600 Avg. Training loss: 5.5591 0.3111 sec/batch\n",
      "Epoch 1/10 Iteration: 700 Avg. Training loss: 5.6135 0.2991 sec/batch\n",
      "Epoch 1/10 Iteration: 800 Avg. Training loss: 5.6337 0.2971 sec/batch\n",
      "Epoch 1/10 Iteration: 900 Avg. Training loss: 5.5717 10.0505 sec/batch\n",
      "Epoch 1/10 Iteration: 1000 Avg. Training loss: 5.5065 0.3312 sec/batch\n",
      "Nearest to known: unthinkable, phipps, laude, thalia, doctrines, criticizes, knight, adidas,\n",
      "Nearest to have: nino, critics, island, yakuza, wgbh, prophesied, sufferers, tatars,\n",
      "Nearest to between: passover, dreadful, ist, serb, cashmere, paralysed, perennial, patriarchates,\n",
      "Nearest to system: cohort, forensic, semiconducting, petrosian, amplitude, liebster, fundamental, cryptographic,\n",
      "Nearest to they: philadelphia, values, perpetuation, gbase, usk, ultimately, encryption, nonetheless,\n",
      "Nearest to up: viable, phrase, joined, serpents, helier, kidnapping, surveyed, initial,\n",
      "Nearest to that: episteme, photographs, mauricien, isaias, hens, photosensitive, duddy, generosity,\n",
      "Nearest to such: defended, shrews, long, pl, whereabouts, engineer, alienated, commissary,\n",
      "Nearest to grand: terminated, abramovich, edn, mno, yount, objections, flensburg, lavalas,\n",
      "Nearest to except: treated, rulers, crashed, bestowing, thorax, topkapi, tyler, cancel,\n",
      "Nearest to bible: detain, opulent, turbulent, foonly, scala, precursors, blossom, snail,\n",
      "Nearest to applications: nicopolis, deformity, parcham, saic, rafter, claire, discredited, manichaeans,\n",
      "Nearest to taking: hizballah, mania, stalinist, bill, donnelly, rainier, reigns, spiritualism,\n",
      "Nearest to discovered: eukaryotic, contravariant, contender, erbia, lfo, incorporate, greyhound, lulach,\n",
      "Nearest to something: farther, successfully, incompatibility, veracity, pests, agong, parasitism, clones,\n",
      "Nearest to consists: panther, houdini, shaun, captors, benefiting, liter, stickers, mane,\n",
      "Epoch 1/10 Iteration: 1100 Avg. Training loss: 5.5701 1.4142 sec/batch\n",
      "Epoch 1/10 Iteration: 1200 Avg. Training loss: 5.5131 0.3147 sec/batch\n",
      "Epoch 1/10 Iteration: 1300 Avg. Training loss: 5.4699 0.3037 sec/batch\n",
      "Epoch 1/10 Iteration: 1400 Avg. Training loss: 5.3337 0.2994 sec/batch\n",
      "Epoch 1/10 Iteration: 1500 Avg. Training loss: 5.2643 0.3079 sec/batch\n",
      "Epoch 1/10 Iteration: 1600 Avg. Training loss: 5.2899 0.3029 sec/batch\n",
      "Epoch 1/10 Iteration: 1700 Avg. Training loss: 5.1719 0.3091 sec/batch\n",
      "Epoch 1/10 Iteration: 1800 Avg. Training loss: 5.1632 0.3008 sec/batch\n",
      "Epoch 1/10 Iteration: 1900 Avg. Training loss: 5.0629 0.3088 sec/batch\n",
      "Epoch 1/10 Iteration: 2000 Avg. Training loss: 5.0566 0.3119 sec/batch\n",
      "Nearest to known: unthinkable, doctrines, elected, conventions, laude, acceptable, phipps, sense,\n",
      "Nearest to have: island, freedom, came, critics, personnel, study, deeper, follows,\n",
      "Nearest to between: passover, perennial, patriarchates, dreadful, flying, chemical, serb, procured,\n",
      "Nearest to system: fundamental, cohort, provide, forensic, decide, amplitude, denominator, semiconducting,\n",
      "Nearest to they: philadelphia, values, nonetheless, ultimately, serves, today, guardians, perpetuation,\n",
      "Nearest to up: viable, joined, initial, phrase, continuing, surveyed, methods, burial,\n",
      "Nearest to that: photographs, episteme, keys, park, lord, generosity, real, distinction,\n",
      "Nearest to such: long, engineer, defended, alienated, capacity, legislatures, singleton, pl,\n",
      "Nearest to grand: objections, edn, mno, terminated, yount, honegger, orapa, inheritance,\n",
      "Nearest to except: treated, rulers, crashed, tyler, helping, topkapi, geologically, salts,\n",
      "Nearest to bible: detain, turbulent, useful, opulent, precursors, intrinsically, blossom, corals,\n",
      "Nearest to applications: nicopolis, characterized, trust, deformity, computer, arisen, rafter, manichaeans,\n",
      "Nearest to taking: concepts, bill, go, hizballah, stalinist, opposed, reigns, interviews,\n",
      "Nearest to discovered: eukaryotic, incorporate, contender, dod, disintegration, dejima, war, miscalculation,\n",
      "Nearest to something: successfully, farther, veracity, incompatibility, pests, often, musical, revolutionized,\n",
      "Nearest to consists: panther, houdini, carleton, important, stickers, benefiting, promoted, digital,\n",
      "Epoch 1/10 Iteration: 2100 Avg. Training loss: 5.0022 0.3018 sec/batch\n",
      "Epoch 1/10 Iteration: 2200 Avg. Training loss: 4.9435 0.2980 sec/batch\n",
      "Epoch 1/10 Iteration: 2300 Avg. Training loss: 4.9166 0.2971 sec/batch\n",
      "Epoch 1/10 Iteration: 2400 Avg. Training loss: 4.8919 0.2989 sec/batch\n",
      "Epoch 1/10 Iteration: 2500 Avg. Training loss: 4.8438 0.3077 sec/batch\n",
      "Epoch 1/10 Iteration: 2600 Avg. Training loss: 4.8572 0.2984 sec/batch\n",
      "Epoch 1/10 Iteration: 2700 Avg. Training loss: 4.8595 0.2962 sec/batch\n",
      "Epoch 1/10 Iteration: 2800 Avg. Training loss: 4.8229 0.2966 sec/batch\n",
      "Epoch 1/10 Iteration: 2900 Avg. Training loss: 4.8046 0.2959 sec/batch\n",
      "Epoch 1/10 Iteration: 3000 Avg. Training loss: 4.8093 0.2982 sec/batch\n",
      "Nearest to known: unthinkable, doctrines, laude, conventions, elected, phipps, galilei, courtney,\n",
      "Nearest to have: personnel, critics, freedom, nino, island, study, came, sufferers,\n",
      "Nearest to between: passover, ist, dreadful, patriarchates, serb, entail, flying, perennial,\n",
      "Nearest to system: fundamental, amplitude, cohort, forensic, provide, decide, sale, project,\n",
      "Nearest to they: philadelphia, values, nonetheless, perpetuation, guardians, encryption, ultimately, turks,\n",
      "Nearest to up: initial, viable, phrase, continuing, joined, burial, surveyed, methods,\n",
      "Nearest to that: photographs, generosity, episteme, lord, genetically, keys, scripted, isaias,\n",
      "Nearest to such: defended, long, alienated, engineer, pl, singleton, capacity, morocco,\n",
      "Nearest to grand: objections, inheritance, gave, oder, emotional, curonian, terminated, edn,\n",
      "Nearest to except: treated, rulers, crashed, geologically, cancel, tyler, helping, bestowing,\n",
      "Nearest to bible: turbulent, useful, precursors, intrinsically, detain, imaginary, blossom, opulent,\n",
      "Nearest to applications: nicopolis, deformity, computer, wesley, trust, discredited, rafter, abusive,\n",
      "Nearest to taking: concepts, bill, stalinist, hizballah, reigns, mania, discredited, interviews,\n",
      "Nearest to discovered: eukaryotic, contender, incorporate, disintegration, erbia, auctions, knowledgeable, greyhound,\n",
      "Nearest to something: successfully, farther, veracity, pests, incompatibility, revolutionized, user, statement,\n",
      "Nearest to consists: panther, houdini, captors, stickers, benefiting, request, carleton, shaun,\n",
      "Epoch 1/10 Iteration: 3100 Avg. Training loss: 4.8018 0.3001 sec/batch\n",
      "Epoch 1/10 Iteration: 3200 Avg. Training loss: 4.7928 0.2964 sec/batch\n",
      "Epoch 1/10 Iteration: 3300 Avg. Training loss: 4.7597 0.2975 sec/batch\n",
      "Epoch 1/10 Iteration: 3400 Avg. Training loss: 4.7620 0.2951 sec/batch\n",
      "Epoch 1/10 Iteration: 3500 Avg. Training loss: 4.7754 0.2977 sec/batch\n",
      "Epoch 1/10 Iteration: 3600 Avg. Training loss: 4.7252 0.3023 sec/batch\n",
      "Epoch 1/10 Iteration: 3700 Avg. Training loss: 4.7194 0.2978 sec/batch\n",
      "Epoch 1/10 Iteration: 3800 Avg. Training loss: 4.7516 0.3024 sec/batch\n",
      "Epoch 1/10 Iteration: 3900 Avg. Training loss: 4.7346 0.3130 sec/batch\n",
      "Epoch 1/10 Iteration: 4000 Avg. Training loss: 4.7136 0.3083 sec/batch\n",
      "Nearest to known: unthinkable, laude, doctrines, courtney, restorer, criticizes, conventions, phipps,\n",
      "Nearest to have: critics, nino, freedom, personnel, sufferers, study, tatars, wgbh,\n",
      "Nearest to between: passover, dreadful, patriarchates, erhard, serb, entail, cashmere, shortcomings,\n",
      "Nearest to system: fundamental, amplitude, cohort, provide, forensic, decide, tangier, semiconducting,\n",
      "Nearest to they: philadelphia, perpetuation, values, nonetheless, castes, heinlein, gbase, encryption,\n",
      "Nearest to up: viable, initial, surveyed, joined, continuing, risking, phrase, burial,\n",
      "Nearest to that: photographs, generosity, episteme, scripted, isaias, excessive, lord, embodied,\n",
      "Nearest to such: defended, long, alienated, whereabouts, capacity, singleton, disseminated, pl,\n",
      "Nearest to grand: objections, edn, terminated, gave, oder, curonian, inheritance, nagoya,\n",
      "Nearest to except: treated, rulers, bestowing, cancel, crashed, geologically, tyler, topkapi,\n",
      "Nearest to bible: turbulent, precursors, useful, intrinsically, blossom, persistently, individual, pointers,\n",
      "Nearest to applications: computer, deformity, nicopolis, wesley, manichaeans, rafter, spec, conjectures,\n",
      "Nearest to taking: concepts, hizballah, stalinist, reigns, bill, mania, discredited, go,\n",
      "Nearest to discovered: eukaryotic, contender, incorporate, knowledgeable, disintegration, grampus, auctions, erbia,\n",
      "Nearest to something: farther, successfully, veracity, incompatibility, pests, revolutionized, predicated, altitudes,\n",
      "Nearest to consists: panther, houdini, captors, benefiting, stickers, shaun, request, christo,\n"
     ]
    },
    {
     "name": "stdout",
     "output_type": "stream",
     "text": [
      "Epoch 1/10 Iteration: 4100 Avg. Training loss: 4.7134 0.4045 sec/batch\n",
      "Epoch 1/10 Iteration: 4200 Avg. Training loss: 4.6830 0.2971 sec/batch\n",
      "Epoch 1/10 Iteration: 4300 Avg. Training loss: 4.6561 0.2976 sec/batch\n",
      "Epoch 1/10 Iteration: 4400 Avg. Training loss: 4.6502 0.3130 sec/batch\n",
      "Epoch 1/10 Iteration: 4500 Avg. Training loss: 4.6718 0.3019 sec/batch\n",
      "Epoch 1/10 Iteration: 4600 Avg. Training loss: 4.6386 0.2973 sec/batch\n",
      "Epoch 2/10 Iteration: 4700 Avg. Training loss: 4.6297 0.2177 sec/batch\n",
      "Epoch 2/10 Iteration: 4800 Avg. Training loss: 4.5764 0.2982 sec/batch\n",
      "Epoch 2/10 Iteration: 4900 Avg. Training loss: 4.5341 0.3105 sec/batch\n",
      "Epoch 2/10 Iteration: 5000 Avg. Training loss: 4.5313 0.2986 sec/batch\n",
      "Nearest to known: unthinkable, laude, restorer, doctrines, wodehouse, conventions, thalia, criticizes,\n",
      "Nearest to have: critics, study, follows, tatars, nino, sufferers, wgbh, bulldog,\n",
      "Nearest to between: passover, dreadful, cashmere, patriarchates, shortcomings, erhard, entail, protector,\n",
      "Nearest to system: fundamental, amplitude, cohort, provide, eigenvectors, controller, decide, tangier,\n",
      "Nearest to they: philadelphia, values, perpetuation, scorn, concurrently, castes, nonetheless, openvms,\n",
      "Nearest to up: initial, viable, risking, surveyed, continuing, phrase, burial, serpents,\n",
      "Nearest to that: photographs, generosity, episteme, scripted, isaias, excessive, distinction, real,\n",
      "Nearest to such: defended, long, disseminated, alienated, hells, whereabouts, singleton, consequences,\n",
      "Nearest to grand: edn, objections, mno, gave, curonian, nagoya, yount, terminated,\n",
      "Nearest to except: treated, bestowing, cancel, rulers, crashed, topkapi, geologically, tyler,\n",
      "Nearest to bible: turbulent, precursors, pointers, blossom, opulent, persistently, detain, intrinsically,\n",
      "Nearest to applications: computer, saic, macintosh, spec, deformity, nicopolis, conjectures, programs,\n",
      "Nearest to taking: concepts, stalinist, reigns, hizballah, bill, rainier, tanna, mania,\n",
      "Nearest to discovered: eukaryotic, incorporate, contender, eruption, sandro, disintegration, knowledgeable, auctions,\n",
      "Nearest to something: farther, incompatibility, successfully, veracity, pests, user, agong, often,\n",
      "Nearest to consists: panther, houdini, stickers, captors, spratly, benefiting, important, liter,\n",
      "Epoch 2/10 Iteration: 5100 Avg. Training loss: 4.5209 0.3086 sec/batch\n",
      "Epoch 2/10 Iteration: 5200 Avg. Training loss: 4.5581 0.3037 sec/batch\n",
      "Epoch 2/10 Iteration: 5300 Avg. Training loss: 4.4946 0.2982 sec/batch\n",
      "Epoch 2/10 Iteration: 5400 Avg. Training loss: 4.5247 0.3017 sec/batch\n",
      "Epoch 2/10 Iteration: 5500 Avg. Training loss: 4.5131 0.3035 sec/batch\n",
      "Epoch 2/10 Iteration: 5600 Avg. Training loss: 4.5081 0.3098 sec/batch\n",
      "Epoch 2/10 Iteration: 5700 Avg. Training loss: 4.4810 0.2998 sec/batch\n",
      "Epoch 2/10 Iteration: 5800 Avg. Training loss: 4.4129 0.3003 sec/batch\n",
      "Epoch 2/10 Iteration: 5900 Avg. Training loss: 4.4375 0.2971 sec/batch\n",
      "Epoch 2/10 Iteration: 6000 Avg. Training loss: 4.4405 0.2960 sec/batch\n",
      "Nearest to known: unthinkable, restorer, wodehouse, thalia, courtney, doctrines, vivacious, phipps,\n",
      "Nearest to have: critics, follows, study, prophesied, hint, tatars, freedom, sufferers,\n",
      "Nearest to between: passover, dreadful, cashmere, patriarchates, shortcomings, protector, erhard, serb,\n",
      "Nearest to system: fundamental, amplitude, provide, cohort, controller, sale, eigenvectors, frigid,\n",
      "Nearest to they: philadelphia, perpetuation, values, scorn, openvms, castes, generalize, canister,\n",
      "Nearest to up: initial, viable, surveyed, risking, continuing, sweetness, burial, phrase,\n",
      "Nearest to that: photographs, generosity, scripted, episteme, distinction, real, kindness, isaias,\n",
      "Nearest to such: defended, long, disseminated, consequences, whereabouts, hells, alienated, capacity,\n",
      "Nearest to grand: edn, mno, gave, objections, curonian, nagoya, yount, terminated,\n",
      "Nearest to except: treated, bestowing, cancel, rulers, crashed, topkapi, tyler, geologically,\n",
      "Nearest to bible: turbulent, precursors, persistently, opulent, movements, flesh, intrinsically, pointers,\n",
      "Nearest to applications: computer, programs, macintosh, tasks, instructions, saic, pcs, spec,\n",
      "Nearest to taking: reigns, stalinist, concepts, hizballah, discredited, rainier, tanna, go,\n",
      "Nearest to discovered: eukaryotic, incorporate, eruption, sandro, contender, screwed, disintegration, grampus,\n",
      "Nearest to something: incompatibility, pests, farther, successfully, veracity, user, agong, revolutionized,\n",
      "Nearest to consists: panther, houdini, important, stickers, spratly, captors, benefiting, christo,\n",
      "Epoch 2/10 Iteration: 6100 Avg. Training loss: 4.4518 0.3010 sec/batch\n",
      "Epoch 2/10 Iteration: 6200 Avg. Training loss: 4.4264 0.2980 sec/batch\n",
      "Epoch 2/10 Iteration: 6300 Avg. Training loss: 4.4604 0.2961 sec/batch\n",
      "Epoch 2/10 Iteration: 6400 Avg. Training loss: 4.4127 0.2970 sec/batch\n",
      "Epoch 2/10 Iteration: 6500 Avg. Training loss: 4.4303 0.3011 sec/batch\n",
      "Epoch 2/10 Iteration: 6600 Avg. Training loss: 4.4684 0.2957 sec/batch\n",
      "Epoch 2/10 Iteration: 6700 Avg. Training loss: 4.4022 0.3005 sec/batch\n",
      "Epoch 2/10 Iteration: 6800 Avg. Training loss: 4.3896 0.3023 sec/batch\n",
      "Epoch 2/10 Iteration: 6900 Avg. Training loss: 4.4390 0.2958 sec/batch\n",
      "Epoch 2/10 Iteration: 7000 Avg. Training loss: 4.3693 0.3023 sec/batch\n",
      "Nearest to known: restorer, wodehouse, unthinkable, boilers, thalia, predictably, courtney, phipps,\n",
      "Nearest to have: critics, follows, study, hint, prophesied, sufferers, marques, daunting,\n",
      "Nearest to between: passover, cashmere, dreadful, shortcomings, procured, entail, patriarchates, protector,\n",
      "Nearest to system: fundamental, provide, amplitude, controller, sale, eigenvectors, cohort, connector,\n",
      "Nearest to they: perpetuation, generalize, philadelphia, scorn, castes, canister, ultimately, nonetheless,\n",
      "Nearest to up: initial, viable, surveyed, risking, continuing, joined, cce, sweetness,\n",
      "Nearest to that: photographs, generosity, episteme, kindness, distinction, embodied, statements, universally,\n",
      "Nearest to such: defended, consequences, compressed, long, disseminated, shrews, capacity, hells,\n",
      "Nearest to grand: edn, mno, objections, terminated, gave, curonian, yount, nagoya,\n",
      "Nearest to except: treated, bestowing, cancel, rulers, geologically, thorax, topkapi, tyler,\n",
      "Nearest to bible: movements, turbulent, persistently, doctrines, opulent, algerians, flesh, manus,\n",
      "Nearest to applications: computer, pcs, tasks, programs, instructions, saic, macintosh, volatile,\n",
      "Nearest to taking: concepts, stalinist, reigns, hizballah, discredited, go, rainier, aldiss,\n",
      "Nearest to discovered: eukaryotic, incorporate, sandro, eruption, roars, disintegration, screwed, primordial,\n",
      "Nearest to something: incompatibility, successfully, pests, veracity, farther, statement, user, revolutionized,\n",
      "Nearest to consists: panther, stickers, houdini, spratly, important, unbreakable, benefiting, request,\n",
      "Epoch 2/10 Iteration: 7100 Avg. Training loss: 4.3739 0.3067 sec/batch\n",
      "Epoch 2/10 Iteration: 7200 Avg. Training loss: 4.4010 0.2975 sec/batch\n",
      "Epoch 2/10 Iteration: 7300 Avg. Training loss: 4.3896 0.2989 sec/batch\n",
      "Epoch 2/10 Iteration: 7400 Avg. Training loss: 4.3618 0.2985 sec/batch\n",
      "Epoch 2/10 Iteration: 7500 Avg. Training loss: 4.3926 0.3041 sec/batch\n",
      "Epoch 2/10 Iteration: 7600 Avg. Training loss: 4.3788 0.3096 sec/batch\n",
      "Epoch 2/10 Iteration: 7700 Avg. Training loss: 4.4134 0.2989 sec/batch\n",
      "Epoch 2/10 Iteration: 7800 Avg. Training loss: 4.3904 0.3025 sec/batch\n",
      "Epoch 2/10 Iteration: 7900 Avg. Training loss: 4.3187 0.2999 sec/batch\n",
      "Epoch 2/10 Iteration: 8000 Avg. Training loss: 4.3753 0.2985 sec/batch\n",
      "Nearest to known: restorer, wodehouse, thalia, unthinkable, phipps, laude, predictably, insightful,\n",
      "Nearest to have: critics, follows, came, prophesied, hint, study, sufferers, wgbh,\n",
      "Nearest to between: dreadful, passover, cashmere, tolerable, protector, patriarchates, entail, erhard,\n",
      "Nearest to system: provide, controller, amplitude, fundamental, integrated, sale, cohort, connector,\n",
      "Nearest to they: castes, scorn, perpetuation, philadelphia, canister, concurrently, exorbitant, generalize,\n",
      "Nearest to up: initial, viable, joined, continuing, surveyed, cce, risking, burial,\n",
      "Nearest to that: photographs, generosity, distinction, episteme, universally, arousal, kindness, embodied,\n",
      "Nearest to such: defended, compressed, long, consequences, shrews, pinnipeds, brains, disseminated,\n",
      "Nearest to grand: edn, terminated, mno, objections, curonian, nagoya, oder, gave,\n",
      "Nearest to except: treated, cancel, bestowing, rulers, thorax, geologically, topkapi, bold,\n",
      "Nearest to bible: movements, doctrines, opulent, persistently, turbulent, manus, precursors, intrinsically,\n",
      "Nearest to applications: computer, programs, pcs, macintosh, saic, tasks, volatile, instructions,\n",
      "Nearest to taking: concepts, reigns, stalinist, hizballah, go, draw, discredited, concedes,\n",
      "Nearest to discovered: eukaryotic, eruption, sandro, incorporate, knowledgeable, roars, primordial, erbia,\n",
      "Nearest to something: incompatibility, successfully, veracity, pests, statement, predicated, user, often,\n",
      "Nearest to consists: panther, spratly, houdini, request, stains, stickers, unbreakable, important,\n"
     ]
    },
    {
     "name": "stdout",
     "output_type": "stream",
     "text": [
      "Epoch 2/10 Iteration: 8100 Avg. Training loss: 4.3837 0.3013 sec/batch\n",
      "Epoch 2/10 Iteration: 8200 Avg. Training loss: 4.2999 0.3026 sec/batch\n",
      "Epoch 2/10 Iteration: 8300 Avg. Training loss: 4.3969 0.2988 sec/batch\n",
      "Epoch 2/10 Iteration: 8400 Avg. Training loss: 4.3668 0.2988 sec/batch\n",
      "Epoch 2/10 Iteration: 8500 Avg. Training loss: 4.4167 0.3017 sec/batch\n",
      "Epoch 2/10 Iteration: 8600 Avg. Training loss: 4.2907 0.3034 sec/batch\n"
     ]
    }
   ],
   "source": [
    "epochs = 10\n",
    "batch_size = 1000\n",
    "window_size = 10\n",
    "\n",
    "with train_graph.as_default():\n",
    "    saver = tf.train.Saver()\n",
    "\n",
    "with tf.Session(graph=train_graph) as sess:\n",
    "    iteration = 1\n",
    "    loss = 0\n",
    "    sess.run(tf.global_variables_initializer())\n",
    "\n",
    "    for e in range(1, epochs+1):\n",
    "        batches = get_batches(train_words, batch_size, window_size)\n",
    "        start = time.time()\n",
    "        for x, y in batches:\n",
    "            \n",
    "            feed = {inputs: x,\n",
    "                    labels: np.array(y)[:, None]}\n",
    "            train_loss, _ = sess.run([cost, optimizer], feed_dict=feed)\n",
    "            \n",
    "            loss += train_loss\n",
    "            \n",
    "            if iteration % 100 == 0: \n",
    "                end = time.time()\n",
    "                print(\"Epoch {}/{}\".format(e, epochs),\n",
    "                      \"Iteration: {}\".format(iteration),\n",
    "                      \"Avg. Training loss: {:.4f}\".format(loss/100),\n",
    "                      \"{:.4f} sec/batch\".format((end-start)/100))\n",
    "                loss = 0\n",
    "                start = time.time()\n",
    "            \n",
    "            if iteration % 1000 == 0:\n",
    "                ## From Thushan Ganegedara's implementation\n",
    "                # note that this is expensive (~20% slowdown if computed every 500 steps)\n",
    "                sim = similarity.eval()\n",
    "                for i in range(valid_size):\n",
    "                    valid_word = int_to_vocab[valid_examples[i]]\n",
    "                    top_k = 8 # number of nearest neighbors\n",
    "                    nearest = (-sim[i, :]).argsort()[1:top_k+1]\n",
    "                    log = 'Nearest to %s:' % valid_word\n",
    "                    for k in range(top_k):\n",
    "                        close_word = int_to_vocab[nearest[k]]\n",
    "                        log = '%s %s,' % (log, close_word)\n",
    "                    print(log)\n",
    "            \n",
    "            iteration += 1\n",
    "    save_path = saver.save(sess, \"checkpoints/text8.ckpt\")\n",
    "    embed_mat = sess.run(normalized_embedding)"
   ]
  },
  {
   "cell_type": "markdown",
   "metadata": {},
   "source": [
    "Restore the trained network if you need to:"
   ]
  },
  {
   "cell_type": "code",
   "execution_count": null,
   "metadata": {
    "collapsed": true
   },
   "outputs": [],
   "source": [
    "with train_graph.as_default():\n",
    "    saver = tf.train.Saver()\n",
    "\n",
    "with tf.Session(graph=train_graph) as sess:\n",
    "    saver.restore(sess, tf.train.latest_checkpoint('checkpoints'))\n",
    "    embed_mat = sess.run(embedding)"
   ]
  },
  {
   "cell_type": "markdown",
   "metadata": {},
   "source": [
    "## Visualizing the word vectors\n",
    "\n",
    "Below we'll use T-SNE to visualize how our high-dimensional word vectors cluster together. T-SNE is used to project these vectors into two dimensions while preserving local stucture. Check out [this post from Christopher Olah](http://colah.github.io/posts/2014-10-Visualizing-MNIST/) to learn more about T-SNE and other ways to visualize high-dimensional data."
   ]
  },
  {
   "cell_type": "code",
   "execution_count": null,
   "metadata": {
    "collapsed": true
   },
   "outputs": [],
   "source": [
    "%matplotlib inline\n",
    "%config InlineBackend.figure_format = 'retina'\n",
    "\n",
    "import matplotlib.pyplot as plt\n",
    "from sklearn.manifold import TSNE"
   ]
  },
  {
   "cell_type": "code",
   "execution_count": null,
   "metadata": {
    "collapsed": true
   },
   "outputs": [],
   "source": [
    "viz_words = 500\n",
    "tsne = TSNE()\n",
    "embed_tsne = tsne.fit_transform(embed_mat[:viz_words, :])"
   ]
  },
  {
   "cell_type": "code",
   "execution_count": null,
   "metadata": {
    "collapsed": true
   },
   "outputs": [],
   "source": [
    "fig, ax = plt.subplots(figsize=(14, 14))\n",
    "for idx in range(viz_words):\n",
    "    plt.scatter(*embed_tsne[idx, :], color='steelblue')\n",
    "    plt.annotate(int_to_vocab[idx], (embed_tsne[idx, 0], embed_tsne[idx, 1]), alpha=0.7)"
   ]
  }
 ],
 "metadata": {
  "kernelspec": {
   "display_name": "Python 3",
   "language": "python",
   "name": "python3"
  },
  "language_info": {
   "codemirror_mode": {
    "name": "ipython",
    "version": 3
   },
   "file_extension": ".py",
   "mimetype": "text/x-python",
   "name": "python",
   "nbconvert_exporter": "python",
   "pygments_lexer": "ipython3",
   "version": "3.6.4"
  }
 },
 "nbformat": 4,
 "nbformat_minor": 2
}
