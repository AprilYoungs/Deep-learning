{
 "cells": [
  {
   "cell_type": "markdown",
   "metadata": {},
   "source": [
    "# Sentiment Analysis with an RNN\n",
    "\n",
    "In this notebook, you'll implement a recurrent neural network that performs sentiment analysis. Using an RNN rather than a feedfoward network is more accurate since we can include information about the *sequence* of words. Here we'll use a dataset of movie reviews, accompanied by labels.\n",
    "\n",
    "The architecture for this network is shown below.\n",
    "\n",
    "<img src=\"assets/network_diagram.png\" width=400px>\n",
    "\n",
    "Here, we'll pass in words to an embedding layer. We need an embedding layer because we have tens of thousands of words, so we'll need a more efficient representation for our input data than one-hot encoded vectors. You should have seen this before from the word2vec lesson. You can actually train up an embedding with word2vec and use it here. But it's good enough to just have an embedding layer and let the network learn the embedding table on it's own.\n",
    "\n",
    "From the embedding layer, the new representations will be passed to LSTM cells. These will add recurrent connections to the network so we can include information about the sequence of words in the data. Finally, the LSTM cells will go to a sigmoid output layer here. We're using the sigmoid because we're trying to predict if this text has positive or negative sentiment. The output layer will just be a single unit then, with a sigmoid activation function.\n",
    "\n",
    "We don't care about the sigmoid outputs except for the very last one, we can ignore the rest. We'll calculate the cost from the output of the last step and the training label."
   ]
  },
  {
   "cell_type": "code",
   "execution_count": 1,
   "metadata": {
    "collapsed": true
   },
   "outputs": [],
   "source": [
    "import numpy as np\n",
    "import tensorflow as tf"
   ]
  },
  {
   "cell_type": "code",
   "execution_count": 2,
   "metadata": {
    "collapsed": true
   },
   "outputs": [],
   "source": [
    "with open('../sentiment-network/reviews.txt', 'r') as f:\n",
    "    reviews = f.read()\n",
    "with open('../sentiment-network/labels.txt', 'r') as f:\n",
    "    labels = f.read()"
   ]
  },
  {
   "cell_type": "code",
   "execution_count": 3,
   "metadata": {},
   "outputs": [
    {
     "data": {
      "text/plain": [
       "'bromwell high is a cartoon comedy . it ran at the same time as some other programs about school life  such as  teachers  . my   years in the teaching profession lead me to believe that bromwell high  s satire is much closer to reality than is  teachers  . the scramble to survive financially  the insightful students who can see right through their pathetic teachers  pomp  the pettiness of the whole situation  all remind me of the schools i knew and their students . when i saw the episode in which a student repeatedly tried to burn down the school  i immediately recalled . . . . . . . . . at . . . . . . . . . . high . a classic line inspector i  m here to sack one of your teachers . student welcome to bromwell high . i expect that many adults of my age think that bromwell high is far fetched . what a pity that it isn  t   \\nstory of a man who has unnatural feelings for a pig . starts out with a opening scene that is a terrific example of absurd comedy . a formal orchestra audience is turned into an insane  violent mob by the crazy chantings of it  s singers . unfortunately it stays absurd the whole time with no general narrative eventually making it just too off putting . even those from the era should be turned off . the cryptic dialogue would make shakespeare seem easy to a third grader . on a technical level it  s better than you might think with some good cinematography by future great vilmos zsigmond . future stars sally kirkland and frederic forrest can be seen briefly .  \\nhomelessness  or houselessness as george carlin stated  has been an issue for years but never a plan to help those on the street that were once considered human who did everything from going to school  work  or vote for the matter . most people think of the homeless as just a lost cause while worrying about things such as racism  the war on iraq  pressuring kids to succeed  technology  the elections  inflation  or worrying if they  ll be next to end up on the streets .  br    br   but what if y'"
      ]
     },
     "execution_count": 3,
     "metadata": {},
     "output_type": "execute_result"
    }
   ],
   "source": [
    "reviews[:2000]"
   ]
  },
  {
   "cell_type": "markdown",
   "metadata": {},
   "source": [
    "## Data preprocessing\n",
    "\n",
    "The first step when building a neural network model is getting your data into the proper form to feed into the network. Since we're using embedding layers, we'll need to encode each word with an integer. We'll also want to clean it up a bit.\n",
    "\n",
    "You can see an example of the reviews data above. We'll want to get rid of those periods. Also, you might notice that the reviews are delimited with newlines `\\n`. To deal with those, I'm going to split the text into each review using `\\n` as the delimiter. Then I can combined all the reviews back together into one big string.\n",
    "\n",
    "First, let's remove all punctuation. Then get all the text without the newlines and split it into individual words."
   ]
  },
  {
   "cell_type": "code",
   "execution_count": 4,
   "metadata": {
    "collapsed": true
   },
   "outputs": [],
   "source": [
    "from string import punctuation\n",
    "all_text = ''.join([c for c in reviews if c not in punctuation])\n",
    "reviews = all_text.split('\\n')\n",
    "\n",
    "all_text = ' '.join(reviews)\n",
    "words = all_text.split()"
   ]
  },
  {
   "cell_type": "code",
   "execution_count": 5,
   "metadata": {},
   "outputs": [
    {
     "data": {
      "text/plain": [
       "'bromwell high is a cartoon comedy  it ran at the same time as some other programs about school life  such as  teachers   my   years in the teaching profession lead me to believe that bromwell high  s satire is much closer to reality than is  teachers   the scramble to survive financially  the insightful students who can see right through their pathetic teachers  pomp  the pettiness of the whole situation  all remind me of the schools i knew and their students  when i saw the episode in which a student repeatedly tried to burn down the school  i immediately recalled          at           high  a classic line inspector i  m here to sack one of your teachers  student welcome to bromwell high  i expect that many adults of my age think that bromwell high is far fetched  what a pity that it isn  t    story of a man who has unnatural feelings for a pig  starts out with a opening scene that is a terrific example of absurd comedy  a formal orchestra audience is turned into an insane  violent mob by the crazy chantings of it  s singers  unfortunately it stays absurd the whole time with no general narrative eventually making it just too off putting  even those from the era should be turned off  the cryptic dialogue would make shakespeare seem easy to a third grader  on a technical level it  s better than you might think with some good cinematography by future great vilmos zsigmond  future stars sally kirkland and frederic forrest can be seen briefly    homelessness  or houselessness as george carlin stated  has been an issue for years but never a plan to help those on the street that were once considered human who did everything from going to school  work  or vote for the matter  most people think of the homeless as just a lost cause while worrying about things such as racism  the war on iraq  pressuring kids to succeed  technology  the elections  inflation  or worrying if they  ll be next to end up on the streets   br    br   but what if you were given a bet to live on the st'"
      ]
     },
     "execution_count": 5,
     "metadata": {},
     "output_type": "execute_result"
    }
   ],
   "source": [
    "all_text[:2000]"
   ]
  },
  {
   "cell_type": "code",
   "execution_count": 6,
   "metadata": {},
   "outputs": [
    {
     "data": {
      "text/plain": [
       "['bromwell',\n",
       " 'high',\n",
       " 'is',\n",
       " 'a',\n",
       " 'cartoon',\n",
       " 'comedy',\n",
       " 'it',\n",
       " 'ran',\n",
       " 'at',\n",
       " 'the',\n",
       " 'same',\n",
       " 'time',\n",
       " 'as',\n",
       " 'some',\n",
       " 'other',\n",
       " 'programs',\n",
       " 'about',\n",
       " 'school',\n",
       " 'life',\n",
       " 'such',\n",
       " 'as',\n",
       " 'teachers',\n",
       " 'my',\n",
       " 'years',\n",
       " 'in',\n",
       " 'the',\n",
       " 'teaching',\n",
       " 'profession',\n",
       " 'lead',\n",
       " 'me',\n",
       " 'to',\n",
       " 'believe',\n",
       " 'that',\n",
       " 'bromwell',\n",
       " 'high',\n",
       " 's',\n",
       " 'satire',\n",
       " 'is',\n",
       " 'much',\n",
       " 'closer',\n",
       " 'to',\n",
       " 'reality',\n",
       " 'than',\n",
       " 'is',\n",
       " 'teachers',\n",
       " 'the',\n",
       " 'scramble',\n",
       " 'to',\n",
       " 'survive',\n",
       " 'financially',\n",
       " 'the',\n",
       " 'insightful',\n",
       " 'students',\n",
       " 'who',\n",
       " 'can',\n",
       " 'see',\n",
       " 'right',\n",
       " 'through',\n",
       " 'their',\n",
       " 'pathetic',\n",
       " 'teachers',\n",
       " 'pomp',\n",
       " 'the',\n",
       " 'pettiness',\n",
       " 'of',\n",
       " 'the',\n",
       " 'whole',\n",
       " 'situation',\n",
       " 'all',\n",
       " 'remind',\n",
       " 'me',\n",
       " 'of',\n",
       " 'the',\n",
       " 'schools',\n",
       " 'i',\n",
       " 'knew',\n",
       " 'and',\n",
       " 'their',\n",
       " 'students',\n",
       " 'when',\n",
       " 'i',\n",
       " 'saw',\n",
       " 'the',\n",
       " 'episode',\n",
       " 'in',\n",
       " 'which',\n",
       " 'a',\n",
       " 'student',\n",
       " 'repeatedly',\n",
       " 'tried',\n",
       " 'to',\n",
       " 'burn',\n",
       " 'down',\n",
       " 'the',\n",
       " 'school',\n",
       " 'i',\n",
       " 'immediately',\n",
       " 'recalled',\n",
       " 'at',\n",
       " 'high']"
      ]
     },
     "execution_count": 6,
     "metadata": {},
     "output_type": "execute_result"
    }
   ],
   "source": [
    "words[:100]"
   ]
  },
  {
   "cell_type": "markdown",
   "metadata": {},
   "source": [
    "### Encoding the words\n",
    "\n",
    "The embedding lookup requires that we pass in integers to our network. The easiest way to do this is to create dictionaries that map the words in the vocabulary to integers. Then we can convert each of our reviews into integers so they can be passed into the network.\n",
    "\n",
    "> **Exercise:** Now you're going to encode the words with integers. Build a dictionary that maps words to integers. Later we're going to pad our input vectors with zeros, so make sure the integers **start at 1, not 0**.\n",
    "> Also, convert the reviews to integers and store the reviews in a new list called `reviews_ints`. "
   ]
  },
  {
   "cell_type": "code",
   "execution_count": 7,
   "metadata": {},
   "outputs": [
    {
     "name": "stdout",
     "output_type": "stream",
     "text": [
      "Automatic pdb calling has been turned ON\n"
     ]
    }
   ],
   "source": [
    "%pdb"
   ]
  },
  {
   "cell_type": "code",
   "execution_count": 8,
   "metadata": {
    "collapsed": true,
    "scrolled": false
   },
   "outputs": [],
   "source": [
    "# Create your dictionary that maps vocab words to integers here\n",
    "vocab_to_int = {w:i for i,w in enumerate(set(words), 1)}"
   ]
  },
  {
   "cell_type": "code",
   "execution_count": 9,
   "metadata": {
    "collapsed": true,
    "scrolled": true
   },
   "outputs": [],
   "source": [
    "# Convert the reviews to integers, same shape as reviews list, but with integers\n",
    "reviews_ints = []\n",
    "\n",
    "for sentence in reviews:\n",
    "    sen_int = []\n",
    "    for w in sentence.split(' '):\n",
    "        if w != '':\n",
    "            sen_int.append(vocab_to_int[w])\n",
    "    reviews_ints.append(sen_int)"
   ]
  },
  {
   "cell_type": "code",
   "execution_count": 10,
   "metadata": {
    "collapsed": true
   },
   "outputs": [],
   "source": [
    "reviews_ints = [[vocab_to_int[w] for w in sentence.split(' ') if w !=''] for sentence in reviews]"
   ]
  },
  {
   "cell_type": "code",
   "execution_count": 11,
   "metadata": {},
   "outputs": [
    {
     "data": {
      "text/plain": [
       "[[71556,\n",
       "  43139,\n",
       "  72509,\n",
       "  59416,\n",
       "  54373,\n",
       "  30764,\n",
       "  23934,\n",
       "  15709,\n",
       "  51972,\n",
       "  34083,\n",
       "  31104,\n",
       "  29932,\n",
       "  61679,\n",
       "  8205,\n",
       "  26280,\n",
       "  28914,\n",
       "  52893,\n",
       "  17021,\n",
       "  44666,\n",
       "  47856,\n",
       "  61679,\n",
       "  3021,\n",
       "  26177,\n",
       "  69201,\n",
       "  45905,\n",
       "  34083,\n",
       "  18398,\n",
       "  36686,\n",
       "  36016,\n",
       "  69505,\n",
       "  59144,\n",
       "  6487,\n",
       "  61644,\n",
       "  71556,\n",
       "  43139,\n",
       "  56827,\n",
       "  30252,\n",
       "  72509,\n",
       "  53494,\n",
       "  55438,\n",
       "  59144,\n",
       "  21633,\n",
       "  71791,\n",
       "  72509,\n",
       "  3021,\n",
       "  34083,\n",
       "  51895,\n",
       "  59144,\n",
       "  644,\n",
       "  35162,\n",
       "  34083,\n",
       "  8656,\n",
       "  34425,\n",
       "  35263,\n",
       "  15708,\n",
       "  4120,\n",
       "  11502,\n",
       "  28722,\n",
       "  55473,\n",
       "  48967,\n",
       "  3021,\n",
       "  67581,\n",
       "  34083,\n",
       "  40477,\n",
       "  68793,\n",
       "  34083,\n",
       "  6062,\n",
       "  11964,\n",
       "  16158,\n",
       "  1072,\n",
       "  69505,\n",
       "  68793,\n",
       "  34083,\n",
       "  32517,\n",
       "  61403,\n",
       "  36022,\n",
       "  59583,\n",
       "  55473,\n",
       "  34425,\n",
       "  55819,\n",
       "  61403,\n",
       "  18513,\n",
       "  34083,\n",
       "  9834,\n",
       "  45905,\n",
       "  2920,\n",
       "  59416,\n",
       "  57558,\n",
       "  34843,\n",
       "  51182,\n",
       "  59144,\n",
       "  14118,\n",
       "  36375,\n",
       "  34083,\n",
       "  17021,\n",
       "  61403,\n",
       "  23846,\n",
       "  7115,\n",
       "  51972,\n",
       "  43139,\n",
       "  59416,\n",
       "  68287,\n",
       "  39074,\n",
       "  4741,\n",
       "  61403,\n",
       "  53314,\n",
       "  39107,\n",
       "  59144,\n",
       "  68902,\n",
       "  70985,\n",
       "  68793,\n",
       "  37557,\n",
       "  3021,\n",
       "  57558,\n",
       "  61496,\n",
       "  59144,\n",
       "  71556,\n",
       "  43139,\n",
       "  61403,\n",
       "  59393,\n",
       "  61644,\n",
       "  62744,\n",
       "  21831,\n",
       "  68793,\n",
       "  26177,\n",
       "  22435,\n",
       "  72998,\n",
       "  61644,\n",
       "  71556,\n",
       "  43139,\n",
       "  72509,\n",
       "  17633,\n",
       "  44250,\n",
       "  37543,\n",
       "  59416,\n",
       "  45158,\n",
       "  61644,\n",
       "  23934,\n",
       "  33624,\n",
       "  27234],\n",
       " [18177,\n",
       "  68793,\n",
       "  59416,\n",
       "  24703,\n",
       "  35263,\n",
       "  54193,\n",
       "  3055,\n",
       "  57009,\n",
       "  71689,\n",
       "  59416,\n",
       "  44991,\n",
       "  68034,\n",
       "  26437,\n",
       "  39882,\n",
       "  59416,\n",
       "  39829,\n",
       "  27513,\n",
       "  61644,\n",
       "  72509,\n",
       "  59416,\n",
       "  41164,\n",
       "  7164,\n",
       "  68793,\n",
       "  18013,\n",
       "  30764,\n",
       "  59416,\n",
       "  44222,\n",
       "  51283,\n",
       "  45821,\n",
       "  72509,\n",
       "  37133,\n",
       "  45298,\n",
       "  2751,\n",
       "  43273,\n",
       "  18304,\n",
       "  46892,\n",
       "  9325,\n",
       "  34083,\n",
       "  38752,\n",
       "  29769,\n",
       "  68793,\n",
       "  23934,\n",
       "  56827,\n",
       "  62507,\n",
       "  36912,\n",
       "  23934,\n",
       "  57172,\n",
       "  18013,\n",
       "  34083,\n",
       "  6062,\n",
       "  29932,\n",
       "  39882,\n",
       "  12565,\n",
       "  9196,\n",
       "  47087,\n",
       "  49879,\n",
       "  65704,\n",
       "  23934,\n",
       "  51267,\n",
       "  43488,\n",
       "  9745,\n",
       "  68927,\n",
       "  25683,\n",
       "  43959,\n",
       "  51380,\n",
       "  34083,\n",
       "  25395,\n",
       "  62563,\n",
       "  16019,\n",
       "  37133,\n",
       "  9745,\n",
       "  34083,\n",
       "  13921,\n",
       "  49600,\n",
       "  52550,\n",
       "  10878,\n",
       "  14017,\n",
       "  54227,\n",
       "  17404,\n",
       "  59144,\n",
       "  59416,\n",
       "  12089,\n",
       "  27976,\n",
       "  48219,\n",
       "  59416,\n",
       "  60084,\n",
       "  46619,\n",
       "  23934,\n",
       "  56827,\n",
       "  61123,\n",
       "  71791,\n",
       "  272,\n",
       "  64713,\n",
       "  72998,\n",
       "  39882,\n",
       "  8205,\n",
       "  15518,\n",
       "  39142,\n",
       "  9325,\n",
       "  32360,\n",
       "  21140,\n",
       "  25821,\n",
       "  3059,\n",
       "  32360,\n",
       "  15923,\n",
       "  43378,\n",
       "  5610,\n",
       "  59583,\n",
       "  72689,\n",
       "  70777,\n",
       "  15708,\n",
       "  16019,\n",
       "  23708,\n",
       "  23837]]"
      ]
     },
     "execution_count": 11,
     "metadata": {},
     "output_type": "execute_result"
    }
   ],
   "source": [
    "reviews_ints[:2]"
   ]
  },
  {
   "cell_type": "markdown",
   "metadata": {},
   "source": [
    "### Encoding the labels\n",
    "\n",
    "Our labels are \"positive\" or \"negative\". To use these labels in our network, we need to convert them to 0 and 1.\n",
    "\n",
    "> **Exercise:** Convert labels from `positive` and `negative` to 1 and 0, respectively."
   ]
  },
  {
   "cell_type": "code",
   "execution_count": 12,
   "metadata": {
    "collapsed": true
   },
   "outputs": [],
   "source": [
    "# Convert labels to 1s and 0s for 'positive' and 'negative'\n",
    "labels = np.array([1 if lab == 'positive' else 0 for lab in labels.split('\\n')])"
   ]
  },
  {
   "cell_type": "markdown",
   "metadata": {},
   "source": [
    "If you built `labels` correctly, you should see the next output."
   ]
  },
  {
   "cell_type": "code",
   "execution_count": 13,
   "metadata": {},
   "outputs": [
    {
     "name": "stdout",
     "output_type": "stream",
     "text": [
      "Zero-length reviews: 1\n",
      "Maximum review length: 2514\n"
     ]
    }
   ],
   "source": [
    "from collections import Counter\n",
    "review_lens = Counter([len(x) for x in reviews_ints])\n",
    "print(\"Zero-length reviews: {}\".format(review_lens[0]))\n",
    "print(\"Maximum review length: {}\".format(max(review_lens)))"
   ]
  },
  {
   "cell_type": "markdown",
   "metadata": {},
   "source": [
    "Okay, a couple issues here. We seem to have one review with zero length. And, the maximum review length is way too many steps for our RNN. Let's truncate to 200 steps. For reviews shorter than 200, we'll pad with 0s. For reviews longer than 200, we can truncate them to the first 200 characters.\n",
    "\n",
    "> **Exercise:** First, remove the review with zero length from the `reviews_ints` list."
   ]
  },
  {
   "cell_type": "code",
   "execution_count": 14,
   "metadata": {},
   "outputs": [
    {
     "data": {
      "text/plain": [
       "25000"
      ]
     },
     "execution_count": 14,
     "metadata": {},
     "output_type": "execute_result"
    }
   ],
   "source": [
    "# Filter out that review with 0 length\n",
    "none_zero_indices = [ii for ii, rw in enumerate(reviews_ints) if len(rw)>0]\n",
    "\n",
    "len(none_zero_indices)"
   ]
  },
  {
   "cell_type": "code",
   "execution_count": 15,
   "metadata": {
    "collapsed": true
   },
   "outputs": [],
   "source": [
    "reviews_ints = np.array([reviews_ints[i] for i in none_zero_indices])"
   ]
  },
  {
   "cell_type": "code",
   "execution_count": 16,
   "metadata": {
    "collapsed": true
   },
   "outputs": [],
   "source": [
    "labels = np.array([labels[i] for i in none_zero_indices])"
   ]
  },
  {
   "cell_type": "markdown",
   "metadata": {},
   "source": [
    "> **Exercise:** Now, create an array `features` that contains the data we'll pass to the network. The data should come from `review_ints`, since we want to feed integers to the network. Each row should be 200 elements long. For reviews shorter than 200 words, left pad with 0s. That is, if the review is `['best', 'movie', 'ever']`, `[117, 18, 128]` as integers, the row will look like `[0, 0, 0, ..., 0, 117, 18, 128]`. For reviews longer than 200, use on the first 200 words as the feature vector.\n",
    "\n",
    "This isn't trivial and there are a bunch of ways to do this. But, if you're going to be building your own deep learning networks, you're going to have to get used to preparing your data.\n",
    "\n"
   ]
  },
  {
   "cell_type": "code",
   "execution_count": 17,
   "metadata": {
    "collapsed": true
   },
   "outputs": [],
   "source": [
    "seq_len = 200\n",
    "features = np.array([rw[:seq_len] if len(rw)>seq_len-1 else [0]*(seq_len-len(rw))+rw for rw in reviews_ints])"
   ]
  },
  {
   "cell_type": "markdown",
   "metadata": {},
   "source": [
    "If you build features correctly, it should look like that cell output below."
   ]
  },
  {
   "cell_type": "code",
   "execution_count": 18,
   "metadata": {
    "scrolled": true
   },
   "outputs": [
    {
     "data": {
      "text/plain": [
       "array([[    0,     0,     0,     0,     0,     0,     0,     0,     0,\n",
       "            0,     0,     0,     0,     0,     0,     0,     0,     0,\n",
       "            0,     0,     0,     0,     0,     0,     0,     0,     0,\n",
       "            0,     0,     0,     0,     0,     0,     0,     0,     0,\n",
       "            0,     0,     0,     0,     0,     0,     0,     0,     0,\n",
       "            0,     0,     0,     0,     0,     0,     0,     0,     0,\n",
       "            0,     0,     0,     0,     0,     0, 71556, 43139, 72509,\n",
       "        59416, 54373, 30764, 23934, 15709, 51972, 34083, 31104, 29932,\n",
       "        61679,  8205, 26280, 28914, 52893, 17021, 44666, 47856, 61679,\n",
       "         3021, 26177, 69201, 45905, 34083, 18398, 36686, 36016, 69505,\n",
       "        59144,  6487, 61644, 71556, 43139, 56827, 30252, 72509, 53494,\n",
       "        55438],\n",
       "       [    0,     0,     0,     0,     0,     0,     0,     0,     0,\n",
       "            0,     0,     0,     0,     0,     0,     0,     0,     0,\n",
       "            0,     0,     0,     0,     0,     0,     0,     0,     0,\n",
       "            0,     0,     0,     0,     0,     0,     0,     0,     0,\n",
       "            0,     0,     0,     0,     0,     0,     0,     0,     0,\n",
       "            0,     0,     0,     0,     0,     0,     0,     0,     0,\n",
       "            0,     0,     0,     0,     0,     0,     0,     0,     0,\n",
       "            0,     0,     0,     0,     0,     0,     0,     0,     0,\n",
       "            0,     0,     0,     0,     0,     0,     0,     0,     0,\n",
       "            0,     0,     0,     0,     0, 18177, 68793, 59416, 24703,\n",
       "        35263, 54193,  3055, 57009, 71689, 59416, 44991, 68034, 26437,\n",
       "        39882],\n",
       "       [21628, 50700, 41529, 61679, 32431, 11210, 63822, 54193, 58966,\n",
       "         2751, 10460, 71689, 69201, 48555, 52952, 59416, 58497, 59144,\n",
       "        32352, 43959, 48219, 34083, 14538, 61644, 18138, 11050, 41355,\n",
       "        47146, 35263, 73387, 14661, 51380, 15979, 59144, 17021, 65983,\n",
       "        50700, 68226, 71689, 34083, 19269, 16125, 18519, 72998, 68793,\n",
       "        34083, 39297, 61679, 51267, 59416, 69762, 17307, 26956,  3154,\n",
       "        52893, 73654, 47856, 61679, 73351, 34083, 52720, 48219, 34633,\n",
       "        70205, 36970, 59144,  9697, 17986, 34083, 49939, 38153, 50700,\n",
       "         3154, 25544, 56296, 23000, 16019,  4078, 59144, 55748, 13228,\n",
       "        48219, 34083,    65, 66217, 66217, 48555, 37543, 25544,   272,\n",
       "        18138,  2657, 59416,  3998, 59144, 65919, 48219, 34083,    65,\n",
       "        71689],\n",
       "       [53694, 68034, 61679, 59416, 32167, 31332, 22746, 48288, 72509,\n",
       "         5988, 13228, 39882, 60184, 19527, 47856, 62815, 59144, 52901,\n",
       "        66281, 51365, 11006, 31170, 68289, 35263, 72509, 23310, 43614,\n",
       "        59416, 46692, 68793,  8233, 56827, 59144, 13063, 19240, 45905,\n",
       "        12498, 68793, 23934, 19797,  7434, 59144, 34083, 52396, 61679,\n",
       "        59416,  1299, 69567, 48219, 57182, 72509, 11006, 72323, 32274,\n",
       "         4825, 58342, 35804, 71137, 34083, 22746, 48522, 54775,  9745,\n",
       "        61679, 28181, 48555,  9303, 34492, 34083, 48288, 72509, 73930,\n",
       "          902,  9325, 34083, 11258, 67231, 59864, 72953,  7057, 13063,\n",
       "        58307, 30894, 56827, 58435, 54124, 43008,  8394, 38140, 60014,\n",
       "        35263, 19836, 34083, 65670, 56354, 26437, 39882, 40439, 73413,\n",
       "        56296],\n",
       "       [    0,     0,     0,     0,     0,     0,     0,     0,     0,\n",
       "            0,     0,     0,     0,     0,     0,     0,     0,     0,\n",
       "            0,     0,     0,     0,     0,     0,     0,     0,     0,\n",
       "            0,     0,     0,     0,     0,     0,     0,     0,     0,\n",
       "            0,     0,     0,     0,     0,     0,     0,     0,     0,\n",
       "            0,     0,     0,     0,     0, 44395, 41473, 29407,  9325,\n",
       "        43851, 72639,  9887, 58949, 73334, 32541, 68955, 61403,  2321,\n",
       "        22411, 23708, 59583, 40790, 30405, 45905, 45799, 11447, 26068,\n",
       "         9092, 59144, 34297, 34083, 59465, 48219, 48720, 72509, 59416,\n",
       "        68287, 61679, 15518, 61679,  4116, 45905, 15685, 45023, 34083,\n",
       "        57840, 48219, 73546, 72509, 69567, 41630, 11176, 19797, 27227,\n",
       "        68793],\n",
       "       [    0,     0,     0,     0,     0,     0,     0,     0,     0,\n",
       "            0,     0,     0,     0,     0,     0,     0,     0,     0,\n",
       "            0,     0,     0,     0,     0,     0,     0,     0,     0,\n",
       "            0,     0,     0,     0,     0,     0,     0,     0,     0,\n",
       "            0,     0,     0,     0,     0,     0,     0,     0,     0,\n",
       "            0,     0,     0,     0,     0,     0,     0,     0,     0,\n",
       "        54965, 67458, 68458, 68801, 61403,  8321, 27234, 40669, 26177,\n",
       "         4471, 48219, 51972, 12939, 32621, 48219, 34083, 19679, 68793,\n",
       "        34083, 59876, 28827, 54965, 44424, 43549, 59144, 45160, 68793,\n",
       "        64884, 55819, 44209, 46635, 34083, 43078, 39882, 35804, 59876,\n",
       "        24703, 25683, 34083, 45033, 30405, 19201, 72732, 61679, 19797,\n",
       "         6987],\n",
       "       [    0,     0,     0,     0,     0,     0,     0,     0,     0,\n",
       "            0,     0,     0,     0,     0,     0,     0,     0,     0,\n",
       "            0,     0,     0,     0,     0,     0,     0,     0,     0,\n",
       "            0,     0,     0,     0,     0,     0,     0,     0,     0,\n",
       "            0,     0,     0,     0,     0,     0,     0,     0,     0,\n",
       "            0,     0,     0,     0,     0,     0,     0,     0,     0,\n",
       "            0,     0,     0,     0,     0,     0,     0,     0,     0,\n",
       "            0,     0,     0,     0,     0,     0,     0,     0,     0,\n",
       "            0,     0,     0,     0, 54965, 72509, 32884, 34083, 16125,\n",
       "        13378, 67458, 63852, 34083, 15731, 13494, 25574,  1648, 46945,\n",
       "        23934,  4896, 21668, 19552, 59416, 36431, 55538, 68793, 21628,\n",
       "        58040],\n",
       "       [    0,     0,     0,     0,     0,     0,     0,     0,     0,\n",
       "            0,     0,     0,     0,     0,     0,     0,     0,     0,\n",
       "            0,     0,     0,     0,     0,     0,     0,     0,     0,\n",
       "            0,     0,     0,     0,     0,     0,     0,     0,     0,\n",
       "            0,     0,     0,     0,     0,     0,     0,     0,     0,\n",
       "            0,     0,  6854, 23962, 61403, 61854, 54965, 72509, 62939,\n",
       "        59144, 16019,  2751,  4954, 67458, 48555,  8322, 56296, 62563,\n",
       "         2321, 24708, 26437, 44701, 51972, 34083,  9117, 41366, 18519,\n",
       "        30503, 44992, 55473, 28397, 26437, 59583, 21668, 58208,  6961,\n",
       "        34083, 27513, 21834, 59583, 43939, 33821, 48457, 15405, 54965,\n",
       "        18177, 72509, 43488, 45774, 59144, 58208, 34083, 24826, 68793,\n",
       "        59416],\n",
       "       [    0,     0,     0,     0,     0,     0,     0,     0,     0,\n",
       "            0,     0,     0,     0,     0,     0,     0,     0,     0,\n",
       "            0,     0,     0,     0,     0,     0,     0,     0,     0,\n",
       "            0,     0,     0,     0,     0,     0,     0,     0,     0,\n",
       "            0,     0,     0,     0,     0,     0,     0,     0,     0,\n",
       "            0,     0,     0,     0,     0,     0,     0,     0,     0,\n",
       "            0,     0,     0,     0,     0,     0,     0,     0,     0,\n",
       "            0,     0,     0,     0,     0,     0,     0,     0,     0,\n",
       "            0,     0,     0,     0,     0,     0,     0, 54965, 72509,\n",
       "        21668, 34083, 19090,  8610, 15731, 67458, 23934, 48457, 53494,\n",
       "        10667, 72695, 71791, 16125, 68793, 13063, 57798, 59583, 33876,\n",
       "        40053],\n",
       "       [55819, 61403, 48457, 62887, 26177, 45838, 53124, 69505, 69904,\n",
       "        59144, 34083,  9625, 59144,  4120, 59926, 23934, 48457, 70985,\n",
       "        68793, 62744, 57798, 61403, 16814, 39882, 26177, 45838, 48555,\n",
       "        54965, 48457, 34083, 13594, 70985, 46847, 33445, 26437, 68793,\n",
       "        59522,  1518, 61403, 40053, 52952, 23708, 59926, 36083, 51267,\n",
       "        11921, 59583, 61403, 30503,  2321, 61097, 26437, 34083, 37586,\n",
       "        68793, 26177, 44666, 67883, 23934, 37543, 59416, 19430,  2056,\n",
       "        59583, 29712, 62253, 25412, 68793, 56827, 63532, 59583, 32337,\n",
       "        20368,  6288, 12041, 72509, 70985, 68793, 26177,  8010, 40567,\n",
       "        48555, 59926, 72509,  9325, 17633, 34083, 57692, 25412, 68793,\n",
       "        71955, 68793, 13063, 19050, 45905, 34083, 71019,  6933, 68793,\n",
       "        15935]])"
      ]
     },
     "execution_count": 18,
     "metadata": {},
     "output_type": "execute_result"
    }
   ],
   "source": [
    "features[:10,:100]"
   ]
  },
  {
   "cell_type": "markdown",
   "metadata": {},
   "source": [
    "## Training, Validation, Test\n",
    "\n"
   ]
  },
  {
   "cell_type": "markdown",
   "metadata": {},
   "source": [
    "With our data in nice shape, we'll split it into training, validation, and test sets.\n",
    "\n",
    "> **Exercise:** Create the training, validation, and test sets here. You'll need to create sets for the features and the labels, `train_x` and `train_y` for example. Define a split fraction, `split_frac` as the fraction of data to keep in the training set. Usually this is set to 0.8 or 0.9. The rest of the data will be split in half to create the validation and testing data."
   ]
  },
  {
   "cell_type": "code",
   "execution_count": 19,
   "metadata": {},
   "outputs": [
    {
     "name": "stdout",
     "output_type": "stream",
     "text": [
      "\t\t\tFeature Shapes:\n",
      "Train set: \t\t(20000, 200) \n",
      "Validation set: \t(2500, 200) \n",
      "Test set: \t\t(2500, 200)\n"
     ]
    }
   ],
   "source": [
    "split_frac = 0.8\n",
    "\n",
    "split_index = int(len(features)*split_frac)\n",
    "\n",
    "train_x, val_x = features[:split_index],features[split_index:]\n",
    "train_y, val_y = labels[:split_index],labels[split_index:]\n",
    "\n",
    "half_index = int(len(val_x)*0.5)\n",
    "\n",
    "val_x, test_x = val_x[:half_index], val_x[half_index:]\n",
    "val_y, test_y = val_y[:half_index], val_y[half_index:]\n",
    "\n",
    "print(\"\\t\\t\\tFeature Shapes:\")\n",
    "print(\"Train set: \\t\\t{}\".format(train_x.shape), \n",
    "      \"\\nValidation set: \\t{}\".format(val_x.shape),\n",
    "      \"\\nTest set: \\t\\t{}\".format(test_x.shape))"
   ]
  },
  {
   "cell_type": "markdown",
   "metadata": {},
   "source": [
    "With train, validation, and text fractions of 0.8, 0.1, 0.1, the final shapes should look like:\n",
    "```\n",
    "                    Feature Shapes:\n",
    "Train set: \t\t (20000, 200) \n",
    "Validation set: \t(2500, 200) \n",
    "Test set: \t\t  (2500, 200)\n",
    "```"
   ]
  },
  {
   "cell_type": "markdown",
   "metadata": {},
   "source": [
    "## Build the graph\n",
    "\n",
    "Here, we'll build the graph. First up, defining the hyperparameters.\n",
    "\n",
    "* `lstm_size`: Number of units in the hidden layers in the LSTM cells. Usually larger is better performance wise. Common values are 128, 256, 512, etc.\n",
    "* `lstm_layers`: Number of LSTM layers in the network. I'd start with 1, then add more if I'm underfitting.\n",
    "* `batch_size`: The number of reviews to feed the network in one training pass. Typically this should be set as high as you can go without running out of memory.\n",
    "* `learning_rate`: Learning rate"
   ]
  },
  {
   "cell_type": "code",
   "execution_count": 20,
   "metadata": {
    "collapsed": true
   },
   "outputs": [],
   "source": [
    "lstm_size = 256\n",
    "lstm_layers = 1\n",
    "batch_size = 500\n",
    "learning_rate = 0.001"
   ]
  },
  {
   "cell_type": "markdown",
   "metadata": {},
   "source": [
    "For the network itself, we'll be passing in our 200 element long review vectors. Each batch will be `batch_size` vectors. We'll also be using dropout on the LSTM layer, so we'll make a placeholder for the keep probability."
   ]
  },
  {
   "cell_type": "markdown",
   "metadata": {},
   "source": [
    "> **Exercise:** Create the `inputs_`, `labels_`, and drop out `keep_prob` placeholders using `tf.placeholder`. `labels_` needs to be two-dimensional to work with some functions later.  Since `keep_prob` is a scalar (a 0-dimensional tensor), you shouldn't provide a size to `tf.placeholder`."
   ]
  },
  {
   "cell_type": "code",
   "execution_count": 21,
   "metadata": {
    "collapsed": true
   },
   "outputs": [],
   "source": [
    "n_words = len(vocab_to_int) + 1 # Adding 1 because we use 0's for padding, dictionary started at 1\n",
    "\n",
    "# Create the graph object\n",
    "graph = tf.Graph()\n",
    "# Add nodes to the graph\n",
    "with graph.as_default():\n",
    "    inputs_ = tf.placeholder(tf.int32, shape=[batch_size,seq_len])\n",
    "    labels_ = tf.placeholder(tf.int32, shape=[batch_size,None])\n",
    "    keep_prob = tf.placeholder(tf.float32)"
   ]
  },
  {
   "cell_type": "markdown",
   "metadata": {},
   "source": [
    "### Embedding\n",
    "\n",
    "Now we'll add an embedding layer. We need to do this because there are 74000 words in our vocabulary. It is massively inefficient to one-hot encode our classes here. You should remember dealing with this problem from the word2vec lesson. Instead of one-hot encoding, we can have an embedding layer and use that layer as a lookup table. You could train an embedding layer using word2vec, then load it here. But, it's fine to just make a new layer and let the network learn the weights.\n",
    "\n",
    "> **Exercise:** Create the embedding lookup matrix as a `tf.Variable`. Use that embedding matrix to get the embedded vectors to pass to the LSTM cell with [`tf.nn.embedding_lookup`](https://www.tensorflow.org/api_docs/python/tf/nn/embedding_lookup). This function takes the embedding matrix and an input tensor, such as the review vectors. Then, it'll return another tensor with the embedded vectors. So, if the embedding layer has 200 units, the function will return a tensor with size [batch_size, 200].\n",
    "\n"
   ]
  },
  {
   "cell_type": "code",
   "execution_count": 22,
   "metadata": {
    "collapsed": true
   },
   "outputs": [],
   "source": [
    "# Size of the embedding vectors (number of units in the embedding layer)\n",
    "embed_size = 300 \n",
    "\n",
    "with graph.as_default():\n",
    "    embedding = tf.Variable(tf.random_uniform([n_words, embed_size],minval=-1,maxval=1))\n",
    "    embed = tf.nn.embedding_lookup(embedding, inputs_)"
   ]
  },
  {
   "cell_type": "code",
   "execution_count": 23,
   "metadata": {},
   "outputs": [
    {
     "data": {
      "text/plain": [
       "TensorShape([Dimension(500), Dimension(200), Dimension(300)])"
      ]
     },
     "execution_count": 23,
     "metadata": {},
     "output_type": "execute_result"
    }
   ],
   "source": [
    "embed.shape"
   ]
  },
  {
   "cell_type": "markdown",
   "metadata": {},
   "source": [
    "### LSTM cell\n",
    "\n",
    "<img src=\"assets/network_diagram.png\" width=400px>\n",
    "\n",
    "Next, we'll create our LSTM cells to use in the recurrent network ([TensorFlow documentation](https://www.tensorflow.org/api_docs/python/tf/contrib/rnn)). Here we are just defining what the cells look like. This isn't actually building the graph, just defining the type of cells we want in our graph.\n",
    "\n",
    "To create a basic LSTM cell for the graph, you'll want to use `tf.contrib.rnn.BasicLSTMCell`. Looking at the function documentation:\n",
    "\n",
    "```\n",
    "tf.contrib.rnn.BasicLSTMCell(num_units, forget_bias=1.0, input_size=None, state_is_tuple=True, activation=<function tanh at 0x109f1ef28>)\n",
    "```\n",
    "\n",
    "you can see it takes a parameter called `num_units`, the number of units in the cell, called `lstm_size` in this code. So then, you can write something like \n",
    "\n",
    "```\n",
    "lstm = tf.contrib.rnn.BasicLSTMCell(num_units)\n",
    "```\n",
    "\n",
    "to create an LSTM cell with `num_units`. Next, you can add dropout to the cell with `tf.contrib.rnn.DropoutWrapper`. This just wraps the cell in another cell, but with dropout added to the inputs and/or outputs. It's a really convenient way to make your network better with almost no effort! So you'd do something like\n",
    "\n",
    "```\n",
    "drop = tf.contrib.rnn.DropoutWrapper(cell, output_keep_prob=keep_prob)\n",
    "```\n",
    "\n",
    "Most of the time, your network will have better performance with more layers. That's sort of the magic of deep learning, adding more layers allows the network to learn really complex relationships. Again, there is a simple way to create multiple layers of LSTM cells with `tf.contrib.rnn.MultiRNNCell`:\n",
    "\n",
    "```\n",
    "cell = tf.contrib.rnn.MultiRNNCell([drop] * lstm_layers)\n",
    "```\n",
    "\n",
    "Here, `[drop] * lstm_layers` creates a list of cells (`drop`) that is `lstm_layers` long. The `MultiRNNCell` wrapper builds this into multiple layers of RNN cells, one for each cell in the list.\n",
    "\n",
    "So the final cell you're using in the network is actually multiple (or just one) LSTM cells with dropout. But it all works the same from an architectural viewpoint, just a more complicated graph in the cell.\n",
    "\n",
    "> **Exercise:** Below, use `tf.contrib.rnn.BasicLSTMCell` to create an LSTM cell. Then, add drop out to it with `tf.contrib.rnn.DropoutWrapper`. Finally, create multiple LSTM layers with `tf.contrib.rnn.MultiRNNCell`.\n",
    "\n",
    "Here is [a tutorial on building RNNs](https://www.tensorflow.org/tutorials/recurrent) that will help you out.\n"
   ]
  },
  {
   "cell_type": "code",
   "execution_count": 24,
   "metadata": {},
   "outputs": [
    {
     "name": "stderr",
     "output_type": "stream",
     "text": [
      "/Users/April/anaconda3/lib/python3.6/site-packages/h5py/__init__.py:34: FutureWarning: Conversion of the second argument of issubdtype from `float` to `np.floating` is deprecated. In future, it will be treated as `np.float64 == np.dtype(float).type`.\n",
      "  from ._conv import register_converters as _register_converters\n"
     ]
    }
   ],
   "source": [
    "with graph.as_default():\n",
    "    \n",
    "     # Your basic LSTM cell\n",
    "    lstm = tf.contrib.rnn.BasicLSTMCell(lstm_size)\n",
    "    \n",
    "    # Add dropout to the cell\n",
    "    drop = tf.contrib.rnn.DropoutWrapper(lstm, output_keep_prob=keep_prob)\n",
    "    \n",
    "    \n",
    "    # Stack up multiple LSTM layers, for deep learning\n",
    "    cell = tf.contrib.rnn.MultiRNNCell([drop] * lstm_layers)\n",
    "    \n",
    "    # Getting an initial state of all zeros\n",
    "    initial_state = cell.zero_state(batch_size, tf.float32)"
   ]
  },
  {
   "cell_type": "markdown",
   "metadata": {},
   "source": [
    "### RNN forward pass\n",
    "\n",
    "<img src=\"assets/network_diagram.png\" width=400px>\n",
    "\n",
    "Now we need to actually run the data through the RNN nodes. You can use [`tf.nn.dynamic_rnn`](https://www.tensorflow.org/api_docs/python/tf/nn/dynamic_rnn) to do this. You'd pass in the RNN cell you created (our multiple layered LSTM `cell` for instance), and the inputs to the network.\n",
    "\n",
    "```\n",
    "outputs, final_state = tf.nn.dynamic_rnn(cell, inputs, initial_state=initial_state)\n",
    "```\n",
    "\n",
    "Above I created an initial state, `initial_state`, to pass to the RNN. This is the cell state that is passed between the hidden layers in successive time steps. `tf.nn.dynamic_rnn` takes care of most of the work for us. We pass in our cell and the input to the cell, then it does the unrolling and everything else for us. It returns outputs for each time step and the final_state of the hidden layer.\n",
    "\n",
    "> **Exercise:** Use `tf.nn.dynamic_rnn` to add the forward pass through the RNN. Remember that we're actually passing in vectors from the embedding layer, `embed`.\n",
    "\n"
   ]
  },
  {
   "cell_type": "code",
   "execution_count": 25,
   "metadata": {
    "collapsed": true
   },
   "outputs": [],
   "source": [
    "with graph.as_default():\n",
    "    outputs, final_state = tf.nn.dynamic_rnn(cell, embed, initial_state=initial_state)"
   ]
  },
  {
   "cell_type": "code",
   "execution_count": 26,
   "metadata": {},
   "outputs": [
    {
     "data": {
      "text/plain": [
       "TensorShape([Dimension(500), Dimension(200), Dimension(300)])"
      ]
     },
     "execution_count": 26,
     "metadata": {},
     "output_type": "execute_result"
    }
   ],
   "source": [
    "embed.shape"
   ]
  },
  {
   "cell_type": "code",
   "execution_count": 27,
   "metadata": {},
   "outputs": [
    {
     "data": {
      "text/plain": [
       "TensorShape([Dimension(500), Dimension(200), Dimension(256)])"
      ]
     },
     "execution_count": 27,
     "metadata": {},
     "output_type": "execute_result"
    }
   ],
   "source": [
    "outputs.shape"
   ]
  },
  {
   "cell_type": "markdown",
   "metadata": {},
   "source": [
    "### Output\n",
    "\n",
    "We only care about the final output, we'll be using that as our sentiment prediction. So we need to grab the last output with `outputs[:, -1]`, the calculate the cost from that and `labels_`."
   ]
  },
  {
   "cell_type": "code",
   "execution_count": 28,
   "metadata": {},
   "outputs": [
    {
     "data": {
      "text/plain": [
       "TensorShape([Dimension(500), Dimension(None)])"
      ]
     },
     "execution_count": 28,
     "metadata": {},
     "output_type": "execute_result"
    }
   ],
   "source": [
    "labels_.shape"
   ]
  },
  {
   "cell_type": "code",
   "execution_count": 29,
   "metadata": {
    "collapsed": true
   },
   "outputs": [],
   "source": [
    "with graph.as_default():\n",
    "    predictions = tf.contrib.layers.fully_connected(outputs[:, -1], 1, activation_fn=tf.sigmoid)\n",
    "    cost = tf.losses.mean_squared_error(labels_, predictions)\n",
    "    \n",
    "    optimizer = tf.train.AdamOptimizer(learning_rate).minimize(cost)"
   ]
  },
  {
   "cell_type": "markdown",
   "metadata": {},
   "source": [
    "### Validation accuracy\n",
    "\n",
    "Here we can add a few nodes to calculate the accuracy which we'll use in the validation pass."
   ]
  },
  {
   "cell_type": "code",
   "execution_count": 30,
   "metadata": {
    "collapsed": true
   },
   "outputs": [],
   "source": [
    "with graph.as_default():\n",
    "    correct_pred = tf.equal(tf.cast(tf.round(predictions), tf.int32), labels_)\n",
    "    accuracy = tf.reduce_mean(tf.cast(correct_pred, tf.float32))"
   ]
  },
  {
   "cell_type": "code",
   "execution_count": 31,
   "metadata": {},
   "outputs": [
    {
     "data": {
      "text/plain": [
       "TensorShape([Dimension(500), Dimension(None)])"
      ]
     },
     "execution_count": 31,
     "metadata": {},
     "output_type": "execute_result"
    }
   ],
   "source": [
    "correct_pred.shape"
   ]
  },
  {
   "cell_type": "code",
   "execution_count": 32,
   "metadata": {},
   "outputs": [
    {
     "data": {
      "text/plain": [
       "TensorShape([])"
      ]
     },
     "execution_count": 32,
     "metadata": {},
     "output_type": "execute_result"
    }
   ],
   "source": [
    "accuracy.shape"
   ]
  },
  {
   "cell_type": "markdown",
   "metadata": {},
   "source": [
    "### Batching\n",
    "\n",
    "This is a simple function for returning batches from our data. First it removes data such that we only have full batches. Then it iterates through the `x` and `y` arrays and returns slices out of those arrays with size `[batch_size]`."
   ]
  },
  {
   "cell_type": "code",
   "execution_count": 33,
   "metadata": {
    "collapsed": true
   },
   "outputs": [],
   "source": [
    "def get_batches(x, y, batch_size=100):\n",
    "    \n",
    "    n_batches = len(x)//batch_size\n",
    "    x, y = x[:n_batches*batch_size], y[:n_batches*batch_size]\n",
    "    for ii in range(0, len(x), batch_size):\n",
    "        yield x[ii:ii+batch_size], y[ii:ii+batch_size]"
   ]
  },
  {
   "cell_type": "code",
   "execution_count": 34,
   "metadata": {
    "collapsed": true
   },
   "outputs": [],
   "source": [
    "import tensorboard"
   ]
  },
  {
   "cell_type": "code",
   "execution_count": 36,
   "metadata": {},
   "outputs": [
    {
     "data": {
      "text/plain": [
       "<tensorflow.python.summary.writer.writer.FileWriter at 0x1a31c6e048>"
      ]
     },
     "execution_count": 36,
     "metadata": {},
     "output_type": "execute_result"
    }
   ],
   "source": [
    "tf.summary.FileWriter('tensorboardtest', graph=graph)"
   ]
  },
  {
   "cell_type": "markdown",
   "metadata": {},
   "source": [
    "## Training\n",
    "\n",
    "Below is the typical training code. If you want to do this yourself, feel free to delete all this code and implement it yourself. Before you run this, make sure the `checkpoints` directory exists."
   ]
  },
  {
   "cell_type": "code",
   "execution_count": 35,
   "metadata": {},
   "outputs": [
    {
     "name": "stdout",
     "output_type": "stream",
     "text": [
      "Epoch: 0/10 Iteration: 5 Train loss: 0.243\n",
      "Epoch: 0/10 Iteration: 10 Train loss: 0.240\n",
      "Epoch: 0/10 Iteration: 15 Train loss: 0.219\n",
      "Epoch: 0/10 Iteration: 20 Train loss: 0.197\n",
      "Epoch: 0/10 Iteration: 25 Train loss: 0.183\n",
      "Val acc: 0.725\n",
      "Epoch: 0/10 Iteration: 30 Train loss: 0.194\n",
      "Epoch: 0/10 Iteration: 35 Train loss: 0.176\n",
      "Epoch: 0/10 Iteration: 40 Train loss: 0.153\n",
      "Epoch: 1/10 Iteration: 45 Train loss: 0.148\n",
      "Epoch: 1/10 Iteration: 50 Train loss: 0.166\n",
      "Val acc: 0.756\n",
      "Epoch: 1/10 Iteration: 55 Train loss: 0.141\n",
      "Epoch: 1/10 Iteration: 60 Train loss: 0.122\n",
      "Epoch: 1/10 Iteration: 65 Train loss: 0.129\n",
      "Epoch: 1/10 Iteration: 70 Train loss: 0.125\n",
      "Epoch: 1/10 Iteration: 75 Train loss: 0.126\n",
      "Val acc: 0.791\n",
      "Epoch: 1/10 Iteration: 80 Train loss: 0.128\n",
      "Epoch: 2/10 Iteration: 85 Train loss: 0.129\n",
      "Epoch: 2/10 Iteration: 90 Train loss: 0.149\n",
      "Epoch: 2/10 Iteration: 95 Train loss: 0.108\n",
      "Epoch: 2/10 Iteration: 100 Train loss: 0.149\n",
      "Val acc: 0.762\n",
      "Epoch: 2/10 Iteration: 105 Train loss: 0.125\n",
      "Epoch: 2/10 Iteration: 110 Train loss: 0.146\n",
      "Epoch: 2/10 Iteration: 115 Train loss: 0.129\n",
      "Epoch: 2/10 Iteration: 120 Train loss: 0.096\n",
      "Epoch: 3/10 Iteration: 125 Train loss: 0.100\n",
      "Val acc: 0.802\n",
      "Epoch: 3/10 Iteration: 130 Train loss: 0.158\n",
      "Epoch: 3/10 Iteration: 135 Train loss: 0.127\n",
      "Epoch: 3/10 Iteration: 140 Train loss: 0.251\n",
      "Epoch: 3/10 Iteration: 145 Train loss: 0.156\n",
      "Epoch: 3/10 Iteration: 150 Train loss: 0.150\n",
      "Val acc: 0.734\n",
      "Epoch: 3/10 Iteration: 155 Train loss: 0.123\n",
      "Epoch: 3/10 Iteration: 160 Train loss: 0.134\n",
      "Epoch: 4/10 Iteration: 165 Train loss: 0.077\n",
      "Epoch: 4/10 Iteration: 170 Train loss: 0.118\n",
      "Epoch: 4/10 Iteration: 175 Train loss: 0.071\n",
      "Val acc: 0.793\n",
      "Epoch: 4/10 Iteration: 180 Train loss: 0.097\n",
      "Epoch: 4/10 Iteration: 185 Train loss: 0.082\n",
      "Epoch: 4/10 Iteration: 190 Train loss: 0.082\n",
      "Epoch: 4/10 Iteration: 195 Train loss: 0.075\n",
      "Epoch: 4/10 Iteration: 200 Train loss: 0.068\n",
      "Val acc: 0.821\n",
      "Epoch: 5/10 Iteration: 205 Train loss: 0.114\n",
      "Epoch: 5/10 Iteration: 210 Train loss: 0.103\n",
      "Epoch: 5/10 Iteration: 215 Train loss: 0.075\n",
      "Epoch: 5/10 Iteration: 220 Train loss: 0.087\n",
      "Epoch: 5/10 Iteration: 225 Train loss: 0.099\n",
      "Val acc: 0.810\n",
      "Epoch: 5/10 Iteration: 230 Train loss: 0.305\n",
      "Epoch: 5/10 Iteration: 235 Train loss: 0.177\n",
      "Epoch: 5/10 Iteration: 240 Train loss: 0.195\n",
      "Epoch: 6/10 Iteration: 245 Train loss: 0.122\n",
      "Epoch: 6/10 Iteration: 250 Train loss: 0.111\n",
      "Val acc: 0.751\n",
      "Epoch: 6/10 Iteration: 255 Train loss: 0.138\n",
      "Epoch: 6/10 Iteration: 260 Train loss: 0.134\n",
      "Epoch: 6/10 Iteration: 265 Train loss: 0.098\n",
      "Epoch: 6/10 Iteration: 270 Train loss: 0.077\n",
      "Epoch: 6/10 Iteration: 275 Train loss: 0.103\n",
      "Val acc: 0.834\n",
      "Epoch: 6/10 Iteration: 280 Train loss: 0.130\n",
      "Epoch: 7/10 Iteration: 285 Train loss: 0.091\n",
      "Epoch: 7/10 Iteration: 290 Train loss: 0.091\n",
      "Epoch: 7/10 Iteration: 295 Train loss: 0.063\n",
      "Epoch: 7/10 Iteration: 300 Train loss: 0.066\n",
      "Val acc: 0.839\n",
      "Epoch: 7/10 Iteration: 305 Train loss: 0.045\n",
      "Epoch: 7/10 Iteration: 310 Train loss: 0.086\n",
      "Epoch: 7/10 Iteration: 315 Train loss: 0.083\n",
      "Epoch: 7/10 Iteration: 320 Train loss: 0.077\n",
      "Epoch: 8/10 Iteration: 325 Train loss: 0.075\n",
      "Val acc: 0.836\n",
      "Epoch: 8/10 Iteration: 330 Train loss: 0.109\n",
      "Epoch: 8/10 Iteration: 335 Train loss: 0.158\n",
      "Epoch: 8/10 Iteration: 340 Train loss: 0.072\n",
      "Epoch: 8/10 Iteration: 345 Train loss: 0.099\n",
      "Epoch: 8/10 Iteration: 350 Train loss: 0.062\n",
      "Val acc: 0.783\n",
      "Epoch: 8/10 Iteration: 355 Train loss: 0.073\n",
      "Epoch: 8/10 Iteration: 360 Train loss: 0.048\n",
      "Epoch: 9/10 Iteration: 365 Train loss: 0.048\n",
      "Epoch: 9/10 Iteration: 370 Train loss: 0.058\n",
      "Epoch: 9/10 Iteration: 375 Train loss: 0.043\n",
      "Val acc: 0.854\n",
      "Epoch: 9/10 Iteration: 380 Train loss: 0.049\n",
      "Epoch: 9/10 Iteration: 385 Train loss: 0.041\n",
      "Epoch: 9/10 Iteration: 390 Train loss: 0.045\n",
      "Epoch: 9/10 Iteration: 395 Train loss: 0.046\n",
      "Epoch: 9/10 Iteration: 400 Train loss: 0.029\n",
      "Val acc: 0.866\n"
     ]
    }
   ],
   "source": [
    "epochs = 10\n",
    "\n",
    "with graph.as_default():\n",
    "    saver = tf.train.Saver()\n",
    "\n",
    "with tf.Session(graph=graph) as sess:\n",
    "    sess.run(tf.global_variables_initializer())\n",
    "    iteration = 1\n",
    "    for e in range(epochs):\n",
    "        state = sess.run(initial_state)\n",
    "        \n",
    "        for ii, (x, y) in enumerate(get_batches(train_x, train_y, batch_size), 1):\n",
    "            feed = {inputs_: x,\n",
    "                    labels_: y[:, None],\n",
    "                    keep_prob: 0.5,\n",
    "                    initial_state: state}\n",
    "            loss, state, _ = sess.run([cost, final_state, optimizer], feed_dict=feed)\n",
    "            \n",
    "            if iteration%5==0:\n",
    "                print(\"Epoch: {}/{}\".format(e, epochs),\n",
    "                      \"Iteration: {}\".format(iteration),\n",
    "                      \"Train loss: {:.3f}\".format(loss))\n",
    "\n",
    "            if iteration%25==0:\n",
    "                val_acc = []\n",
    "                val_state = sess.run(cell.zero_state(batch_size, tf.float32))\n",
    "                for x, y in get_batches(val_x, val_y, batch_size):\n",
    "                    feed = {inputs_: x,\n",
    "                            labels_: y[:, None],\n",
    "                            keep_prob: 1,\n",
    "                            initial_state: val_state}\n",
    "                    batch_acc, val_state = sess.run([accuracy, final_state], feed_dict=feed)\n",
    "                    val_acc.append(batch_acc)\n",
    "                print(\"Val acc: {:.3f}\".format(np.mean(val_acc)))\n",
    "            iteration +=1\n",
    "    saver.save(sess, \"checkpoints/sentiment.ckpt\")"
   ]
  },
  {
   "cell_type": "markdown",
   "metadata": {},
   "source": [
    "## Testing"
   ]
  },
  {
   "cell_type": "code",
   "execution_count": 36,
   "metadata": {},
   "outputs": [
    {
     "name": "stdout",
     "output_type": "stream",
     "text": [
      "Test accuracy: 0.855\n"
     ]
    }
   ],
   "source": [
    "test_acc = []\n",
    "with tf.Session(graph=graph) as sess:\n",
    "    saver.restore(sess, tf.train.latest_checkpoint('checkpoints'))\n",
    "    test_state = sess.run(cell.zero_state(batch_size, tf.float32))\n",
    "    for ii, (x, y) in enumerate(get_batches(test_x, test_y, batch_size), 1):\n",
    "        feed = {inputs_: x,\n",
    "                labels_: y[:, None],\n",
    "                keep_prob: 1,\n",
    "                initial_state: test_state}\n",
    "        batch_acc, test_state = sess.run([accuracy, final_state], feed_dict=feed)\n",
    "        test_acc.append(batch_acc)\n",
    "    print(\"Test accuracy: {:.3f}\".format(np.mean(test_acc)))"
   ]
  }
 ],
 "metadata": {
  "kernelspec": {
   "display_name": "Python 3",
   "language": "python",
   "name": "python3"
  },
  "language_info": {
   "codemirror_mode": {
    "name": "ipython",
    "version": 3
   },
   "file_extension": ".py",
   "mimetype": "text/x-python",
   "name": "python",
   "nbconvert_exporter": "python",
   "pygments_lexer": "ipython3",
   "version": "3.6.3"
  }
 },
 "nbformat": 4,
 "nbformat_minor": 2
}
