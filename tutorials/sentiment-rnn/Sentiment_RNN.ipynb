{
 "cells": [
  {
   "cell_type": "markdown",
   "metadata": {},
   "source": [
    "# Sentiment Analysis with an RNN\n",
    "\n",
    "In this notebook, you'll implement a recurrent neural network that performs sentiment analysis. Using an RNN rather than a feedfoward network is more accurate since we can include information about the *sequence* of words. Here we'll use a dataset of movie reviews, accompanied by labels.\n",
    "\n",
    "The architecture for this network is shown below.\n",
    "\n",
    "<img src=\"assets/network_diagram.png\" width=400px>\n",
    "\n",
    "Here, we'll pass in words to an embedding layer. We need an embedding layer because we have tens of thousands of words, so we'll need a more efficient representation for our input data than one-hot encoded vectors. You should have seen this before from the word2vec lesson. You can actually train up an embedding with word2vec and use it here. But it's good enough to just have an embedding layer and let the network learn the embedding table on it's own.\n",
    "\n",
    "From the embedding layer, the new representations will be passed to LSTM cells. These will add recurrent connections to the network so we can include information about the sequence of words in the data. Finally, the LSTM cells will go to a sigmoid output layer here. We're using the sigmoid because we're trying to predict if this text has positive or negative sentiment. The output layer will just be a single unit then, with a sigmoid activation function.\n",
    "\n",
    "We don't care about the sigmoid outputs except for the very last one, we can ignore the rest. We'll calculate the cost from the output of the last step and the training label."
   ]
  },
  {
   "cell_type": "code",
   "execution_count": 1,
   "metadata": {},
   "outputs": [],
   "source": [
    "import numpy as np\n",
    "import tensorflow as tf"
   ]
  },
  {
   "cell_type": "code",
   "execution_count": 2,
   "metadata": {},
   "outputs": [],
   "source": [
    "with open('../sentiment-network/reviews.txt', 'r') as f:\n",
    "    reviews = f.read()\n",
    "with open('../sentiment-network/labels.txt', 'r') as f:\n",
    "    labels = f.read()"
   ]
  },
  {
   "cell_type": "code",
   "execution_count": 3,
   "metadata": {},
   "outputs": [
    {
     "data": {
      "text/plain": [
       "'bromwell high is a cartoon comedy . it ran at the same time as some other programs about school life  such as  teachers  . my   years in the teaching profession lead me to believe that bromwell high  s satire is much closer to reality than is  teachers  . the scramble to survive financially  the insightful students who can see right through their pathetic teachers  pomp  the pettiness of the whole situation  all remind me of the schools i knew and their students . when i saw the episode in which a student repeatedly tried to burn down the school  i immediately recalled . . . . . . . . . at . . . . . . . . . . high . a classic line inspector i  m here to sack one of your teachers . student welcome to bromwell high . i expect that many adults of my age think that bromwell high is far fetched . what a pity that it isn  t   \\nstory of a man who has unnatural feelings for a pig . starts out with a opening scene that is a terrific example of absurd comedy . a formal orchestra audience is turned into an insane  violent mob by the crazy chantings of it  s singers . unfortunately it stays absurd the whole time with no general narrative eventually making it just too off putting . even those from the era should be turned off . the cryptic dialogue would make shakespeare seem easy to a third grader . on a technical level it  s better than you might think with some good cinematography by future great vilmos zsigmond . future stars sally kirkland and frederic forrest can be seen briefly .  \\nhomelessness  or houselessness as george carlin stated  has been an issue for years but never a plan to help those on the street that were once considered human who did everything from going to school  work  or vote for the matter . most people think of the homeless as just a lost cause while worrying about things such as racism  the war on iraq  pressuring kids to succeed  technology  the elections  inflation  or worrying if they  ll be next to end up on the streets .  br    br   but what if y'"
      ]
     },
     "execution_count": 3,
     "metadata": {},
     "output_type": "execute_result"
    }
   ],
   "source": [
    "reviews[:2000]"
   ]
  },
  {
   "cell_type": "markdown",
   "metadata": {},
   "source": [
    "## Data preprocessing\n",
    "\n",
    "The first step when building a neural network model is getting your data into the proper form to feed into the network. Since we're using embedding layers, we'll need to encode each word with an integer. We'll also want to clean it up a bit.\n",
    "\n",
    "You can see an example of the reviews data above. We'll want to get rid of those periods. Also, you might notice that the reviews are delimited with newlines `\\n`. To deal with those, I'm going to split the text into each review using `\\n` as the delimiter. Then I can combined all the reviews back together into one big string.\n",
    "\n",
    "First, let's remove all punctuation. Then get all the text without the newlines and split it into individual words."
   ]
  },
  {
   "cell_type": "code",
   "execution_count": 4,
   "metadata": {},
   "outputs": [],
   "source": [
    "from string import punctuation\n",
    "all_text = ''.join([c for c in reviews if c not in punctuation])\n",
    "reviews = all_text.split('\\n')\n",
    "\n",
    "all_text = ' '.join(reviews)\n",
    "words = all_text.split()"
   ]
  },
  {
   "cell_type": "code",
   "execution_count": 5,
   "metadata": {},
   "outputs": [
    {
     "data": {
      "text/plain": [
       "'bromwell high is a cartoon comedy  it ran at the same time as some other programs about school life  such as  teachers   my   years in the teaching profession lead me to believe that bromwell high  s satire is much closer to reality than is  teachers   the scramble to survive financially  the insightful students who can see right through their pathetic teachers  pomp  the pettiness of the whole situation  all remind me of the schools i knew and their students  when i saw the episode in which a student repeatedly tried to burn down the school  i immediately recalled          at           high  a classic line inspector i  m here to sack one of your teachers  student welcome to bromwell high  i expect that many adults of my age think that bromwell high is far fetched  what a pity that it isn  t    story of a man who has unnatural feelings for a pig  starts out with a opening scene that is a terrific example of absurd comedy  a formal orchestra audience is turned into an insane  violent mob by the crazy chantings of it  s singers  unfortunately it stays absurd the whole time with no general narrative eventually making it just too off putting  even those from the era should be turned off  the cryptic dialogue would make shakespeare seem easy to a third grader  on a technical level it  s better than you might think with some good cinematography by future great vilmos zsigmond  future stars sally kirkland and frederic forrest can be seen briefly    homelessness  or houselessness as george carlin stated  has been an issue for years but never a plan to help those on the street that were once considered human who did everything from going to school  work  or vote for the matter  most people think of the homeless as just a lost cause while worrying about things such as racism  the war on iraq  pressuring kids to succeed  technology  the elections  inflation  or worrying if they  ll be next to end up on the streets   br    br   but what if you were given a bet to live on the st'"
      ]
     },
     "execution_count": 5,
     "metadata": {},
     "output_type": "execute_result"
    }
   ],
   "source": [
    "all_text[:2000]"
   ]
  },
  {
   "cell_type": "code",
   "execution_count": 6,
   "metadata": {},
   "outputs": [
    {
     "data": {
      "text/plain": [
       "['bromwell',\n",
       " 'high',\n",
       " 'is',\n",
       " 'a',\n",
       " 'cartoon',\n",
       " 'comedy',\n",
       " 'it',\n",
       " 'ran',\n",
       " 'at',\n",
       " 'the',\n",
       " 'same',\n",
       " 'time',\n",
       " 'as',\n",
       " 'some',\n",
       " 'other',\n",
       " 'programs',\n",
       " 'about',\n",
       " 'school',\n",
       " 'life',\n",
       " 'such',\n",
       " 'as',\n",
       " 'teachers',\n",
       " 'my',\n",
       " 'years',\n",
       " 'in',\n",
       " 'the',\n",
       " 'teaching',\n",
       " 'profession',\n",
       " 'lead',\n",
       " 'me',\n",
       " 'to',\n",
       " 'believe',\n",
       " 'that',\n",
       " 'bromwell',\n",
       " 'high',\n",
       " 's',\n",
       " 'satire',\n",
       " 'is',\n",
       " 'much',\n",
       " 'closer',\n",
       " 'to',\n",
       " 'reality',\n",
       " 'than',\n",
       " 'is',\n",
       " 'teachers',\n",
       " 'the',\n",
       " 'scramble',\n",
       " 'to',\n",
       " 'survive',\n",
       " 'financially',\n",
       " 'the',\n",
       " 'insightful',\n",
       " 'students',\n",
       " 'who',\n",
       " 'can',\n",
       " 'see',\n",
       " 'right',\n",
       " 'through',\n",
       " 'their',\n",
       " 'pathetic',\n",
       " 'teachers',\n",
       " 'pomp',\n",
       " 'the',\n",
       " 'pettiness',\n",
       " 'of',\n",
       " 'the',\n",
       " 'whole',\n",
       " 'situation',\n",
       " 'all',\n",
       " 'remind',\n",
       " 'me',\n",
       " 'of',\n",
       " 'the',\n",
       " 'schools',\n",
       " 'i',\n",
       " 'knew',\n",
       " 'and',\n",
       " 'their',\n",
       " 'students',\n",
       " 'when',\n",
       " 'i',\n",
       " 'saw',\n",
       " 'the',\n",
       " 'episode',\n",
       " 'in',\n",
       " 'which',\n",
       " 'a',\n",
       " 'student',\n",
       " 'repeatedly',\n",
       " 'tried',\n",
       " 'to',\n",
       " 'burn',\n",
       " 'down',\n",
       " 'the',\n",
       " 'school',\n",
       " 'i',\n",
       " 'immediately',\n",
       " 'recalled',\n",
       " 'at',\n",
       " 'high']"
      ]
     },
     "execution_count": 6,
     "metadata": {},
     "output_type": "execute_result"
    }
   ],
   "source": [
    "words[:100]"
   ]
  },
  {
   "cell_type": "markdown",
   "metadata": {},
   "source": [
    "### Encoding the words\n",
    "\n",
    "The embedding lookup requires that we pass in integers to our network. The easiest way to do this is to create dictionaries that map the words in the vocabulary to integers. Then we can convert each of our reviews into integers so they can be passed into the network.\n",
    "\n",
    "> **Exercise:** Now you're going to encode the words with integers. Build a dictionary that maps words to integers. Later we're going to pad our input vectors with zeros, so make sure the integers **start at 1, not 0**.\n",
    "> Also, convert the reviews to integers and store the reviews in a new list called `reviews_ints`. "
   ]
  },
  {
   "cell_type": "code",
   "execution_count": 7,
   "metadata": {},
   "outputs": [
    {
     "name": "stdout",
     "output_type": "stream",
     "text": [
      "Automatic pdb calling has been turned ON\n"
     ]
    }
   ],
   "source": [
    "%pdb"
   ]
  },
  {
   "cell_type": "code",
   "execution_count": 8,
   "metadata": {
    "scrolled": false
   },
   "outputs": [],
   "source": [
    "# Create your dictionary that maps vocab words to integers here\n",
    "vocab_to_int = {w:i for i,w in enumerate(set(words), 1)}"
   ]
  },
  {
   "cell_type": "code",
   "execution_count": 9,
   "metadata": {
    "scrolled": true
   },
   "outputs": [],
   "source": [
    "# Convert the reviews to integers, same shape as reviews list, but with integers\n",
    "reviews_ints = []\n",
    "\n",
    "for sentence in reviews:\n",
    "    sen_int = []\n",
    "    for w in sentence.split(' '):\n",
    "        if w != '':\n",
    "            sen_int.append(vocab_to_int[w])\n",
    "    reviews_ints.append(sen_int)"
   ]
  },
  {
   "cell_type": "code",
   "execution_count": 10,
   "metadata": {},
   "outputs": [],
   "source": [
    "reviews_ints = [[vocab_to_int[w] for w in sentence.split(' ') if w !=''] for sentence in reviews]"
   ]
  },
  {
   "cell_type": "code",
   "execution_count": 11,
   "metadata": {},
   "outputs": [
    {
     "data": {
      "text/plain": [
       "[[56505,\n",
       "  32823,\n",
       "  35978,\n",
       "  55074,\n",
       "  17039,\n",
       "  62977,\n",
       "  44074,\n",
       "  50185,\n",
       "  34619,\n",
       "  44710,\n",
       "  46955,\n",
       "  60216,\n",
       "  1545,\n",
       "  44226,\n",
       "  36136,\n",
       "  41656,\n",
       "  47386,\n",
       "  35796,\n",
       "  31242,\n",
       "  46228,\n",
       "  1545,\n",
       "  24220,\n",
       "  71394,\n",
       "  40416,\n",
       "  15537,\n",
       "  44710,\n",
       "  39434,\n",
       "  61739,\n",
       "  37016,\n",
       "  34710,\n",
       "  43937,\n",
       "  71567,\n",
       "  66973,\n",
       "  56505,\n",
       "  32823,\n",
       "  8660,\n",
       "  69990,\n",
       "  35978,\n",
       "  1775,\n",
       "  74023,\n",
       "  43937,\n",
       "  37975,\n",
       "  34443,\n",
       "  35978,\n",
       "  24220,\n",
       "  44710,\n",
       "  62103,\n",
       "  43937,\n",
       "  13221,\n",
       "  1456,\n",
       "  44710,\n",
       "  25269,\n",
       "  25967,\n",
       "  19961,\n",
       "  26053,\n",
       "  10742,\n",
       "  68228,\n",
       "  12788,\n",
       "  51688,\n",
       "  6321,\n",
       "  24220,\n",
       "  40511,\n",
       "  44710,\n",
       "  29477,\n",
       "  72801,\n",
       "  44710,\n",
       "  34818,\n",
       "  37030,\n",
       "  47086,\n",
       "  63164,\n",
       "  34710,\n",
       "  72801,\n",
       "  44710,\n",
       "  26778,\n",
       "  54032,\n",
       "  41994,\n",
       "  36840,\n",
       "  51688,\n",
       "  25967,\n",
       "  17101,\n",
       "  54032,\n",
       "  72024,\n",
       "  44710,\n",
       "  57968,\n",
       "  15537,\n",
       "  13739,\n",
       "  55074,\n",
       "  33182,\n",
       "  59930,\n",
       "  39164,\n",
       "  43937,\n",
       "  40517,\n",
       "  23790,\n",
       "  44710,\n",
       "  35796,\n",
       "  54032,\n",
       "  53955,\n",
       "  14181,\n",
       "  34619,\n",
       "  32823,\n",
       "  55074,\n",
       "  57589,\n",
       "  16785,\n",
       "  23718,\n",
       "  54032,\n",
       "  62764,\n",
       "  13205,\n",
       "  43937,\n",
       "  57734,\n",
       "  13076,\n",
       "  72801,\n",
       "  23758,\n",
       "  24220,\n",
       "  33182,\n",
       "  33759,\n",
       "  43937,\n",
       "  56505,\n",
       "  32823,\n",
       "  54032,\n",
       "  27861,\n",
       "  66973,\n",
       "  15973,\n",
       "  15700,\n",
       "  72801,\n",
       "  71394,\n",
       "  60285,\n",
       "  66755,\n",
       "  66973,\n",
       "  56505,\n",
       "  32823,\n",
       "  35978,\n",
       "  45049,\n",
       "  43799,\n",
       "  63789,\n",
       "  55074,\n",
       "  7178,\n",
       "  66973,\n",
       "  44074,\n",
       "  8255,\n",
       "  58785],\n",
       " [13854,\n",
       "  72801,\n",
       "  55074,\n",
       "  72148,\n",
       "  19961,\n",
       "  65848,\n",
       "  17884,\n",
       "  22893,\n",
       "  8746,\n",
       "  55074,\n",
       "  46514,\n",
       "  16322,\n",
       "  55957,\n",
       "  45415,\n",
       "  55074,\n",
       "  26463,\n",
       "  67514,\n",
       "  66973,\n",
       "  35978,\n",
       "  55074,\n",
       "  57192,\n",
       "  42062,\n",
       "  72801,\n",
       "  24336,\n",
       "  62977,\n",
       "  55074,\n",
       "  62444,\n",
       "  5937,\n",
       "  17437,\n",
       "  35978,\n",
       "  22926,\n",
       "  11900,\n",
       "  27724,\n",
       "  38423,\n",
       "  15063,\n",
       "  67165,\n",
       "  32416,\n",
       "  44710,\n",
       "  10983,\n",
       "  45252,\n",
       "  72801,\n",
       "  44074,\n",
       "  8660,\n",
       "  63862,\n",
       "  73180,\n",
       "  44074,\n",
       "  67821,\n",
       "  24336,\n",
       "  44710,\n",
       "  34818,\n",
       "  60216,\n",
       "  45415,\n",
       "  59250,\n",
       "  50302,\n",
       "  8519,\n",
       "  5585,\n",
       "  13027,\n",
       "  44074,\n",
       "  13785,\n",
       "  11156,\n",
       "  24145,\n",
       "  67122,\n",
       "  22419,\n",
       "  13352,\n",
       "  36598,\n",
       "  44710,\n",
       "  59878,\n",
       "  6894,\n",
       "  19393,\n",
       "  22926,\n",
       "  24145,\n",
       "  44710,\n",
       "  66738,\n",
       "  8989,\n",
       "  46639,\n",
       "  51022,\n",
       "  55062,\n",
       "  54443,\n",
       "  68586,\n",
       "  43937,\n",
       "  55074,\n",
       "  61824,\n",
       "  22674,\n",
       "  64107,\n",
       "  55074,\n",
       "  13467,\n",
       "  37007,\n",
       "  44074,\n",
       "  8660,\n",
       "  63920,\n",
       "  34443,\n",
       "  49085,\n",
       "  60605,\n",
       "  66755,\n",
       "  45415,\n",
       "  44226,\n",
       "  33614,\n",
       "  28966,\n",
       "  32416,\n",
       "  38546,\n",
       "  50296,\n",
       "  44029,\n",
       "  7571,\n",
       "  38546,\n",
       "  20392,\n",
       "  32128,\n",
       "  26290,\n",
       "  36840,\n",
       "  58003,\n",
       "  7002,\n",
       "  26053,\n",
       "  19393,\n",
       "  27470,\n",
       "  52928]]"
      ]
     },
     "execution_count": 11,
     "metadata": {},
     "output_type": "execute_result"
    }
   ],
   "source": [
    "reviews_ints[:2]"
   ]
  },
  {
   "cell_type": "markdown",
   "metadata": {},
   "source": [
    "### Encoding the labels\n",
    "\n",
    "Our labels are \"positive\" or \"negative\". To use these labels in our network, we need to convert them to 0 and 1.\n",
    "\n",
    "> **Exercise:** Convert labels from `positive` and `negative` to 1 and 0, respectively."
   ]
  },
  {
   "cell_type": "code",
   "execution_count": 12,
   "metadata": {},
   "outputs": [],
   "source": [
    "# Convert labels to 1s and 0s for 'positive' and 'negative'\n",
    "labels = np.array([1 if lab == 'positive' else 0 for lab in labels.split('\\n')])"
   ]
  },
  {
   "cell_type": "markdown",
   "metadata": {},
   "source": [
    "If you built `labels` correctly, you should see the next output."
   ]
  },
  {
   "cell_type": "code",
   "execution_count": 13,
   "metadata": {},
   "outputs": [
    {
     "name": "stdout",
     "output_type": "stream",
     "text": [
      "Zero-length reviews: 1\n",
      "Maximum review length: 2514\n"
     ]
    }
   ],
   "source": [
    "from collections import Counter\n",
    "review_lens = Counter([len(x) for x in reviews_ints])\n",
    "print(\"Zero-length reviews: {}\".format(review_lens[0]))\n",
    "print(\"Maximum review length: {}\".format(max(review_lens)))"
   ]
  },
  {
   "cell_type": "markdown",
   "metadata": {},
   "source": [
    "Okay, a couple issues here. We seem to have one review with zero length. And, the maximum review length is way too many steps for our RNN. Let's truncate to 200 steps. For reviews shorter than 200, we'll pad with 0s. For reviews longer than 200, we can truncate them to the first 200 characters.\n",
    "\n",
    "> **Exercise:** First, remove the review with zero length from the `reviews_ints` list."
   ]
  },
  {
   "cell_type": "code",
   "execution_count": 14,
   "metadata": {},
   "outputs": [
    {
     "data": {
      "text/plain": [
       "25000"
      ]
     },
     "execution_count": 14,
     "metadata": {},
     "output_type": "execute_result"
    }
   ],
   "source": [
    "# Filter out that review with 0 length\n",
    "none_zero_indices = [ii for ii, rw in enumerate(reviews_ints) if len(rw)>0]\n",
    "\n",
    "len(none_zero_indices)"
   ]
  },
  {
   "cell_type": "code",
   "execution_count": 15,
   "metadata": {},
   "outputs": [],
   "source": [
    "reviews_ints = np.array([reviews_ints[i] for i in none_zero_indices])"
   ]
  },
  {
   "cell_type": "code",
   "execution_count": 16,
   "metadata": {},
   "outputs": [],
   "source": [
    "labels = np.array([labels[i] for i in none_zero_indices])"
   ]
  },
  {
   "cell_type": "markdown",
   "metadata": {},
   "source": [
    "> **Exercise:** Now, create an array `features` that contains the data we'll pass to the network. The data should come from `review_ints`, since we want to feed integers to the network. Each row should be 200 elements long. For reviews shorter than 200 words, left pad with 0s. That is, if the review is `['best', 'movie', 'ever']`, `[117, 18, 128]` as integers, the row will look like `[0, 0, 0, ..., 0, 117, 18, 128]`. For reviews longer than 200, use on the first 200 words as the feature vector.\n",
    "\n",
    "This isn't trivial and there are a bunch of ways to do this. But, if you're going to be building your own deep learning networks, you're going to have to get used to preparing your data.\n",
    "\n"
   ]
  },
  {
   "cell_type": "code",
   "execution_count": 17,
   "metadata": {},
   "outputs": [],
   "source": [
    "seq_len = 200\n",
    "features = np.array([rw[:seq_len] if len(rw)>seq_len-1 else [0]*(seq_len-len(rw))+rw for rw in reviews_ints])"
   ]
  },
  {
   "cell_type": "markdown",
   "metadata": {},
   "source": [
    "If you build features correctly, it should look like that cell output below."
   ]
  },
  {
   "cell_type": "code",
   "execution_count": 18,
   "metadata": {
    "scrolled": true
   },
   "outputs": [
    {
     "data": {
      "text/plain": [
       "array([[    0,     0,     0,     0,     0,     0,     0,     0,     0,\n",
       "            0,     0,     0,     0,     0,     0,     0,     0,     0,\n",
       "            0,     0,     0,     0,     0,     0,     0,     0,     0,\n",
       "            0,     0,     0,     0,     0,     0,     0,     0,     0,\n",
       "            0,     0,     0,     0,     0,     0,     0,     0,     0,\n",
       "            0,     0,     0,     0,     0,     0,     0,     0,     0,\n",
       "            0,     0,     0,     0,     0,     0, 56505, 32823, 35978,\n",
       "        55074, 17039, 62977, 44074, 50185, 34619, 44710, 46955, 60216,\n",
       "         1545, 44226, 36136, 41656, 47386, 35796, 31242, 46228,  1545,\n",
       "        24220, 71394, 40416, 15537, 44710, 39434, 61739, 37016, 34710,\n",
       "        43937, 71567, 66973, 56505, 32823,  8660, 69990, 35978,  1775,\n",
       "        74023],\n",
       "       [    0,     0,     0,     0,     0,     0,     0,     0,     0,\n",
       "            0,     0,     0,     0,     0,     0,     0,     0,     0,\n",
       "            0,     0,     0,     0,     0,     0,     0,     0,     0,\n",
       "            0,     0,     0,     0,     0,     0,     0,     0,     0,\n",
       "            0,     0,     0,     0,     0,     0,     0,     0,     0,\n",
       "            0,     0,     0,     0,     0,     0,     0,     0,     0,\n",
       "            0,     0,     0,     0,     0,     0,     0,     0,     0,\n",
       "            0,     0,     0,     0,     0,     0,     0,     0,     0,\n",
       "            0,     0,     0,     0,     0,     0,     0,     0,     0,\n",
       "            0,     0,     0,     0,     0, 13854, 72801, 55074, 72148,\n",
       "        19961, 65848, 17884, 22893,  8746, 55074, 46514, 16322, 55957,\n",
       "        45415],\n",
       "       [51788, 51260, 55847,  1545, 31253, 49283,   204, 65848, 43940,\n",
       "        27724,  1530,  8746, 40416, 33637, 38731, 55074, 23063, 43937,\n",
       "        40144, 13352, 64107, 44710, 22125, 66973, 24648, 38891, 63811,\n",
       "        40339, 19961, 49762, 24034, 36598, 50117, 43937, 35796,  4910,\n",
       "        51260, 55306,  8746, 44710,  8371, 63493, 46813, 66755, 72801,\n",
       "        44710, 33103,  1545, 13785, 55074, 31442, 70607, 16229, 54856,\n",
       "        47386, 24972, 46228,  1545,  1044, 44710, 21374, 64107, 23785,\n",
       "        11310, 44273, 43937, 11424, 72258, 44710, 11069, 34227, 51260,\n",
       "        54856, 73712, 42332, 43607, 19393, 16103, 43937, 42745, 53030,\n",
       "        64107, 44710,  5599, 34201, 34201, 33637, 63789, 73712, 49085,\n",
       "        24648, 66351, 55074, 44809, 43937,  4716, 64107, 44710,  5599,\n",
       "         8746],\n",
       "       [48805, 16322,  1545, 55074,  6764, 16654,  7856, 31218, 35978,\n",
       "        14673, 53030, 45415, 59469, 21267, 46228,  2319, 43937, 30106,\n",
       "        12940, 14676, 13712, 56721, 19757, 19961, 35978, 46469, 24331,\n",
       "        55074, 59757, 72801, 69304,  8660, 43937, 39205, 73701, 15537,\n",
       "        64927, 72801, 44074, 25901, 31154, 43937, 44710, 11987,  1545,\n",
       "        55074, 22529, 46663, 64107, 49529, 35978, 13712, 70429, 63995,\n",
       "        26645, 13480, 28688, 62216, 44710,  7856, 18041,  3555, 24145,\n",
       "         1545, 61323, 33637, 66517, 53648, 44710, 31218, 35978, 26242,\n",
       "        45084, 32416, 44710, 26958, 42997, 44000, 55627, 36189, 39205,\n",
       "        12232, 30383,  8660, 28868, 68476, 38657, 51019, 44340, 70107,\n",
       "        19961,  6887, 44710, 30198, 65714, 55957, 45415, 53849, 10872,\n",
       "        42332],\n",
       "       [    0,     0,     0,     0,     0,     0,     0,     0,     0,\n",
       "            0,     0,     0,     0,     0,     0,     0,     0,     0,\n",
       "            0,     0,     0,     0,     0,     0,     0,     0,     0,\n",
       "            0,     0,     0,     0,     0,     0,     0,     0,     0,\n",
       "            0,     0,     0,     0,     0,     0,     0,     0,     0,\n",
       "            0,     0,     0,     0,     0, 22646, 16134, 40331, 32416,\n",
       "        17051,   708,  1222, 63978, 38279,  4789, 10405, 54032,  3697,\n",
       "        68375, 27470, 36840, 49957, 68043, 15537, 14698, 44563,  2396,\n",
       "        59758, 43937, 48193, 44710, 73564, 64107, 26352, 35978, 55074,\n",
       "        57589,  1545, 33614,  1545, 32801, 15537, 18988,  8498, 44710,\n",
       "        52453, 64107, 17216, 35978, 46663,   929, 45273, 25901, 71750,\n",
       "        72801],\n",
       "       [    0,     0,     0,     0,     0,     0,     0,     0,     0,\n",
       "            0,     0,     0,     0,     0,     0,     0,     0,     0,\n",
       "            0,     0,     0,     0,     0,     0,     0,     0,     0,\n",
       "            0,     0,     0,     0,     0,     0,     0,     0,     0,\n",
       "            0,     0,     0,     0,     0,     0,     0,     0,     0,\n",
       "            0,     0,     0,     0,     0,     0,     0,     0,     0,\n",
       "        51595, 17766, 11017, 11111, 54032, 59063, 58785, 51957, 71394,\n",
       "        62698, 64107, 34619, 46689, 34467, 64107, 44710, 23332, 72801,\n",
       "        44710, 37949, 19822, 51595,  3783, 13574, 43937, 58520, 72801,\n",
       "        49462, 17101,  8823,  4553, 44710, 54952, 45415, 28688, 37949,\n",
       "        72148, 22419, 44710, 30736, 68043, 13226,  9144,  1545, 25901,\n",
       "        73250],\n",
       "       [    0,     0,     0,     0,     0,     0,     0,     0,     0,\n",
       "            0,     0,     0,     0,     0,     0,     0,     0,     0,\n",
       "            0,     0,     0,     0,     0,     0,     0,     0,     0,\n",
       "            0,     0,     0,     0,     0,     0,     0,     0,     0,\n",
       "            0,     0,     0,     0,     0,     0,     0,     0,     0,\n",
       "            0,     0,     0,     0,     0,     0,     0,     0,     0,\n",
       "            0,     0,     0,     0,     0,     0,     0,     0,     0,\n",
       "            0,     0,     0,     0,     0,     0,     0,     0,     0,\n",
       "            0,     0,     0,     0, 51595, 35978, 13218, 44710, 63493,\n",
       "        59821, 17766, 59438, 44710, 18994, 71386, 22230, 10399,  9173,\n",
       "        44074,  2925, 10461,  2519, 55074, 40586, 17239, 72801, 51788,\n",
       "        21444],\n",
       "       [    0,     0,     0,     0,     0,     0,     0,     0,     0,\n",
       "            0,     0,     0,     0,     0,     0,     0,     0,     0,\n",
       "            0,     0,     0,     0,     0,     0,     0,     0,     0,\n",
       "            0,     0,     0,     0,     0,     0,     0,     0,     0,\n",
       "            0,     0,     0,     0,     0,     0,     0,     0,     0,\n",
       "            0,     0, 13192, 43593, 54032, 32548, 51595, 35978, 49051,\n",
       "        43937, 19393, 27724, 24685, 17766, 33637,  4225, 42332,  6894,\n",
       "         3697, 64485, 55957, 51421, 34619, 44710, 13833, 65660, 46813,\n",
       "        17488, 68521, 51688, 13093, 55957, 36840, 10461, 51793, 28757,\n",
       "        44710, 67514, 57133, 36840, 57301, 31195,  4852, 40493, 51595,\n",
       "        13854, 35978, 11156, 46361, 43937, 51793, 44710, 30877, 72801,\n",
       "        55074],\n",
       "       [    0,     0,     0,     0,     0,     0,     0,     0,     0,\n",
       "            0,     0,     0,     0,     0,     0,     0,     0,     0,\n",
       "            0,     0,     0,     0,     0,     0,     0,     0,     0,\n",
       "            0,     0,     0,     0,     0,     0,     0,     0,     0,\n",
       "            0,     0,     0,     0,     0,     0,     0,     0,     0,\n",
       "            0,     0,     0,     0,     0,     0,     0,     0,     0,\n",
       "            0,     0,     0,     0,     0,     0,     0,     0,     0,\n",
       "            0,     0,     0,     0,     0,     0,     0,     0,     0,\n",
       "            0,     0,     0,     0,     0,     0,     0, 51595, 35978,\n",
       "        10461, 44710,  9171, 55865, 18994, 17766, 44074,  4852,  1775,\n",
       "        56861, 13651, 34443, 63493, 72801, 39205, 31808, 36840, 23465,\n",
       "        12431],\n",
       "       [17101, 54032,  4852, 56740, 71394, 51091, 47654, 34710, 13094,\n",
       "        43937, 44710, 59104, 43937, 10742, 49332, 44074,  4852, 13076,\n",
       "        72801, 15973, 31808, 54032,  1400, 45415, 71394, 51091, 33637,\n",
       "        51595,  4852, 44710, 18665, 13076, 31224,   160, 55957, 72801,\n",
       "        41829, 29186, 54032, 12431, 38731, 27470, 49332, 19866, 13785,\n",
       "        21982, 36840, 54032, 17488,  3697, 22887, 55957, 44710, 22240,\n",
       "        72801, 71394, 31242, 72068, 44074, 63789, 55074, 37899,  5604,\n",
       "        36840, 28806, 11112, 52497, 72801,  8660,  5724, 36840, 26365,\n",
       "        24334,  6237,  2645, 35978, 13076, 72801, 71394, 56114,  5146,\n",
       "        33637, 49332, 35978, 32416, 45049, 44710, 58242, 52497, 72801,\n",
       "        17068, 72801, 39205,  8630, 15537, 44710, 25586, 50760, 72801,\n",
       "        13600]])"
      ]
     },
     "execution_count": 18,
     "metadata": {},
     "output_type": "execute_result"
    }
   ],
   "source": [
    "features[:10,:100]"
   ]
  },
  {
   "cell_type": "markdown",
   "metadata": {},
   "source": [
    "## Training, Validation, Test\n",
    "\n"
   ]
  },
  {
   "cell_type": "markdown",
   "metadata": {},
   "source": [
    "With our data in nice shape, we'll split it into training, validation, and test sets.\n",
    "\n",
    "> **Exercise:** Create the training, validation, and test sets here. You'll need to create sets for the features and the labels, `train_x` and `train_y` for example. Define a split fraction, `split_frac` as the fraction of data to keep in the training set. Usually this is set to 0.8 or 0.9. The rest of the data will be split in half to create the validation and testing data."
   ]
  },
  {
   "cell_type": "code",
   "execution_count": 19,
   "metadata": {},
   "outputs": [
    {
     "name": "stdout",
     "output_type": "stream",
     "text": [
      "\t\t\tFeature Shapes:\n",
      "Train set: \t\t(20000, 200) \n",
      "Validation set: \t(2500, 200) \n",
      "Test set: \t\t(2500, 200)\n"
     ]
    }
   ],
   "source": [
    "split_frac = 0.8\n",
    "\n",
    "split_index = int(len(features)*split_frac)\n",
    "\n",
    "train_x, val_x = features[:split_index],features[split_index:]\n",
    "train_y, val_y = labels[:split_index],labels[split_index:]\n",
    "\n",
    "half_index = int(len(val_x)*0.5)\n",
    "\n",
    "val_x, test_x = val_x[:half_index], val_x[half_index:]\n",
    "val_y, test_y = val_y[:half_index], val_y[half_index:]\n",
    "\n",
    "print(\"\\t\\t\\tFeature Shapes:\")\n",
    "print(\"Train set: \\t\\t{}\".format(train_x.shape), \n",
    "      \"\\nValidation set: \\t{}\".format(val_x.shape),\n",
    "      \"\\nTest set: \\t\\t{}\".format(test_x.shape))"
   ]
  },
  {
   "cell_type": "markdown",
   "metadata": {},
   "source": [
    "With train, validation, and text fractions of 0.8, 0.1, 0.1, the final shapes should look like:\n",
    "```\n",
    "                    Feature Shapes:\n",
    "Train set: \t\t (20000, 200) \n",
    "Validation set: \t(2500, 200) \n",
    "Test set: \t\t  (2500, 200)\n",
    "```"
   ]
  },
  {
   "cell_type": "markdown",
   "metadata": {},
   "source": [
    "## Build the graph\n",
    "\n",
    "Here, we'll build the graph. First up, defining the hyperparameters.\n",
    "\n",
    "* `lstm_size`: Number of units in the hidden layers in the LSTM cells. Usually larger is better performance wise. Common values are 128, 256, 512, etc.\n",
    "* `lstm_layers`: Number of LSTM layers in the network. I'd start with 1, then add more if I'm underfitting.\n",
    "* `batch_size`: The number of reviews to feed the network in one training pass. Typically this should be set as high as you can go without running out of memory.\n",
    "* `learning_rate`: Learning rate"
   ]
  },
  {
   "cell_type": "code",
   "execution_count": 21,
   "metadata": {},
   "outputs": [],
   "source": [
    "lstm_size = 256\n",
    "lstm_layers = 1\n",
    "batch_size = 500\n",
    "learning_rate = 0.001"
   ]
  },
  {
   "cell_type": "markdown",
   "metadata": {},
   "source": [
    "For the network itself, we'll be passing in our 200 element long review vectors. Each batch will be `batch_size` vectors. We'll also be using dropout on the LSTM layer, so we'll make a placeholder for the keep probability."
   ]
  },
  {
   "cell_type": "markdown",
   "metadata": {},
   "source": [
    "> **Exercise:** Create the `inputs_`, `labels_`, and drop out `keep_prob` placeholders using `tf.placeholder`. `labels_` needs to be two-dimensional to work with some functions later.  Since `keep_prob` is a scalar (a 0-dimensional tensor), you shouldn't provide a size to `tf.placeholder`."
   ]
  },
  {
   "cell_type": "code",
   "execution_count": 22,
   "metadata": {},
   "outputs": [],
   "source": [
    "n_words = len(vocab_to_int) + 1 # Adding 1 because we use 0's for padding, dictionary started at 1\n",
    "\n",
    "# Create the graph object\n",
    "graph = tf.Graph()\n",
    "# Add nodes to the graph\n",
    "with graph.as_default():\n",
    "    inputs_ = tf.placeholder(tf.int32, shape=[batch_size,seq_len])\n",
    "    labels_ = tf.placeholder(tf.int32, shape=[batch_size,None])\n",
    "    keep_prob = tf.placeholder(tf.float32)"
   ]
  },
  {
   "cell_type": "markdown",
   "metadata": {},
   "source": [
    "### Embedding\n",
    "\n",
    "Now we'll add an embedding layer. We need to do this because there are 74000 words in our vocabulary. It is massively inefficient to one-hot encode our classes here. You should remember dealing with this problem from the word2vec lesson. Instead of one-hot encoding, we can have an embedding layer and use that layer as a lookup table. You could train an embedding layer using word2vec, then load it here. But, it's fine to just make a new layer and let the network learn the weights.\n",
    "\n",
    "> **Exercise:** Create the embedding lookup matrix as a `tf.Variable`. Use that embedding matrix to get the embedded vectors to pass to the LSTM cell with [`tf.nn.embedding_lookup`](https://www.tensorflow.org/api_docs/python/tf/nn/embedding_lookup). This function takes the embedding matrix and an input tensor, such as the review vectors. Then, it'll return another tensor with the embedded vectors. So, if the embedding layer has 200 units, the function will return a tensor with size [batch_size, 200].\n",
    "\n"
   ]
  },
  {
   "cell_type": "code",
   "execution_count": 23,
   "metadata": {},
   "outputs": [],
   "source": [
    "# Size of the embedding vectors (number of units in the embedding layer)\n",
    "embed_size = 300 \n",
    "\n",
    "with graph.as_default():\n",
    "    embedding = tf.Variable(tf.random_uniform([n_words, embed_size],minval=-1,maxval=1))\n",
    "    embed = tf.nn.embedding_lookup(embedding, inputs_)"
   ]
  },
  {
   "cell_type": "code",
   "execution_count": 24,
   "metadata": {},
   "outputs": [
    {
     "data": {
      "text/plain": [
       "TensorShape([Dimension(500), Dimension(200), Dimension(300)])"
      ]
     },
     "execution_count": 24,
     "metadata": {},
     "output_type": "execute_result"
    }
   ],
   "source": [
    "embed.shape"
   ]
  },
  {
   "cell_type": "markdown",
   "metadata": {},
   "source": [
    "### LSTM cell\n",
    "\n",
    "<img src=\"assets/network_diagram.png\" width=400px>\n",
    "\n",
    "Next, we'll create our LSTM cells to use in the recurrent network ([TensorFlow documentation](https://www.tensorflow.org/api_docs/python/tf/contrib/rnn)). Here we are just defining what the cells look like. This isn't actually building the graph, just defining the type of cells we want in our graph.\n",
    "\n",
    "To create a basic LSTM cell for the graph, you'll want to use `tf.contrib.rnn.BasicLSTMCell`. Looking at the function documentation:\n",
    "\n",
    "```\n",
    "tf.contrib.rnn.BasicLSTMCell(num_units, forget_bias=1.0, input_size=None, state_is_tuple=True, activation=<function tanh at 0x109f1ef28>)\n",
    "```\n",
    "\n",
    "you can see it takes a parameter called `num_units`, the number of units in the cell, called `lstm_size` in this code. So then, you can write something like \n",
    "\n",
    "```\n",
    "lstm = tf.contrib.rnn.BasicLSTMCell(num_units)\n",
    "```\n",
    "\n",
    "to create an LSTM cell with `num_units`. Next, you can add dropout to the cell with `tf.contrib.rnn.DropoutWrapper`. This just wraps the cell in another cell, but with dropout added to the inputs and/or outputs. It's a really convenient way to make your network better with almost no effort! So you'd do something like\n",
    "\n",
    "```\n",
    "drop = tf.contrib.rnn.DropoutWrapper(cell, output_keep_prob=keep_prob)\n",
    "```\n",
    "\n",
    "Most of the time, your network will have better performance with more layers. That's sort of the magic of deep learning, adding more layers allows the network to learn really complex relationships. Again, there is a simple way to create multiple layers of LSTM cells with `tf.contrib.rnn.MultiRNNCell`:\n",
    "\n",
    "```\n",
    "cell = tf.contrib.rnn.MultiRNNCell([drop] * lstm_layers)\n",
    "```\n",
    "\n",
    "Here, `[drop] * lstm_layers` creates a list of cells (`drop`) that is `lstm_layers` long. The `MultiRNNCell` wrapper builds this into multiple layers of RNN cells, one for each cell in the list.\n",
    "\n",
    "So the final cell you're using in the network is actually multiple (or just one) LSTM cells with dropout. But it all works the same from an architectural viewpoint, just a more complicated graph in the cell.\n",
    "\n",
    "> **Exercise:** Below, use `tf.contrib.rnn.BasicLSTMCell` to create an LSTM cell. Then, add drop out to it with `tf.contrib.rnn.DropoutWrapper`. Finally, create multiple LSTM layers with `tf.contrib.rnn.MultiRNNCell`.\n",
    "\n",
    "Here is [a tutorial on building RNNs](https://www.tensorflow.org/tutorials/recurrent) that will help you out.\n"
   ]
  },
  {
   "cell_type": "code",
   "execution_count": 25,
   "metadata": {},
   "outputs": [],
   "source": [
    "with graph.as_default():\n",
    "    \n",
    "     # Your basic LSTM cell\n",
    "    lstm = tf.contrib.rnn.BasicLSTMCell(lstm_size)\n",
    "    \n",
    "    # Add dropout to the cell\n",
    "    drop = tf.contrib.rnn.DropoutWrapper(lstm, output_keep_prob=keep_prob)\n",
    "    \n",
    "    \n",
    "    # Stack up multiple LSTM layers, for deep learning\n",
    "    cell = tf.contrib.rnn.MultiRNNCell([drop] * lstm_layers)\n",
    "    \n",
    "    # Getting an initial state of all zeros\n",
    "    initial_state = cell.zero_state(batch_size, tf.float32)"
   ]
  },
  {
   "cell_type": "markdown",
   "metadata": {},
   "source": [
    "### RNN forward pass\n",
    "\n",
    "<img src=\"assets/network_diagram.png\" width=400px>\n",
    "\n",
    "Now we need to actually run the data through the RNN nodes. You can use [`tf.nn.dynamic_rnn`](https://www.tensorflow.org/api_docs/python/tf/nn/dynamic_rnn) to do this. You'd pass in the RNN cell you created (our multiple layered LSTM `cell` for instance), and the inputs to the network.\n",
    "\n",
    "```\n",
    "outputs, final_state = tf.nn.dynamic_rnn(cell, inputs, initial_state=initial_state)\n",
    "```\n",
    "\n",
    "Above I created an initial state, `initial_state`, to pass to the RNN. This is the cell state that is passed between the hidden layers in successive time steps. `tf.nn.dynamic_rnn` takes care of most of the work for us. We pass in our cell and the input to the cell, then it does the unrolling and everything else for us. It returns outputs for each time step and the final_state of the hidden layer.\n",
    "\n",
    "> **Exercise:** Use `tf.nn.dynamic_rnn` to add the forward pass through the RNN. Remember that we're actually passing in vectors from the embedding layer, `embed`.\n",
    "\n"
   ]
  },
  {
   "cell_type": "code",
   "execution_count": 26,
   "metadata": {},
   "outputs": [],
   "source": [
    "with graph.as_default():\n",
    "    outputs, final_state = tf.nn.dynamic_rnn(cell, embed, initial_state=initial_state)"
   ]
  },
  {
   "cell_type": "code",
   "execution_count": 27,
   "metadata": {},
   "outputs": [
    {
     "data": {
      "text/plain": [
       "TensorShape([Dimension(500), Dimension(200), Dimension(300)])"
      ]
     },
     "execution_count": 27,
     "metadata": {},
     "output_type": "execute_result"
    }
   ],
   "source": [
    "embed.shape"
   ]
  },
  {
   "cell_type": "code",
   "execution_count": 28,
   "metadata": {},
   "outputs": [
    {
     "data": {
      "text/plain": [
       "TensorShape([Dimension(500), Dimension(200), Dimension(256)])"
      ]
     },
     "execution_count": 28,
     "metadata": {},
     "output_type": "execute_result"
    }
   ],
   "source": [
    "outputs.shape"
   ]
  },
  {
   "cell_type": "markdown",
   "metadata": {},
   "source": [
    "### Output\n",
    "\n",
    "We only care about the final output, we'll be using that as our sentiment prediction. So we need to grab the last output with `outputs[:, -1]`, the calculate the cost from that and `labels_`."
   ]
  },
  {
   "cell_type": "code",
   "execution_count": 29,
   "metadata": {},
   "outputs": [
    {
     "data": {
      "text/plain": [
       "TensorShape([Dimension(500), Dimension(None)])"
      ]
     },
     "execution_count": 29,
     "metadata": {},
     "output_type": "execute_result"
    }
   ],
   "source": [
    "labels_.shape"
   ]
  },
  {
   "cell_type": "code",
   "execution_count": 30,
   "metadata": {},
   "outputs": [],
   "source": [
    "with graph.as_default():\n",
    "    predictions = tf.contrib.layers.fully_connected(outputs[:, -1], 1, activation_fn=tf.sigmoid)\n",
    "    cost = tf.losses.mean_squared_error(labels_, predictions)\n",
    "    \n",
    "    optimizer = tf.train.AdamOptimizer(learning_rate).minimize(cost)"
   ]
  },
  {
   "cell_type": "markdown",
   "metadata": {},
   "source": [
    "### Validation accuracy\n",
    "\n",
    "Here we can add a few nodes to calculate the accuracy which we'll use in the validation pass."
   ]
  },
  {
   "cell_type": "code",
   "execution_count": 31,
   "metadata": {},
   "outputs": [],
   "source": [
    "with graph.as_default():\n",
    "    correct_pred = tf.equal(tf.cast(tf.round(predictions), tf.int32), labels_)\n",
    "    accuracy = tf.reduce_mean(tf.cast(correct_pred, tf.float32))"
   ]
  },
  {
   "cell_type": "code",
   "execution_count": 32,
   "metadata": {},
   "outputs": [
    {
     "data": {
      "text/plain": [
       "TensorShape([Dimension(500), Dimension(None)])"
      ]
     },
     "execution_count": 32,
     "metadata": {},
     "output_type": "execute_result"
    }
   ],
   "source": [
    "correct_pred.shape"
   ]
  },
  {
   "cell_type": "code",
   "execution_count": 33,
   "metadata": {},
   "outputs": [
    {
     "data": {
      "text/plain": [
       "TensorShape([])"
      ]
     },
     "execution_count": 33,
     "metadata": {},
     "output_type": "execute_result"
    }
   ],
   "source": [
    "accuracy.shape"
   ]
  },
  {
   "cell_type": "markdown",
   "metadata": {},
   "source": [
    "### Batching\n",
    "\n",
    "This is a simple function for returning batches from our data. First it removes data such that we only have full batches. Then it iterates through the `x` and `y` arrays and returns slices out of those arrays with size `[batch_size]`."
   ]
  },
  {
   "cell_type": "code",
   "execution_count": 34,
   "metadata": {},
   "outputs": [],
   "source": [
    "def get_batches(x, y, batch_size=100):\n",
    "    \n",
    "    n_batches = len(x)//batch_size\n",
    "    x, y = x[:n_batches*batch_size], y[:n_batches*batch_size]\n",
    "    for ii in range(0, len(x), batch_size):\n",
    "        yield x[ii:ii+batch_size], y[ii:ii+batch_size]"
   ]
  },
  {
   "cell_type": "markdown",
   "metadata": {},
   "source": [
    "## Training\n",
    "\n",
    "Below is the typical training code. If you want to do this yourself, feel free to delete all this code and implement it yourself. Before you run this, make sure the `checkpoints` directory exists."
   ]
  },
  {
   "cell_type": "code",
   "execution_count": 35,
   "metadata": {},
   "outputs": [
    {
     "name": "stdout",
     "output_type": "stream",
     "text": [
      "Epoch: 0/10 Iteration: 5 Train loss: 0.243\n",
      "Epoch: 0/10 Iteration: 10 Train loss: 0.240\n",
      "Epoch: 0/10 Iteration: 15 Train loss: 0.219\n",
      "Epoch: 0/10 Iteration: 20 Train loss: 0.197\n",
      "Epoch: 0/10 Iteration: 25 Train loss: 0.183\n",
      "Val acc: 0.725\n",
      "Epoch: 0/10 Iteration: 30 Train loss: 0.194\n",
      "Epoch: 0/10 Iteration: 35 Train loss: 0.176\n",
      "Epoch: 0/10 Iteration: 40 Train loss: 0.153\n",
      "Epoch: 1/10 Iteration: 45 Train loss: 0.148\n",
      "Epoch: 1/10 Iteration: 50 Train loss: 0.166\n",
      "Val acc: 0.756\n",
      "Epoch: 1/10 Iteration: 55 Train loss: 0.141\n",
      "Epoch: 1/10 Iteration: 60 Train loss: 0.122\n",
      "Epoch: 1/10 Iteration: 65 Train loss: 0.129\n",
      "Epoch: 1/10 Iteration: 70 Train loss: 0.125\n",
      "Epoch: 1/10 Iteration: 75 Train loss: 0.126\n",
      "Val acc: 0.791\n",
      "Epoch: 1/10 Iteration: 80 Train loss: 0.128\n",
      "Epoch: 2/10 Iteration: 85 Train loss: 0.129\n",
      "Epoch: 2/10 Iteration: 90 Train loss: 0.149\n",
      "Epoch: 2/10 Iteration: 95 Train loss: 0.108\n",
      "Epoch: 2/10 Iteration: 100 Train loss: 0.149\n",
      "Val acc: 0.762\n",
      "Epoch: 2/10 Iteration: 105 Train loss: 0.125\n",
      "Epoch: 2/10 Iteration: 110 Train loss: 0.146\n",
      "Epoch: 2/10 Iteration: 115 Train loss: 0.129\n",
      "Epoch: 2/10 Iteration: 120 Train loss: 0.096\n",
      "Epoch: 3/10 Iteration: 125 Train loss: 0.100\n",
      "Val acc: 0.802\n",
      "Epoch: 3/10 Iteration: 130 Train loss: 0.158\n",
      "Epoch: 3/10 Iteration: 135 Train loss: 0.127\n",
      "Epoch: 3/10 Iteration: 140 Train loss: 0.251\n",
      "Epoch: 3/10 Iteration: 145 Train loss: 0.156\n",
      "Epoch: 3/10 Iteration: 150 Train loss: 0.150\n",
      "Val acc: 0.734\n",
      "Epoch: 3/10 Iteration: 155 Train loss: 0.123\n",
      "Epoch: 3/10 Iteration: 160 Train loss: 0.134\n",
      "Epoch: 4/10 Iteration: 165 Train loss: 0.077\n",
      "Epoch: 4/10 Iteration: 170 Train loss: 0.118\n",
      "Epoch: 4/10 Iteration: 175 Train loss: 0.071\n",
      "Val acc: 0.793\n",
      "Epoch: 4/10 Iteration: 180 Train loss: 0.097\n",
      "Epoch: 4/10 Iteration: 185 Train loss: 0.082\n",
      "Epoch: 4/10 Iteration: 190 Train loss: 0.082\n",
      "Epoch: 4/10 Iteration: 195 Train loss: 0.075\n",
      "Epoch: 4/10 Iteration: 200 Train loss: 0.068\n",
      "Val acc: 0.821\n",
      "Epoch: 5/10 Iteration: 205 Train loss: 0.114\n",
      "Epoch: 5/10 Iteration: 210 Train loss: 0.103\n",
      "Epoch: 5/10 Iteration: 215 Train loss: 0.075\n",
      "Epoch: 5/10 Iteration: 220 Train loss: 0.087\n",
      "Epoch: 5/10 Iteration: 225 Train loss: 0.099\n",
      "Val acc: 0.810\n",
      "Epoch: 5/10 Iteration: 230 Train loss: 0.305\n",
      "Epoch: 5/10 Iteration: 235 Train loss: 0.177\n",
      "Epoch: 5/10 Iteration: 240 Train loss: 0.195\n",
      "Epoch: 6/10 Iteration: 245 Train loss: 0.122\n",
      "Epoch: 6/10 Iteration: 250 Train loss: 0.111\n",
      "Val acc: 0.751\n",
      "Epoch: 6/10 Iteration: 255 Train loss: 0.138\n",
      "Epoch: 6/10 Iteration: 260 Train loss: 0.134\n",
      "Epoch: 6/10 Iteration: 265 Train loss: 0.098\n",
      "Epoch: 6/10 Iteration: 270 Train loss: 0.077\n",
      "Epoch: 6/10 Iteration: 275 Train loss: 0.103\n",
      "Val acc: 0.834\n",
      "Epoch: 6/10 Iteration: 280 Train loss: 0.130\n",
      "Epoch: 7/10 Iteration: 285 Train loss: 0.091\n",
      "Epoch: 7/10 Iteration: 290 Train loss: 0.091\n",
      "Epoch: 7/10 Iteration: 295 Train loss: 0.063\n",
      "Epoch: 7/10 Iteration: 300 Train loss: 0.066\n",
      "Val acc: 0.839\n",
      "Epoch: 7/10 Iteration: 305 Train loss: 0.045\n",
      "Epoch: 7/10 Iteration: 310 Train loss: 0.086\n",
      "Epoch: 7/10 Iteration: 315 Train loss: 0.083\n",
      "Epoch: 7/10 Iteration: 320 Train loss: 0.077\n",
      "Epoch: 8/10 Iteration: 325 Train loss: 0.075\n",
      "Val acc: 0.836\n",
      "Epoch: 8/10 Iteration: 330 Train loss: 0.109\n",
      "Epoch: 8/10 Iteration: 335 Train loss: 0.158\n",
      "Epoch: 8/10 Iteration: 340 Train loss: 0.072\n",
      "Epoch: 8/10 Iteration: 345 Train loss: 0.099\n",
      "Epoch: 8/10 Iteration: 350 Train loss: 0.062\n",
      "Val acc: 0.783\n",
      "Epoch: 8/10 Iteration: 355 Train loss: 0.073\n",
      "Epoch: 8/10 Iteration: 360 Train loss: 0.048\n",
      "Epoch: 9/10 Iteration: 365 Train loss: 0.048\n",
      "Epoch: 9/10 Iteration: 370 Train loss: 0.058\n",
      "Epoch: 9/10 Iteration: 375 Train loss: 0.043\n",
      "Val acc: 0.854\n",
      "Epoch: 9/10 Iteration: 380 Train loss: 0.049\n",
      "Epoch: 9/10 Iteration: 385 Train loss: 0.041\n",
      "Epoch: 9/10 Iteration: 390 Train loss: 0.045\n",
      "Epoch: 9/10 Iteration: 395 Train loss: 0.046\n",
      "Epoch: 9/10 Iteration: 400 Train loss: 0.029\n",
      "Val acc: 0.866\n"
     ]
    }
   ],
   "source": [
    "epochs = 10\n",
    "\n",
    "with graph.as_default():\n",
    "    saver = tf.train.Saver()\n",
    "\n",
    "with tf.Session(graph=graph) as sess:\n",
    "    sess.run(tf.global_variables_initializer())\n",
    "    iteration = 1\n",
    "    for e in range(epochs):\n",
    "        state = sess.run(initial_state)\n",
    "        \n",
    "        for ii, (x, y) in enumerate(get_batches(train_x, train_y, batch_size), 1):\n",
    "            feed = {inputs_: x,\n",
    "                    labels_: y[:, None],\n",
    "                    keep_prob: 0.5,\n",
    "                    initial_state: state}\n",
    "            loss, state, _ = sess.run([cost, final_state, optimizer], feed_dict=feed)\n",
    "            \n",
    "            if iteration%5==0:\n",
    "                print(\"Epoch: {}/{}\".format(e, epochs),\n",
    "                      \"Iteration: {}\".format(iteration),\n",
    "                      \"Train loss: {:.3f}\".format(loss))\n",
    "\n",
    "            if iteration%25==0:\n",
    "                val_acc = []\n",
    "                val_state = sess.run(cell.zero_state(batch_size, tf.float32))\n",
    "                for x, y in get_batches(val_x, val_y, batch_size):\n",
    "                    feed = {inputs_: x,\n",
    "                            labels_: y[:, None],\n",
    "                            keep_prob: 1,\n",
    "                            initial_state: val_state}\n",
    "                    batch_acc, val_state = sess.run([accuracy, final_state], feed_dict=feed)\n",
    "                    val_acc.append(batch_acc)\n",
    "                print(\"Val acc: {:.3f}\".format(np.mean(val_acc)))\n",
    "            iteration +=1\n",
    "    saver.save(sess, \"checkpoints/sentiment.ckpt\")"
   ]
  },
  {
   "cell_type": "markdown",
   "metadata": {},
   "source": [
    "## Testing"
   ]
  },
  {
   "cell_type": "code",
   "execution_count": 36,
   "metadata": {},
   "outputs": [
    {
     "name": "stdout",
     "output_type": "stream",
     "text": [
      "Test accuracy: 0.855\n"
     ]
    }
   ],
   "source": [
    "test_acc = []\n",
    "with tf.Session(graph=graph) as sess:\n",
    "    saver.restore(sess, tf.train.latest_checkpoint('checkpoints'))\n",
    "    test_state = sess.run(cell.zero_state(batch_size, tf.float32))\n",
    "    for ii, (x, y) in enumerate(get_batches(test_x, test_y, batch_size), 1):\n",
    "        feed = {inputs_: x,\n",
    "                labels_: y[:, None],\n",
    "                keep_prob: 1,\n",
    "                initial_state: test_state}\n",
    "        batch_acc, test_state = sess.run([accuracy, final_state], feed_dict=feed)\n",
    "        test_acc.append(batch_acc)\n",
    "    print(\"Test accuracy: {:.3f}\".format(np.mean(test_acc)))"
   ]
  }
 ],
 "metadata": {
  "kernelspec": {
   "display_name": "Python 3",
   "language": "python",
   "name": "python3"
  },
  "language_info": {
   "codemirror_mode": {
    "name": "ipython",
    "version": 3
   },
   "file_extension": ".py",
   "mimetype": "text/x-python",
   "name": "python",
   "nbconvert_exporter": "python",
   "pygments_lexer": "ipython3",
   "version": "3.6.4"
  }
 },
 "nbformat": 4,
 "nbformat_minor": 2
}
